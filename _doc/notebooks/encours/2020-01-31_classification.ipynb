{
  "cells": [
    {
      "cell_type": "markdown",
      "metadata": {},
      "source": [
        "# Classification\n",
        "\n",
        "Notebook autour d'un cas de classification binaire."
      ]
    },
    {
      "cell_type": "code",
      "execution_count": 1,
      "metadata": {},
      "outputs": [
        {
          "data": {
            "text/html": [
              "<div id=\"my_id_menu_nb\">run previous cell, wait for 2 seconds</div>\n",
              "<script>\n",
              "function repeat_indent_string(n){\n",
              "    var a = \"\" ;\n",
              "    for ( ; n > 0 ; --n)\n",
              "        a += \"    \";\n",
              "    return a;\n",
              "}\n",
              "// look up into all sections and builds an automated menu //\n",
              "var update_menu_string = function(begin, lfirst, llast, sformat, send, keep_item, begin_format, end_format) {\n",
              "    var anchors = document.getElementsByClassName(\"section\");\n",
              "    if (anchors.length == 0) {\n",
              "        anchors = document.getElementsByClassName(\"text_cell_render rendered_html\");\n",
              "    }\n",
              "    var i,t;\n",
              "    var text_menu = begin;\n",
              "    var text_memo = \"<pre>\\nlength:\" + anchors.length + \"\\n\";\n",
              "    var ind = \"\";\n",
              "    var memo_level = 1;\n",
              "    var href;\n",
              "    var tags = [];\n",
              "    var main_item = 0;\n",
              "    var format_open = 0;\n",
              "    for (i = 0; i <= llast; i++)\n",
              "        tags.push(\"h\" + i);\n",
              "\n",
              "    for (i = 0; i < anchors.length; i++) {\n",
              "        text_memo += \"**\" + anchors[i].id + \"--\\n\";\n",
              "\n",
              "        var child = null;\n",
              "        for(t = 0; t < tags.length; t++) {\n",
              "            var r = anchors[i].getElementsByTagName(tags[t]);\n",
              "            if (r.length > 0) {\n",
              "child = r[0];\n",
              "break;\n",
              "            }\n",
              "        }\n",
              "        if (child == null) {\n",
              "            text_memo += \"null\\n\";\n",
              "            continue;\n",
              "        }\n",
              "        if (anchors[i].hasAttribute(\"id\")) {\n",
              "            // when converted in RST\n",
              "            href = anchors[i].id;\n",
              "            text_memo += \"#1-\" + href;\n",
              "            // passer \u00e0 child suivant (le chercher)\n",
              "        }\n",
              "        else if (child.hasAttribute(\"id\")) {\n",
              "            // in a notebook\n",
              "            href = child.id;\n",
              "            text_memo += \"#2-\" + href;\n",
              "        }\n",
              "        else {\n",
              "            text_memo += \"#3-\" + \"*\" + \"\\n\";\n",
              "            continue;\n",
              "        }\n",
              "        var title = child.textContent;\n",
              "        var level = parseInt(child.tagName.substring(1,2));\n",
              "\n",
              "        text_memo += \"--\" + level + \"?\" + lfirst + \"--\" + title + \"\\n\";\n",
              "\n",
              "        if ((level < lfirst) || (level > llast)) {\n",
              "            continue ;\n",
              "        }\n",
              "        if (title.endsWith('\u00b6')) {\n",
              "            title = title.substring(0,title.length-1).replace(\"<\", \"&lt;\")\n",
              "         .replace(\">\", \"&gt;\").replace(\"&\", \"&amp;\");\n",
              "        }\n",
              "        if (title.length == 0) {\n",
              "            continue;\n",
              "        }\n",
              "\n",
              "        while (level < memo_level) {\n",
              "            text_menu += end_format + \"</ul>\\n\";\n",
              "            format_open -= 1;\n",
              "            memo_level -= 1;\n",
              "        }\n",
              "        if (level == lfirst) {\n",
              "            main_item += 1;\n",
              "        }\n",
              "        if (keep_item != -1 && main_item != keep_item + 1) {\n",
              "            // alert(main_item + \" - \" + level + \" - \" + keep_item);\n",
              "            continue;\n",
              "        }\n",
              "        while (level > memo_level) {\n",
              "            text_menu += \"<ul>\\n\";\n",
              "            memo_level += 1;\n",
              "        }\n",
              "        text_menu += repeat_indent_string(level-2);\n",
              "        text_menu += begin_format + sformat.replace(\"__HREF__\", href).replace(\"__TITLE__\", title);\n",
              "        format_open += 1;\n",
              "    }\n",
              "    while (1 < memo_level) {\n",
              "        text_menu += end_format + \"</ul>\\n\";\n",
              "        memo_level -= 1;\n",
              "        format_open -= 1;\n",
              "    }\n",
              "    text_menu += send;\n",
              "    //text_menu += \"\\n\" + text_memo;\n",
              "\n",
              "    while (format_open > 0) {\n",
              "        text_menu += end_format;\n",
              "        format_open -= 1;\n",
              "    }\n",
              "    return text_menu;\n",
              "};\n",
              "var update_menu = function() {\n",
              "    var sbegin = \"\";\n",
              "    var sformat = '<a href=\"#__HREF__\">__TITLE__</a>';\n",
              "    var send = \"\";\n",
              "    var begin_format = '<li>';\n",
              "    var end_format = '</li>';\n",
              "    var keep_item = -1;\n",
              "    var text_menu = update_menu_string(sbegin, 2, 4, sformat, send, keep_item,\n",
              "       begin_format, end_format);\n",
              "    var menu = document.getElementById(\"my_id_menu_nb\");\n",
              "    menu.innerHTML=text_menu;\n",
              "};\n",
              "window.setTimeout(update_menu,2000);\n",
              "            </script>"
            ],
            "text/plain": [
              "<IPython.core.display.HTML object>"
            ]
          },
          "execution_count": 2,
          "metadata": {},
          "output_type": "execute_result"
        }
      ],
      "source": [
        "from jyquickhelper import add_notebook_menu\n",
        "add_notebook_menu()"
      ]
    },
    {
      "cell_type": "code",
      "execution_count": 2,
      "metadata": {},
      "outputs": [],
      "source": [
        "%matplotlib inline"
      ]
    },
    {
      "cell_type": "markdown",
      "metadata": {},
      "source": [
        "## Les donn\u00e9es"
      ]
    },
    {
      "cell_type": "code",
      "execution_count": 3,
      "metadata": {},
      "outputs": [],
      "source": [
        "from sklearn.datasets import load_breast_cancer\n",
        "data = load_breast_cancer()"
      ]
    },
    {
      "cell_type": "code",
      "execution_count": 4,
      "metadata": {},
      "outputs": [],
      "source": [
        "X, y = data.data, data.target"
      ]
    },
    {
      "cell_type": "code",
      "execution_count": 5,
      "metadata": {},
      "outputs": [],
      "source": [
        "from sklearn.model_selection import train_test_split\n",
        "X_train, X_test, y_train, y_test = train_test_split(X, y)"
      ]
    },
    {
      "cell_type": "code",
      "execution_count": 6,
      "metadata": {},
      "outputs": [
        {
          "data": {
            "text/plain": [
              "(569, 30)"
            ]
          },
          "execution_count": 7,
          "metadata": {},
          "output_type": "execute_result"
        }
      ],
      "source": [
        "X.shape"
      ]
    },
    {
      "cell_type": "markdown",
      "metadata": {},
      "source": [
        "## ACP\n",
        "\n",
        "On projette les donn\u00e9es dans un plan, avec une couleur pour chaque classe pour voir si le probl\u00e8me para\u00eet simple ou non. Pour projeter les donn\u00e9es, le plus simple est une ACP. On conserver trois axes."
      ]
    },
    {
      "cell_type": "code",
      "execution_count": 7,
      "metadata": {},
      "outputs": [
        {
          "data": {
            "text/plain": [
              "PCA(copy=True, iterated_power='auto', n_components=3, random_state=None,\n",
              "    svd_solver='auto', tol=0.0, whiten=False)"
            ]
          },
          "execution_count": 8,
          "metadata": {},
          "output_type": "execute_result"
        }
      ],
      "source": [
        "from sklearn.decomposition import PCA\n",
        "acp = PCA(3)\n",
        "acp.fit(X_train, y_train)"
      ]
    },
    {
      "cell_type": "code",
      "execution_count": 8,
      "metadata": {},
      "outputs": [
        {
          "data": {
            "text/plain": [
              "(426, 3)"
            ]
          },
          "execution_count": 9,
          "metadata": {},
          "output_type": "execute_result"
        }
      ],
      "source": [
        "xacp = acp.transform(X_train)\n",
        "xacp.shape"
      ]
    },
    {
      "cell_type": "code",
      "execution_count": 9,
      "metadata": {},
      "outputs": [
        {
          "data": {
            "image/png": "[encoded data removed]",
            "text/plain": [
              "<Figure size 576x288 with 2 Axes>"
            ]
          },
          "metadata": {
            "needs_background": "light"
          },
          "output_type": "display_data"
        }
      ],
      "source": [
        "import matplotlib.pyplot as plt\n",
        "fig, ax = plt.subplots(1, 2, figsize=(8, 4))\n",
        "ax[0].plot(xacp[y_train == 0, 0], xacp[y_train == 0, 1], '.', label=\"cl0\")\n",
        "ax[0].plot(xacp[y_train == 1, 0], xacp[y_train == 1, 1], '.', label=\"cl1\")\n",
        "ax[1].plot(xacp[y_train == 0, 1], xacp[y_train == 0, 2], '.', label=\"cl0\")\n",
        "ax[1].plot(xacp[y_train == 1, 1], xacp[y_train == 1, 2], '.', label=\"cl1\")\n",
        "ax[0].legend();ax[1].legend();\n",
        "ax[0].set_title(\"axes 1, 2\");ax[1].set_title(\"axes 2, 3\");"
      ]
    },
    {
      "cell_type": "markdown",
      "metadata": {},
      "source": [
        "Le probl\u00e8me n'a pas l'air trop compliqu\u00e9."
      ]
    },
    {
      "cell_type": "markdown",
      "metadata": {},
      "source": [
        "## R\u00e9gression logistique"
      ]
    },
    {
      "cell_type": "code",
      "execution_count": 10,
      "metadata": {},
      "outputs": [],
      "source": [
        "from sklearn.linear_model import LogisticRegression"
      ]
    },
    {
      "cell_type": "code",
      "execution_count": 11,
      "metadata": {},
      "outputs": [
        {
          "data": {
            "text/plain": [
              "LogisticRegression(C=1.0, class_weight=None, dual=False, fit_intercept=True,\n",
              "                   intercept_scaling=1, l1_ratio=None, max_iter=100,\n",
              "                   multi_class='auto', n_jobs=None, penalty='l2',\n",
              "                   random_state=None, solver='lbfgs', tol=0.0001, verbose=0,\n",
              "                   warm_start=False)"
            ]
          },
          "execution_count": 12,
          "metadata": {},
          "output_type": "execute_result"
        }
      ],
      "source": [
        "logreg = LogisticRegression(solver='lbfgs')\n",
        "logreg.fit(xacp, y_train)"
      ]
    },
    {
      "cell_type": "markdown",
      "metadata": {},
      "source": [
        "Les coefficients. Si $(X_1, X_2, X_3)$ sont les coordonn\u00e9es des variables projet\u00e9es sur les trois axes, le mod\u00e8le d\u00e9finit une droite $f(x_1, x_2, x_3) = a_1 x_1 + a_2 x_2 + a_3 x_3 + b$."
      ]
    },
    {
      "cell_type": "code",
      "execution_count": 12,
      "metadata": {},
      "outputs": [
        {
          "data": {
            "text/plain": [
              "(array([[-0.01244239,  0.02897613, -0.0194635 ]]), array([-1.48191575]))"
            ]
          },
          "execution_count": 13,
          "metadata": {},
          "output_type": "execute_result"
        }
      ],
      "source": [
        "logreg.coef_, logreg.intercept_"
      ]
    },
    {
      "cell_type": "markdown",
      "metadata": {},
      "source": [
        "La courbe $f(x_1, x_2, x_3) = 0$ d\u00e9finit la fronti\u00e8re entre les deux classes, celle o\u00f9 la probabilit\u00e9 d'appartenir \u00e0 l'une ou l'autre classe est \u00e9gale \u00e0 $\\frac{1}{2}$. On ajoute cette fronti\u00e8re sur chacune des deux projections. $f(x_1, x_2, x_3) = a_1 x_1 + a_2 x_2 + a_3 x_3 + b = 0$. Sur la premi\u00e8re projection, $x_3 = 0$, donc la droite a pour \u00e9quation : $ a_1 x_1 + a_2 x_2 + a_3 x_3 + b = 0 \\Rightarrow x_2 = - \\frac{ a_1 x_1 + b}{a_2}$. C'est ce qu'on repr\u00e9sente ici."
      ]
    },
    {
      "cell_type": "code",
      "execution_count": 13,
      "metadata": {},
      "outputs": [
        {
          "data": {
            "image/png": "[encoded data removed]",
            "text/plain": [
              "<Figure size 576x288 with 2 Axes>"
            ]
          },
          "metadata": {
            "needs_background": "light"
          },
          "output_type": "display_data"
        }
      ],
      "source": [
        "import numpy\n",
        "X1 = numpy.array(list(range(-1000, 1000, 10)))\n",
        "X2 = (-logreg.intercept_[0]-logreg.coef_[0, 0]*X1) / logreg.coef_[0, 1]\n",
        "X22 = numpy.array(list(range(-100, 100, 10)))\n",
        "X3 = (-logreg.intercept_[0]-logreg.coef_[0, 1]*X22) / logreg.coef_[0, 2]\n",
        "\n",
        "import matplotlib.pyplot as plt\n",
        "fig, ax = plt.subplots(1, 2, figsize=(8, 4))\n",
        "ax[0].plot(xacp[y_train == 0, 0], xacp[y_train == 0, 1], '.', label=\"cl0\")\n",
        "ax[0].plot(xacp[y_train == 1, 0], xacp[y_train == 1, 1], '.', label=\"cl1\")\n",
        "ax[0].plot(X1, X2, '.', label=\"logreg\")\n",
        "ax[1].plot(xacp[y_train == 0, 1], xacp[y_train == 0, 2], '.', label=\"cl0\")\n",
        "ax[1].plot(xacp[y_train == 1, 1], xacp[y_train == 1, 2], '.', label=\"cl1\")\n",
        "ax[1].plot(X22, X3, '.', label=\"logreg\")\n",
        "ax[0].legend();ax[1].legend();\n",
        "ax[0].set_title(\"axes 1, 2\");ax[1].set_title(\"axes 2, 3\");"
      ]
    },
    {
      "cell_type": "markdown",
      "metadata": {},
      "source": [
        "On calcule la matrice de confusion. Il faut projeter les variables initiales sur les axes de l'ACP puis pr\u00e9dire."
      ]
    },
    {
      "cell_type": "code",
      "execution_count": 14,
      "metadata": {},
      "outputs": [],
      "source": [
        "xacp_test = acp.transform(X_test)\n",
        "pred = logreg.predict(xacp_test)"
      ]
    },
    {
      "cell_type": "code",
      "execution_count": 15,
      "metadata": {},
      "outputs": [
        {
          "data": {
            "text/plain": [
              "array([[42,  4],\n",
              "       [ 4, 93]], dtype=int64)"
            ]
          },
          "execution_count": 16,
          "metadata": {},
          "output_type": "execute_result"
        }
      ],
      "source": [
        "from sklearn.metrics import confusion_matrix\n",
        "confusion_matrix(y_test, pred)"
      ]
    },
    {
      "cell_type": "markdown",
      "metadata": {},
      "source": [
        "## Courbe ROC\n",
        "\n",
        "La courbe ROC est une courbe souvent utilis\u00e9e pour mesurer la pertinence d'un mod\u00e8le. La matrice de confusion n'utilise pas la probabilit\u00e9 retourn\u00e9e par le mod\u00e8le, cette derni\u00e8re exprime si le point $X_i$ est plus ou moins loin de la fronti\u00e8re de pr\u00e9diction. En principe, plus on est loin, moins le mod\u00e8le pr\u00e9dictif se trompe. C'est ce que la courbe ROC refl\u00e8te, plus elle est \u00e9lev\u00e9, plus c'est le cas (pour en savoir plus : [courbe ROC](http://www.xavierdupre.fr/app/mlstatpy/helpsphinx/c_metric/roc.html))."
      ]
    },
    {
      "cell_type": "code",
      "execution_count": 16,
      "metadata": {},
      "outputs": [],
      "source": [
        "from sklearn.metrics import roc_curve\n",
        "\n",
        "y_pred_grd = logreg.predict_proba(xacp_test)[:, 1]\n",
        "fpr_grd, tpr_grd, _ = roc_curve(y_test, y_pred_grd)"
      ]
    },
    {
      "cell_type": "code",
      "execution_count": 17,
      "metadata": {},
      "outputs": [
        {
          "data": {
            "image/png": "[encoded data removed]",
            "text/plain": [
              "<Figure size 216x216 with 1 Axes>"
            ]
          },
          "metadata": {
            "needs_background": "light"
          },
          "output_type": "display_data"
        }
      ],
      "source": [
        "plt.figure(1, figsize=(3, 3))\n",
        "plt.plot([0, 1], [0, 1], 'k--')\n",
        "plt.plot(fpr_grd, tpr_grd);"
      ]
    },
    {
      "cell_type": "markdown",
      "metadata": {},
      "source": [
        "La ligne en pointill\u00e9e serait la courbe ROC obtenue pour une pr\u00e9diction al\u00e9atoire. On en est loin."
      ]
    },
    {
      "cell_type": "markdown",
      "metadata": {},
      "source": [
        "## Fronti\u00e8re polyn\u00f4miale\n",
        "\n",
        "On souhaite une fronti\u00e8re polyn\u00f4miale. On ajoute pour cela un pr\u00e9traitement qui calcule $X_1^2, X_2^2, X_3^2, X_1 X_2, ...$."
      ]
    },
    {
      "cell_type": "code",
      "execution_count": 18,
      "metadata": {},
      "outputs": [
        {
          "data": {
            "text/plain": [
              "PolynomialFeatures(degree=2, include_bias=True, interaction_only=False,\n",
              "                   order='C')"
            ]
          },
          "execution_count": 19,
          "metadata": {},
          "output_type": "execute_result"
        }
      ],
      "source": [
        "from sklearn.preprocessing import PolynomialFeatures\n",
        "poly = PolynomialFeatures(degree=2)\n",
        "poly.fit(xacp)"
      ]
    },
    {
      "cell_type": "code",
      "execution_count": 19,
      "metadata": {},
      "outputs": [
        {
          "data": {
            "text/plain": [
              "((426, 3), (426, 10))"
            ]
          },
          "execution_count": 20,
          "metadata": {},
          "output_type": "execute_result"
        }
      ],
      "source": [
        "xacp_poly = poly.transform(xacp)\n",
        "xacp.shape, xacp_poly.shape"
      ]
    },
    {
      "cell_type": "code",
      "execution_count": 20,
      "metadata": {},
      "outputs": [
        {
          "data": {
            "text/plain": [
              "LogisticRegression(C=1.0, class_weight=None, dual=False, fit_intercept=True,\n",
              "                   intercept_scaling=1, l1_ratio=None, max_iter=1000,\n",
              "                   multi_class='auto', n_jobs=None, penalty='l2',\n",
              "                   random_state=None, solver='lbfgs', tol=0.0001, verbose=0,\n",
              "                   warm_start=False)"
            ]
          },
          "execution_count": 21,
          "metadata": {},
          "output_type": "execute_result"
        }
      ],
      "source": [
        "logreg2 = LogisticRegression(solver='lbfgs', max_iter=1000)\n",
        "logreg2.fit(xacp_poly, y_train)"
      ]
    },
    {
      "cell_type": "markdown",
      "metadata": {},
      "source": [
        "Les nouveaux coefficients du mod\u00e8le."
      ]
    },
    {
      "cell_type": "code",
      "execution_count": 21,
      "metadata": {},
      "outputs": [
        {
          "data": {
            "text/plain": [
              "[('1', 0.00013474687830331624),\n",
              " ('x0', -0.009796886245028377),\n",
              " ('x1', 0.03422545572030919),\n",
              " ('x2', -0.005487261266497426),\n",
              " ('x0^2', 6.912136603531012e-07),\n",
              " ('x0 x1', -4.353833813532155e-05),\n",
              " ('x0 x2', -0.00019255718749305347),\n",
              " ('x1^2', -0.0004269054807770011),\n",
              " ('x1 x2', -0.0018760934646931198),\n",
              " ('x2^2', -0.0042992267040219976)]"
            ]
          },
          "execution_count": 22,
          "metadata": {},
          "output_type": "execute_result"
        }
      ],
      "source": [
        "list(zip(poly.get_feature_names(), logreg2.coef_.ravel()))"
      ]
    },
    {
      "cell_type": "markdown",
      "metadata": {},
      "source": [
        "La fronti\u00e8re est plus difficile \u00e0 tracer et il n'est pas \u00e9vident de trouver son \u00e9quation \u00e0 moins de r\u00e9soudre un polyn\u00f4me du second degr\u00e9. On calcule plut\u00f4t les pr\u00e9dictions pour de nombreux points dispos\u00e9s sur une grille en leur donnant une couleur diff\u00e9rente selon que la classe pr\u00e9dite est 0 ou 1."
      ]
    },
    {
      "cell_type": "code",
      "execution_count": 22,
      "metadata": {},
      "outputs": [],
      "source": [
        "Xp1 = numpy.array(list(range(-1000, 1000, 10)))\n",
        "Xp2 = numpy.array(list(range(-100, 100, 2)))\n",
        "cote0 = []\n",
        "cote1 = []\n",
        "for x1 in Xp1:\n",
        "    for x2 in Xp2:\n",
        "        x = numpy.array([[x1, x2, 0]])\n",
        "        xp = poly.transform(x)\n",
        "        yp = logreg2.predict(xp)\n",
        "        if yp == 1:\n",
        "            cote1.append((x1, x2))\n",
        "        else:\n",
        "            cote0.append((x1, x2))\n",
        "\n",
        "cote0 = numpy.array(cote0)\n",
        "cote1 = numpy.array(cote1)"
      ]
    },
    {
      "cell_type": "code",
      "execution_count": 23,
      "metadata": {},
      "outputs": [
        {
          "data": {
            "image/png": "[encoded data removed]",
            "text/plain": [
              "<Figure size 576x288 with 2 Axes>"
            ]
          },
          "metadata": {
            "needs_background": "light"
          },
          "output_type": "display_data"
        }
      ],
      "source": [
        "fig, ax = plt.subplots(1, 2, figsize=(8, 4))\n",
        "ax[0].plot(cote0[:, 0], cote0[:, 1], '.', label='yp0')\n",
        "ax[0].plot(cote1[:, 0], cote1[:, 1], '.', label='yp1')\n",
        "ax[0].plot(xacp[y_train == 0, 0], xacp[y_train == 0, 1], '.', label=\"cl0\")\n",
        "ax[0].plot(xacp[y_train == 1, 0], xacp[y_train == 1, 1], '.', label=\"cl1\")\n",
        "ax[0].plot(X1, X2, '.', label=\"logreg\")\n",
        "ax[1].plot(xacp[y_train == 0, 1], xacp[y_train == 0, 2], '.', label=\"cl0\")\n",
        "ax[1].plot(xacp[y_train == 1, 1], xacp[y_train == 1, 2], '.', label=\"cl1\")\n",
        "ax[1].plot(X22, X3, '.', label=\"logreg\")\n",
        "ax[0].legend();ax[1].legend();\n",
        "ax[0].set_xlim([-1000, 1000]);ax[0].set_ylim([-150, 150]);\n",
        "ax[0].set_title(\"axes 1, 2\");ax[1].set_title(\"axes 2, 3\");"
      ]
    },
    {
      "cell_type": "markdown",
      "metadata": {},
      "source": [
        "Ca para\u00eet un peu mieux."
      ]
    },
    {
      "cell_type": "code",
      "execution_count": 24,
      "metadata": {},
      "outputs": [
        {
          "data": {
            "text/plain": [
              "array([[41,  5],\n",
              "       [ 4, 93]], dtype=int64)"
            ]
          },
          "execution_count": 25,
          "metadata": {},
          "output_type": "execute_result"
        }
      ],
      "source": [
        "confusion_matrix(y_test, \n",
        "                 logreg2.predict(\n",
        "                     poly.transform(\n",
        "                         acp.transform(X_test))))"
      ]
    },
    {
      "cell_type": "markdown",
      "metadata": {},
      "source": [
        "## Pipeline\n",
        "\n",
        "Ce n'est pas \u00e9vident de se souvenir de toutes les \u00e9tapes. Le mieux est sans doute de tout ins\u00e9rer dans un pipeline."
      ]
    },
    {
      "cell_type": "code",
      "execution_count": 25,
      "metadata": {},
      "outputs": [
        {
          "data": {
            "text/plain": [
              "array([[41,  5],\n",
              "       [ 4, 93]], dtype=int64)"
            ]
          },
          "execution_count": 26,
          "metadata": {},
          "output_type": "execute_result"
        }
      ],
      "source": [
        "from sklearn.pipeline import Pipeline\n",
        "pipe = Pipeline([\n",
        "    ('acp', PCA(3)),\n",
        "    ('poly', PolynomialFeatures(2)),\n",
        "    ('lr', LogisticRegression(solver='lbfgs', max_iter=1000))\n",
        "])\n",
        "pipe.fit(X_train, y_train)\n",
        "pred = pipe.predict(X_test)\n",
        "confusion_matrix(y_test, pred)"
      ]
    },
    {
      "cell_type": "markdown",
      "metadata": {},
      "source": [
        "C'est plus lisible."
      ]
    }
  ],
  "metadata": {
    "kernelspec": {
      "display_name": "Python 3",
      "language": "python",
      "name": "python3"
    },
    "language_info": {
      "codemirror_mode": {
        "name": "ipython",
        "version": 3
      },
      "file_extension": ".py",
      "mimetype": "text/x-python",
      "name": "python",
      "nbconvert_exporter": "python",
      "pygments_lexer": "ipython3",
      "version": "3.7.2"
    }
  },
  "nbformat": 4,
  "nbformat_minor": 2
}