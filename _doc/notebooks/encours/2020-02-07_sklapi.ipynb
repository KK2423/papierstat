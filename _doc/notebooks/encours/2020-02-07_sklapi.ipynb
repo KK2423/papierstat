{
  "cells": [
    {
      "cell_type": "markdown",
      "metadata": {},
      "source": [
        "# R\u00e9gression Ridge, Lasso et nouvel estimateur\n",
        "\n",
        "Ce notebook pr\u00e9sente la r\u00e9gression Ridge, Lasso, et l'API de scikit-learn."
      ]
    },
    {
      "cell_type": "code",
      "execution_count": 1,
      "metadata": {},
      "outputs": [
        {
          "data": {
            "text/html": [
              "<div id=\"my_id_menu_nb\">run previous cell, wait for 2 seconds</div>\n",
              "<script>\n",
              "function repeat_indent_string(n){\n",
              "    var a = \"\" ;\n",
              "    for ( ; n > 0 ; --n)\n",
              "        a += \"    \";\n",
              "    return a;\n",
              "}\n",
              "// look up into all sections and builds an automated menu //\n",
              "var update_menu_string = function(begin, lfirst, llast, sformat, send, keep_item, begin_format, end_format) {\n",
              "    var anchors = document.getElementsByClassName(\"section\");\n",
              "    if (anchors.length == 0) {\n",
              "        anchors = document.getElementsByClassName(\"text_cell_render rendered_html\");\n",
              "    }\n",
              "    var i,t;\n",
              "    var text_menu = begin;\n",
              "    var text_memo = \"<pre>\\nlength:\" + anchors.length + \"\\n\";\n",
              "    var ind = \"\";\n",
              "    var memo_level = 1;\n",
              "    var href;\n",
              "    var tags = [];\n",
              "    var main_item = 0;\n",
              "    var format_open = 0;\n",
              "    for (i = 0; i <= llast; i++)\n",
              "        tags.push(\"h\" + i);\n",
              "\n",
              "    for (i = 0; i < anchors.length; i++) {\n",
              "        text_memo += \"**\" + anchors[i].id + \"--\\n\";\n",
              "\n",
              "        var child = null;\n",
              "        for(t = 0; t < tags.length; t++) {\n",
              "            var r = anchors[i].getElementsByTagName(tags[t]);\n",
              "            if (r.length > 0) {\n",
              "child = r[0];\n",
              "break;\n",
              "            }\n",
              "        }\n",
              "        if (child == null) {\n",
              "            text_memo += \"null\\n\";\n",
              "            continue;\n",
              "        }\n",
              "        if (anchors[i].hasAttribute(\"id\")) {\n",
              "            // when converted in RST\n",
              "            href = anchors[i].id;\n",
              "            text_memo += \"#1-\" + href;\n",
              "            // passer \u00e0 child suivant (le chercher)\n",
              "        }\n",
              "        else if (child.hasAttribute(\"id\")) {\n",
              "            // in a notebook\n",
              "            href = child.id;\n",
              "            text_memo += \"#2-\" + href;\n",
              "        }\n",
              "        else {\n",
              "            text_memo += \"#3-\" + \"*\" + \"\\n\";\n",
              "            continue;\n",
              "        }\n",
              "        var title = child.textContent;\n",
              "        var level = parseInt(child.tagName.substring(1,2));\n",
              "\n",
              "        text_memo += \"--\" + level + \"?\" + lfirst + \"--\" + title + \"\\n\";\n",
              "\n",
              "        if ((level < lfirst) || (level > llast)) {\n",
              "            continue ;\n",
              "        }\n",
              "        if (title.endsWith('\u00b6')) {\n",
              "            title = title.substring(0,title.length-1).replace(\"<\", \"&lt;\")\n",
              "         .replace(\">\", \"&gt;\").replace(\"&\", \"&amp;\");\n",
              "        }\n",
              "        if (title.length == 0) {\n",
              "            continue;\n",
              "        }\n",
              "\n",
              "        while (level < memo_level) {\n",
              "            text_menu += end_format + \"</ul>\\n\";\n",
              "            format_open -= 1;\n",
              "            memo_level -= 1;\n",
              "        }\n",
              "        if (level == lfirst) {\n",
              "            main_item += 1;\n",
              "        }\n",
              "        if (keep_item != -1 && main_item != keep_item + 1) {\n",
              "            // alert(main_item + \" - \" + level + \" - \" + keep_item);\n",
              "            continue;\n",
              "        }\n",
              "        while (level > memo_level) {\n",
              "            text_menu += \"<ul>\\n\";\n",
              "            memo_level += 1;\n",
              "        }\n",
              "        text_menu += repeat_indent_string(level-2);\n",
              "        text_menu += begin_format + sformat.replace(\"__HREF__\", href).replace(\"__TITLE__\", title);\n",
              "        format_open += 1;\n",
              "    }\n",
              "    while (1 < memo_level) {\n",
              "        text_menu += end_format + \"</ul>\\n\";\n",
              "        memo_level -= 1;\n",
              "        format_open -= 1;\n",
              "    }\n",
              "    text_menu += send;\n",
              "    //text_menu += \"\\n\" + text_memo;\n",
              "\n",
              "    while (format_open > 0) {\n",
              "        text_menu += end_format;\n",
              "        format_open -= 1;\n",
              "    }\n",
              "    return text_menu;\n",
              "};\n",
              "var update_menu = function() {\n",
              "    var sbegin = \"\";\n",
              "    var sformat = '<a href=\"#__HREF__\">__TITLE__</a>';\n",
              "    var send = \"\";\n",
              "    var begin_format = '<li>';\n",
              "    var end_format = '</li>';\n",
              "    var keep_item = -1;\n",
              "    var text_menu = update_menu_string(sbegin, 2, 4, sformat, send, keep_item,\n",
              "       begin_format, end_format);\n",
              "    var menu = document.getElementById(\"my_id_menu_nb\");\n",
              "    menu.innerHTML=text_menu;\n",
              "};\n",
              "window.setTimeout(update_menu,2000);\n",
              "            </script>"
            ],
            "text/plain": [
              "<IPython.core.display.HTML object>"
            ]
          },
          "execution_count": 2,
          "metadata": {},
          "output_type": "execute_result"
        }
      ],
      "source": [
        "from jyquickhelper import add_notebook_menu\n",
        "add_notebook_menu()"
      ]
    },
    {
      "cell_type": "code",
      "execution_count": 2,
      "metadata": {},
      "outputs": [],
      "source": [
        "%matplotlib inline"
      ]
    },
    {
      "cell_type": "markdown",
      "metadata": {},
      "source": [
        "## Un jeu de donn\u00e9es pour un probl\u00e8me de r\u00e9gression"
      ]
    },
    {
      "cell_type": "code",
      "execution_count": 3,
      "metadata": {},
      "outputs": [],
      "source": [
        "from sklearn.datasets import load_boston\n",
        "data = load_boston()\n",
        "X, y = data.data, data.target"
      ]
    },
    {
      "cell_type": "code",
      "execution_count": 4,
      "metadata": {},
      "outputs": [],
      "source": [
        "from sklearn.model_selection import train_test_split\n",
        "X_train, X_test, y_train, y_test = train_test_split(X, y)"
      ]
    },
    {
      "cell_type": "markdown",
      "metadata": {},
      "source": [
        "On apprend la premi\u00e8re r\u00e9gression lin\u00e9aire."
      ]
    },
    {
      "cell_type": "code",
      "execution_count": 5,
      "metadata": {},
      "outputs": [
        {
          "data": {
            "text/plain": [
              "array([-1.13477366e-01,  5.41775522e-02,  6.89658918e-02,  1.61353113e+00,\n",
              "       -1.78339087e+01,  3.45947776e+00,  2.43111296e-03, -1.48584088e+00,\n",
              "        3.21254457e-01, -1.46380935e-02, -9.97445280e-01,  8.52706453e-03,\n",
              "       -5.61444818e-01])"
            ]
          },
          "execution_count": 6,
          "metadata": {},
          "output_type": "execute_result"
        }
      ],
      "source": [
        "from sklearn.linear_model import LinearRegression\n",
        "lin = LinearRegression()\n",
        "lin.fit(X_train, y_train)\n",
        "lin.coef_"
      ]
    },
    {
      "cell_type": "code",
      "execution_count": 6,
      "metadata": {},
      "outputs": [
        {
          "data": {
            "text/plain": [
              "0.754584854010638"
            ]
          },
          "execution_count": 7,
          "metadata": {},
          "output_type": "execute_result"
        }
      ],
      "source": [
        "from sklearn.metrics import r2_score\n",
        "r2_score(y_test, lin.predict(X_test))"
      ]
    },
    {
      "cell_type": "markdown",
      "metadata": {},
      "source": [
        "## R\u00e9gression Ridge\n",
        "\n",
        "La r\u00e9gression [Ridge](https://scikit-learn.org/stable/modules/generated/sklearn.linear_model.Ridge.html) optimise le probl\u00e8me qui suit :\n",
        "\n",
        "$$\\min_\\beta E(\\alpha, \\beta) = \\sum_{i=1}^n (y_i - X_i\\beta)^2 + \\alpha \\lVert \\beta \\rVert ^2$$\n",
        "\n",
        "C'est une r\u00e9gression lin\u00e9aire avec une contrainte quadratique sur les coefficients. C'est utile lorsque les variables sont tr\u00e8s corr\u00e9l\u00e9es, ce qui fausse souvent la r\u00e9solution num\u00e9rique. La solution peut s'exprimer de fa\u00e7on exacte.\n",
        "\n",
        "$$\\beta^* = (X'X + \\alpha I)^{-1} X' Y$$\n",
        "\n",
        "On voit qu'il est possible de choisir un $\\alpha$ pour lequel la matrice $X'X + \\alpha I$ est inversible. C'est aussi utile lorsqu'il y a beaucoup de variables car la probabilit\u00e9 d'avoir des variables corr\u00e9l\u00e9es est grande. Il est possible de choisir un $\\alpha$ suffisamment grand pour que la matrice $ (X'X + \\alpha I)^{-1}$ soit inversible et la solution unique."
      ]
    },
    {
      "cell_type": "code",
      "execution_count": 7,
      "metadata": {},
      "outputs": [
        {
          "data": {
            "text/plain": [
              "0.7400713985425555"
            ]
          },
          "execution_count": 8,
          "metadata": {},
          "output_type": "execute_result"
        }
      ],
      "source": [
        "from sklearn.linear_model import Ridge\n",
        "rid = Ridge(10).fit(X_train, y_train)\n",
        "r2_score(y_test, rid.predict(X_test))"
      ]
    },
    {
      "cell_type": "code",
      "execution_count": 8,
      "metadata": {},
      "outputs": [
        {
          "data": {
            "text/plain": [
              "(0.733591405794392, 0.723746821191509)"
            ]
          },
          "execution_count": 9,
          "metadata": {},
          "output_type": "execute_result"
        }
      ],
      "source": [
        "(r2_score(y_train, lin.predict(X_train)), \n",
        " r2_score(y_train, rid.predict(X_train)))"
      ]
    },
    {
      "cell_type": "markdown",
      "metadata": {},
      "source": [
        "La contrainte introduite sur les coefficients augmente l'erreur sur la base d'apprentissage mais r\u00e9duit la norme des coefficients."
      ]
    },
    {
      "cell_type": "code",
      "execution_count": 9,
      "metadata": {},
      "outputs": [
        {
          "data": {
            "image/png": "[encoded data removed]",
            "text/plain": [
              "<Figure size 288x288 with 1 Axes>"
            ]
          },
          "metadata": {
            "needs_background": "light"
          },
          "output_type": "display_data"
        }
      ],
      "source": [
        "import numpy\n",
        "import matplotlib.pyplot as plt\n",
        "r = numpy.abs(lin.coef_) / numpy.abs(rid.coef_)\n",
        "fig, ax = plt.subplots(1, 1, figsize=(4, 4))\n",
        "ax.plot(r)\n",
        "ax.set_title(\"Ratio des coefficients\\npour une r\u00e9gression Ridge\");"
      ]
    },
    {
      "cell_type": "markdown",
      "metadata": {},
      "source": [
        "Un des coefficients est 10 fois plus grand et la norme des coefficients est plus petite."
      ]
    },
    {
      "cell_type": "code",
      "execution_count": 10,
      "metadata": {},
      "outputs": [
        {
          "data": {
            "text/plain": [
              "(18.337439128123417, 4.283885052346214)"
            ]
          },
          "execution_count": 11,
          "metadata": {},
          "output_type": "execute_result"
        }
      ],
      "source": [
        "numpy.linalg.norm(lin.coef_), numpy.linalg.norm(rid.coef_)"
      ]
    },
    {
      "cell_type": "markdown",
      "metadata": {},
      "source": [
        "De fait, il est pr\u00e9f\u00e9reable de normaliser les variables avant d'appliquer la contrainte."
      ]
    },
    {
      "cell_type": "code",
      "execution_count": 11,
      "metadata": {},
      "outputs": [
        {
          "data": {
            "text/plain": [
              "0.7396123491877069"
            ]
          },
          "execution_count": 12,
          "metadata": {},
          "output_type": "execute_result"
        }
      ],
      "source": [
        "rid = Ridge(0.2, normalize=True).fit(X_train, y_train)\n",
        "r2_score(y_test, rid.predict(X_test))"
      ]
    },
    {
      "cell_type": "code",
      "execution_count": 12,
      "metadata": {},
      "outputs": [
        {
          "data": {
            "text/plain": [
              "(18.337439128123417, 9.196780478117761)"
            ]
          },
          "execution_count": 13,
          "metadata": {},
          "output_type": "execute_result"
        }
      ],
      "source": [
        "numpy.linalg.norm(lin.coef_), numpy.linalg.norm(rid.coef_)"
      ]
    },
    {
      "cell_type": "markdown",
      "metadata": {},
      "source": [
        "## R\u00e9gression Lasso\n",
        "\n",
        "La r\u00e9gression [Lasso](https://scikit-learn.org/stable/modules/generated/sklearn.linear_model.Lasso.html) optimise le probl\u00e8me qui suit :\n",
        "\n",
        "$$\\min_\\beta E(\\alpha, \\beta) = \\sum_{i=1}^n (y_i - X_i\\beta)^2 + \\alpha \\lVert \\beta \\rVert$$\n",
        "\n",
        "C'est une r\u00e9gression lin\u00e9aire avec une contrainte lin\u00e9aire sur les coefficients. C'est utile lorsque les variables sont tr\u00e8s corr\u00e9l\u00e9es, ce qui fausse souvent la r\u00e9solution num\u00e9rique. La solution ne s'exprime de fa\u00e7on exacte et la r\u00e9solution utilise une m\u00e9thode \u00e0 base de gradient."
      ]
    },
    {
      "cell_type": "code",
      "execution_count": 13,
      "metadata": {},
      "outputs": [
        {
          "data": {
            "text/plain": [
              "array([-0.        ,  0.03993342, -0.        ,  0.        ,  0.        ,\n",
              "        0.        ,  0.03694005, -0.        ,  0.        , -0.0094848 ,\n",
              "       -0.        ,  0.00686207, -0.73250793])"
            ]
          },
          "execution_count": 14,
          "metadata": {},
          "output_type": "execute_result"
        }
      ],
      "source": [
        "from sklearn.linear_model import Lasso\n",
        "las = Lasso(5.).fit(X_train, y_train)\n",
        "las.coef_"
      ]
    },
    {
      "cell_type": "markdown",
      "metadata": {},
      "source": [
        "On voit que beaucoup de coefficients sont nuls."
      ]
    },
    {
      "cell_type": "code",
      "execution_count": 14,
      "metadata": {},
      "outputs": [
        {
          "data": {
            "text/plain": [
              "array([ True, False,  True,  True,  True,  True, False,  True,  True,\n",
              "       False,  True, False, False])"
            ]
          },
          "execution_count": 15,
          "metadata": {},
          "output_type": "execute_result"
        }
      ],
      "source": [
        "las.coef_ == 0"
      ]
    },
    {
      "cell_type": "code",
      "execution_count": 15,
      "metadata": {},
      "outputs": [
        {
          "data": {
            "text/plain": [
              "8"
            ]
          },
          "execution_count": 16,
          "metadata": {},
          "output_type": "execute_result"
        }
      ],
      "source": [
        "sum(las.coef_ == 0)"
      ]
    },
    {
      "cell_type": "markdown",
      "metadata": {},
      "source": [
        "Comme pour la r\u00e9gression Ridge, il est pr\u00e9f\u00e9rable de normaliser. On \u00e9tudie \u00e9galement le nombre de coefficients nuls en fonction de la valeur $\\alpha$."
      ]
    },
    {
      "cell_type": "code",
      "execution_count": 16,
      "metadata": {},
      "outputs": [
        {
          "name": "stderr",
          "output_type": "stream",
          "text": [
            "100%|\u2588\u2588\u2588\u2588\u2588\u2588\u2588\u2588\u2588\u2588| 18/18 [00:00<00:00, 668.44it/s]\n"
          ]
        },
        {
          "data": {
            "text/html": [
              "<div>\n",
              "<style scoped>\n",
              "    .dataframe tbody tr th:only-of-type {\n",
              "        vertical-align: middle;\n",
              "    }\n",
              "\n",
              "    .dataframe tbody tr th {\n",
              "        vertical-align: top;\n",
              "    }\n",
              "\n",
              "    .dataframe thead th {\n",
              "        text-align: right;\n",
              "    }\n",
              "</style>\n",
              "<table border=\"1\" class=\"dataframe\">\n",
              "  <thead>\n",
              "    <tr style=\"text-align: right;\">\n",
              "      <th></th>\n",
              "      <th>lambda</th>\n",
              "      <th>r2</th>\n",
              "      <th>nbnull</th>\n",
              "    </tr>\n",
              "  </thead>\n",
              "  <tbody>\n",
              "    <tr>\n",
              "      <th>0</th>\n",
              "      <td>0.00001</td>\n",
              "      <td>0.754605</td>\n",
              "      <td>0</td>\n",
              "    </tr>\n",
              "    <tr>\n",
              "      <th>1</th>\n",
              "      <td>0.00010</td>\n",
              "      <td>0.754781</td>\n",
              "      <td>0</td>\n",
              "    </tr>\n",
              "    <tr>\n",
              "      <th>2</th>\n",
              "      <td>0.00500</td>\n",
              "      <td>0.753536</td>\n",
              "      <td>2</td>\n",
              "    </tr>\n",
              "    <tr>\n",
              "      <th>3</th>\n",
              "      <td>0.01000</td>\n",
              "      <td>0.738725</td>\n",
              "      <td>4</td>\n",
              "    </tr>\n",
              "    <tr>\n",
              "      <th>4</th>\n",
              "      <td>0.01500</td>\n",
              "      <td>0.727549</td>\n",
              "      <td>4</td>\n",
              "    </tr>\n",
              "  </tbody>\n",
              "</table>\n",
              "</div>"
            ],
            "text/plain": [
              "    lambda        r2  nbnull\n",
              "0  0.00001  0.754605       0\n",
              "1  0.00010  0.754781       0\n",
              "2  0.00500  0.753536       2\n",
              "3  0.01000  0.738725       4\n",
              "4  0.01500  0.727549       4"
            ]
          },
          "execution_count": 17,
          "metadata": {},
          "output_type": "execute_result"
        }
      ],
      "source": [
        "from tqdm import tqdm\n",
        "res = []\n",
        "for alf in tqdm([0.00001, 0.0001, 0.005, 0.01, 0.015, \n",
        "                 0.02, 0.025, 0.03, 0.04, 0.05, 0.06,\n",
        "                 0.07, 0.08, 0.09, 0.1, 0.2, 0.3, 0.4]):\n",
        "    las = Lasso(alf, normalize=True).fit(X_train, y_train)\n",
        "    r2 = r2_score(y_test, las.predict(X_test))\n",
        "    res.append({'lambda': alf, 'r2': r2, \n",
        "                'nbnull': sum(las.coef_ == 0)})\n",
        "\n",
        "    \n",
        "from pandas import DataFrame\n",
        "df = DataFrame(res)\n",
        "df.head(5)"
      ]
    },
    {
      "cell_type": "code",
      "execution_count": 17,
      "metadata": {},
      "outputs": [
        {
          "data": {
            "image/png": "[encoded data removed]",
            "text/plain": [
              "<Figure size 576x216 with 2 Axes>"
            ]
          },
          "metadata": {
            "needs_background": "light"
          },
          "output_type": "display_data"
        }
      ],
      "source": [
        "fig, ax = plt.subplots(1, 2, figsize=(8, 3))\n",
        "ax[0].plot(df['lambda'], df['r2'], label='r2')\n",
        "ax[1].plot(df['lambda'], df['nbnull'], label=\"nbnull\")\n",
        "ax[1].plot(df['lambda'], las.coef_.shape[0] - df['nbnull'], label=\"nbvar\")\n",
        "ax[0].set_xscale('log'); ax[1].set_xscale('log')\n",
        "ax[0].set_xlabel(\"lambda\"); ax[1].set_xlabel(\"lambda\")\n",
        "ax[0].legend(); ax[1].legend();"
      ]
    },
    {
      "cell_type": "markdown",
      "metadata": {},
      "source": [
        "La r\u00e9gression Lasso annule les coefficients, voire tous les coefficients si le param\u00e8tre $\\alpha$ est assez grand. Voyons cela pour une r\u00e9gression avec une seule variable. On doit minimiser l'expression :\n",
        "\n",
        "$$E(\\beta) = \\sum_{i=1}^n (y_i - \\beta x_i)^2 + \\alpha |\\beta|$$\n",
        "\n",
        "Trouver $\\beta^*$ qui minimise l'expression n\u00e9cessite de trouver le param\u00e8tre $\\beta$ tel que $E(\\beta)=0$. On calcule la d\u00e9riv\u00e9e $E'(\\beta)$ :\n",
        "\n",
        "$$E'(\\beta) = \\left \\{ \\begin{array}{ll} \\sum_{i=1}^n -x_i(y_i - \\beta x_i) + \\alpha & \\text{si } \\beta > 0 \\\\ \\sum_{i=1}^n -x_i(y_i - \\beta x_i) - \\alpha & \\text{si } \\beta < 0 \\end{array} \\right .$$\n",
        "\n",
        "Et :\n",
        "\n",
        "$$E'(\\beta) = 0 \\Leftrightarrow \\left \\{ \\begin{array}{ll} \\beta = \\frac{-\\alpha + \\sum_{i=1}^n x_i y_i}{\\sum_{i=1}^n{x_i^2}} & \\text{si } \\beta > 0 \\\\ \\beta = \\frac{\\alpha + \\sum_{i=1}^n x_i y_i}{\\sum_{i=1}^n{x_i^2}}  & \\text{si } \\beta < 0 \\end{array} \\right .$$\n",
        "\n",
        "On voit que pour une grande valeur de $\\alpha > \\sum_i x_i y_i$, le param\u00e8tre $\\beta$ n'a pas de solution. Dans le premier cas, la valeur est n\u00e9cessairement n\u00e9gative alors que la solution ne fonctionne que si $\\beta$ est positive. C'est la m\u00eame situation contradictoire dans l'autre cas. La seule option possible lorsque $\\alpha$ est tr\u00e8s grand, c'est $\\beta = 0$. On montre donc que ce qu'on a observ\u00e9 ci-dessus est vrai pour une r\u00e9gression \u00e0 une dimension."
      ]
    },
    {
      "cell_type": "markdown",
      "metadata": {},
      "source": [
        "## Application \u00e0 la s\u00e9lection d'arbre d'une for\u00eat al\u00e9atoire\n",
        "\n",
        "Une for\u00eat al\u00e9atoire est simplement une moyenne des pr\u00e9dictions d'arbres de r\u00e9gression.\n",
        "\n",
        "$$RF(X) = \\sum_{i=1}^p T_i(X)$$\n",
        "\n",
        "Pourquoi ne pas utiliser une r\u00e9gression Lasso pour r\u00e9duire le nombre d'arbres et exprimer la for\u00eat al\u00e9atoire avec des coefficients $\\beta$ estim\u00e9s \u00e0 l'aide d'une r\u00e9gression Lasso et choisis de telle sorte que beaucoup soient nuls.\n",
        "\n",
        "$$RF(X) = \\sum_{i=1}^p \\beta_i T_i(X)$$"
      ]
    },
    {
      "cell_type": "code",
      "execution_count": 18,
      "metadata": {},
      "outputs": [],
      "source": [
        "from sklearn.ensemble import RandomForestRegressor\n",
        "rf = RandomForestRegressor(100).fit(X_train, y_train)"
      ]
    },
    {
      "cell_type": "markdown",
      "metadata": {},
      "source": [
        "La pr\u00e9diction d'un arbre s'obtient avec :"
      ]
    },
    {
      "cell_type": "code",
      "execution_count": 19,
      "metadata": {},
      "outputs": [
        {
          "data": {
            "text/plain": [
              "array([13.1, 29. , 23.8, 16.5, 23.8, 20.5, 27.5, 37.3, 13.1, 18.8, 26.6,\n",
              "       13.5, 27.1, 32. , 18.6, 13.1, 11.7, 48.3, 17.8, 21.2, 16.7, 19.5,\n",
              "       14.4, 21.4, 36.5, 16.8, 26.7, 16.8, 13.1, 24.4, 30.7, 32. , 24.5,\n",
              "       19.2, 50. , 22.6, 22. , 19.3, 36.2, 36.2, 23.8, 29. , 22. , 16.5,\n",
              "       28.1, 11.8, 24.4, 14.3, 20.6, 22.8, 18.4, 22.6, 20. , 16.2, 14.3,\n",
              "       21.4, 33.1, 21.7, 19.3, 22.8, 13.1, 29. , 32. ,  7.5, 50. , 23.8,\n",
              "       18.4, 50. , 20.5, 20.6, 23.1, 32. , 37.3, 23. , 33.1, 28.1, 14.3,\n",
              "       50. , 13.1, 23.8, 14.3, 19.8, 23.2, 20.2,  9.5, 32. , 23.7, 13.8,\n",
              "       18.2, 50. , 35.2, 13.2,  5. , 16.7, 20.5, 18.2, 23.7,  5. , 22. ,\n",
              "       18.6, 23.8, 18.8, 48.5, 22.2, 18.7, 21.4, 23.7, 19. , 32. , 33.4,\n",
              "       13.1, 22.1, 28.1,  8.4, 30.8, 13.1, 22.7, 13.1, 30.8, 19.8, 37.2,\n",
              "        8.4, 13.1, 22.6, 21.2, 19.8, 24.4])"
            ]
          },
          "execution_count": 20,
          "metadata": {},
          "output_type": "execute_result"
        }
      ],
      "source": [
        "rf.estimators_[0].predict(X_test)"
      ]
    },
    {
      "cell_type": "markdown",
      "metadata": {},
      "source": [
        "On construit une fonction qui concat\u00e8ne les pr\u00e9dictions des arbres."
      ]
    },
    {
      "cell_type": "code",
      "execution_count": 20,
      "metadata": {},
      "outputs": [
        {
          "data": {
            "text/plain": [
              "(127, 100)"
            ]
          },
          "execution_count": 21,
          "metadata": {},
          "output_type": "execute_result"
        }
      ],
      "source": [
        "def concatenate_prediction(X):\n",
        "    preds = []\n",
        "    for i in range(len(rf.estimators_)):\n",
        "        pred = rf.estimators_[i].predict(X)\n",
        "        preds.append(pred)\n",
        "    return numpy.vstack(preds).T\n",
        "\n",
        "concatenate_prediction(X_test).shape"
      ]
    },
    {
      "cell_type": "markdown",
      "metadata": {},
      "source": [
        "Et on observe la performance en fonction du param\u00e8tre $\\alpha$ de la r\u00e9gression Lasso."
      ]
    },
    {
      "cell_type": "code",
      "execution_count": 21,
      "metadata": {},
      "outputs": [
        {
          "name": "stderr",
          "output_type": "stream",
          "text": [
            "  0%|          | 0/18 [00:00<?, ?it/s]C:\\xavierdupre\\__home_\\github_fork\\scikit-learn\\sklearn\\linear_model\\_coordinate_descent.py:531: ConvergenceWarning: Objective did not converge. You might want to increase the number of iterations. Duality gap: 49.07327766923437, tolerance: 3.248936158311346\n",
            "  model = cd_fast.enet_coordinate_descent(\n",
            "100%|\u2588\u2588\u2588\u2588\u2588\u2588\u2588\u2588\u2588\u2588| 18/18 [00:05<00:00,  3.13it/s]\n"
          ]
        }
      ],
      "source": [
        "X_train_rf = concatenate_prediction(X_train)\n",
        "X_test_rf = concatenate_prediction(X_test)\n",
        "\n",
        "res = []\n",
        "for alf in tqdm([0.0001, 0.01, 0.1, 0.2, 0.5, 1., \n",
        "                 1.2, 1.5, 2., 4., 6., 8., 10., 12.,\n",
        "                 14, 16, 18, 20]):\n",
        "    las = Lasso(alf, max_iter=40000).fit(X_train_rf, y_train)\n",
        "    r2 = r2_score(y_test, las.predict(X_test_rf))\n",
        "    r2_rf = r2_score(y_test, rf.predict(X_test))\n",
        "    res.append({'lambda': alf, 'r2': r2, 'r2_rf': r2_rf,\n",
        "                'nbnull': sum(las.coef_ == 0)})"
      ]
    },
    {
      "cell_type": "code",
      "execution_count": 22,
      "metadata": {},
      "outputs": [
        {
          "data": {
            "text/html": [
              "<div>\n",
              "<style scoped>\n",
              "    .dataframe tbody tr th:only-of-type {\n",
              "        vertical-align: middle;\n",
              "    }\n",
              "\n",
              "    .dataframe tbody tr th {\n",
              "        vertical-align: top;\n",
              "    }\n",
              "\n",
              "    .dataframe thead th {\n",
              "        text-align: right;\n",
              "    }\n",
              "</style>\n",
              "<table border=\"1\" class=\"dataframe\">\n",
              "  <thead>\n",
              "    <tr style=\"text-align: right;\">\n",
              "      <th></th>\n",
              "      <th>lambda</th>\n",
              "      <th>r2</th>\n",
              "      <th>r2_rf</th>\n",
              "      <th>nbnull</th>\n",
              "    </tr>\n",
              "  </thead>\n",
              "  <tbody>\n",
              "    <tr>\n",
              "      <th>0</th>\n",
              "      <td>0.0001</td>\n",
              "      <td>0.892124</td>\n",
              "      <td>0.889031</td>\n",
              "      <td>0</td>\n",
              "    </tr>\n",
              "    <tr>\n",
              "      <th>1</th>\n",
              "      <td>0.0100</td>\n",
              "      <td>0.893736</td>\n",
              "      <td>0.889031</td>\n",
              "      <td>7</td>\n",
              "    </tr>\n",
              "    <tr>\n",
              "      <th>2</th>\n",
              "      <td>0.1000</td>\n",
              "      <td>0.898615</td>\n",
              "      <td>0.889031</td>\n",
              "      <td>47</td>\n",
              "    </tr>\n",
              "  </tbody>\n",
              "</table>\n",
              "</div>"
            ],
            "text/plain": [
              "   lambda        r2     r2_rf  nbnull\n",
              "0  0.0001  0.892124  0.889031       0\n",
              "1  0.0100  0.893736  0.889031       7\n",
              "2  0.1000  0.898615  0.889031      47"
            ]
          },
          "execution_count": 23,
          "metadata": {},
          "output_type": "execute_result"
        }
      ],
      "source": [
        "df = DataFrame(res)\n",
        "df.head(3)"
      ]
    },
    {
      "cell_type": "code",
      "execution_count": 23,
      "metadata": {
        "scrolled": false
      },
      "outputs": [
        {
          "data": {
            "image/png": "[encoded data removed]",
            "text/plain": [
              "<Figure size 576x216 with 2 Axes>"
            ]
          },
          "metadata": {
            "needs_background": "light"
          },
          "output_type": "display_data"
        }
      ],
      "source": [
        "fig, ax = plt.subplots(1, 2, figsize=(8, 3))\n",
        "ax[0].plot(df['lambda'], df['r2'], label='r2')\n",
        "ax[0].plot(df['lambda'], df['r2_rf'], label='r2_rf')\n",
        "ax[1].plot(df['lambda'], df['nbnull'], label=\"nbnull\")\n",
        "ax[1].plot(df['lambda'], las.coef_.shape[0] - df['nbnull'], label=\"nbvar\")\n",
        "ax[0].set_xscale('log'); ax[1].set_xscale('log')\n",
        "ax[0].legend(); ax[1].legend();"
      ]
    },
    {
      "cell_type": "markdown",
      "metadata": {},
      "source": [
        "## Explication de la nullit\u00e9 des coefficients dans une r\u00e9gression Lasso\n",
        "\n",
        "On se place dans le cas d'un mod\u00e8le tr\u00e8s simple : $y = \\alpha_1 x_1 + \\alpha_2 x_2 + \\epsilon$. Les coefficients optimaux sont obtenus en minimisant l'erreur $\\sum (y - (a_1 x_1 + a_2 x_2))^2 + \\lambda (|a_1| + |a_2|)$. On note $E(a_1, a_2) = E_r(a_1, a_2) + E_l(a_1, a_2)$. $E_r$ est l'erreur de r\u00e9gression, $E_l$ est l'erreur de Lasso. Les coefficients optimaux pour l'erreur $E_r$ sont $(a^*_1, a^*_2) = (\\alpha_1 x_1 + \\alpha_2)$. On repr\u00e9sente maintenant sur un graphe les courbes de niveaux de ces deux erreurs. "
      ]
    },
    {
      "cell_type": "code",
      "execution_count": 24,
      "metadata": {},
      "outputs": [
        {
          "data": {
            "image/png": "[encoded data removed]",
            "text/plain": [
              "<Figure size 432x288 with 1 Axes>"
            ]
          },
          "metadata": {
            "needs_background": "light"
          },
          "output_type": "display_data"
        }
      ],
      "source": [
        "import math\n",
        "def xyl1(t): return t, numpy.minimum(1 - t, t + 1)\n",
        "def xyl2(t): return t, numpy.minimum(2.3 - t, t + 2.3)\n",
        "def xyl3(t): return t, 0.4 - t\n",
        "t = numpy.arange(1000) * 2 * math.pi / 1000\n",
        "t2 = numpy.arange(500) / 500 - 0.2\n",
        "fig, ax = plt.subplots(1, 1)\n",
        "#ax.text(0.35, 2.7, \"lambda1\")\n",
        "#ax.text(0.05, 2.5, \"lambda2\")\n",
        "ax.plot([0.66], [1.66], \"yo\", label=\"a^*\", ms=10)\n",
        "ax.plot([0.0], [1.], \"yo\", ms=10)\n",
        "ax.plot([0.0], [0.5], \"yo\", ms=10)\n",
        "#ax.plot([0.0], [2.5], \"yo\")\n",
        "ax.plot([0, 0], [0, 3], 'k--')\n",
        "ax.plot([0, 2], [0, 0], 'k--')\n",
        "ax.plot(numpy.cos(t) * 0.5 + 1, numpy.sin(t) * 0.5 + 2, \"g\", label=\"Er\")\n",
        "ax.plot(numpy.cos(t) * 2 ** 0.5 + 1, numpy.sin(t) * 2 ** 0.5 + 2, \"g\", lw=4)\n",
        "ax.plot(numpy.cos(t) * 1.8 + 1, numpy.sin(t) * 1.8 + 2, \"g\", lw=6)\n",
        "x, y = xyl1(t2); ax.plot(x, y, \"r\", label=\"El\")\n",
        "x, y = xyl2(t2); ax.plot(x, y, \"r\", lw=4)\n",
        "x, y = xyl3(t2-0.5); ax.plot(x, y, \"r--\", lw=2)\n",
        "ax.legend();"
      ]
    },
    {
      "cell_type": "markdown",
      "metadata": {},
      "source": [
        "$E_r$ reste constante sur un cercle. $E_l$ reste constante sur une droite. Le point optimal solution de la r\u00e9gression Ridge est sur la tangente entre le cercle et la droite. Lorsqu'on augmente $\\lambda$, il faut r\u00e9duire l'erreur, donc passer sur une courbe de niveaux plus grande pour l'erreur $E_r$. Il arrive un moment o\u00f9 ce point tangent est situ\u00e9 sur un des axes. Ensuite, ce point tangent est situ\u00e9 de l'autre c\u00f4t\u00e9 de l'axe et en annulant le coefficient $a_1$, on d\u00e9cro\u00eet \u00e0 la fois $E_r$ et $E_l$."
      ]
    },
    {
      "cell_type": "markdown",
      "metadata": {},
      "source": [
        "## Validation crois\u00e9e et API scikit-learn\n",
        "\n",
        "La validation crois\u00e9e est simple \u00e0 faire dans *scikit-learn* est simple \u00e0 faire si le mod\u00e8le suit l'API de *scikit-learn* mais ce n'est pas le cas avec notre nouveau mod\u00e8le. C'est pourtant essentiel pour s'assurer que le mod\u00e8le est robuste. Toutefois *scikit-learn* permet de cr\u00e9er de nouveau mod\u00e8le \u00e0 la sauce *sciki-learn*."
      ]
    },
    {
      "cell_type": "code",
      "execution_count": 25,
      "metadata": {},
      "outputs": [
        {
          "data": {
            "text/plain": [
              "0.8869318967308191"
            ]
          },
          "execution_count": 26,
          "metadata": {},
          "output_type": "execute_result"
        }
      ],
      "source": [
        "from sklearn.base import BaseEstimator, RegressorMixin\n",
        "\n",
        "class LassoRandomForestRegressor(BaseEstimator, RegressorMixin):\n",
        "    def __init__(self,\n",
        "                 # Lasso\n",
        "                 alpha=1.0, fit_intercept=True, normalize=False,\n",
        "                 precompute=False, copy_X=True, max_iter=1000,\n",
        "                 tol=1e-4, warm_start_lasso=False, positive=False,\n",
        "                 random_state=None, selection='cyclic',\n",
        "                 # RF \n",
        "                 n_estimators=100,\n",
        "                 criterion=\"mse\",\n",
        "                 max_depth=None,\n",
        "                 min_samples_split=2,\n",
        "                 min_samples_leaf=1,\n",
        "                 min_weight_fraction_leaf=0.,\n",
        "                 max_features=\"auto\",\n",
        "                 max_leaf_nodes=None,\n",
        "                 min_impurity_decrease=0.,\n",
        "                 min_impurity_split=None,\n",
        "                 bootstrap=True,\n",
        "                 oob_score=False,\n",
        "                 n_jobs=None,\n",
        "                 # random_state=None,\n",
        "                 verbose=0,\n",
        "                 warm_start_rf=False,\n",
        "                 ccp_alpha=0.0,\n",
        "                 max_samples=None):\n",
        "\n",
        "        # Lasso\n",
        "        self.alpha = alpha\n",
        "        self.fit_intercept = fit_intercept\n",
        "        self.normalize = normalize\n",
        "        self.precompute = precompute\n",
        "        self.copy_X = copy_X\n",
        "        self.max_iter = max_iter\n",
        "        self.tol = tol\n",
        "        self.warm_start_lasso = warm_start_lasso\n",
        "        self.positive = positive\n",
        "        self.random_state = random_state\n",
        "        self.selection = selection\n",
        "        # RF \n",
        "        self.n_estimators = n_estimators\n",
        "        self.criterion = criterion\n",
        "        self.max_depth = max_depth\n",
        "        self.min_samples_split = min_samples_split\n",
        "        self.min_samples_leaf = min_samples_leaf\n",
        "        self.min_weight_fraction_leaf = min_weight_fraction_leaf\n",
        "        self.max_features = max_features\n",
        "        self.max_leaf_nodes = max_leaf_nodes\n",
        "        self.min_impurity_decrease = min_impurity_decrease\n",
        "        self.min_impurity_split = min_impurity_split\n",
        "        self.bootstrap = bootstrap\n",
        "        self.oob_score = oob_score\n",
        "        self.n_jobs = n_jobs\n",
        "        self.random_state = random_state\n",
        "        self.verbose = verbose\n",
        "        self.warm_start_rf = warm_start_rf\n",
        "        self.ccp_alpha = ccp_alpha\n",
        "        self.max_samples = max_samples\n",
        "\n",
        "    def _concatenate_prediction(self, X):\n",
        "        preds = []\n",
        "        for i in range(len(self.rf_.estimators_)):\n",
        "            pred = self.rf_.estimators_[i].predict(X)\n",
        "            preds.append(pred)\n",
        "        return numpy.vstack(preds).T        \n",
        "        \n",
        "    def fit(self, X, y, sample_weight=None):\n",
        "        self.rf_ = RandomForestRegressor(\n",
        "            n_estimators=self.n_estimators, criterion=self.criterion,\n",
        "            max_depth=self.max_depth, min_samples_split=self.min_samples_split,\n",
        "            min_samples_leaf=self.min_samples_leaf,\n",
        "            min_weight_fraction_leaf=self.min_weight_fraction_leaf,\n",
        "            max_features=self.max_features, max_leaf_nodes=self.max_leaf_nodes,\n",
        "            min_impurity_decrease=self.min_impurity_decrease,\n",
        "            min_impurity_split=self.min_impurity_split, bootstrap=self.bootstrap,\n",
        "            oob_score=self.oob_score, n_jobs=self.n_jobs,\n",
        "            random_state=self.random_state, verbose=self.verbose,\n",
        "            warm_start=self.warm_start_rf, ccp_alpha=self.ccp_alpha,\n",
        "            max_samples=self.max_samples)\n",
        "        \n",
        "        self.rf_.fit(X, y, sample_weight=sample_weight)\n",
        "        X_rf = self._concatenate_prediction(X)\n",
        "        \n",
        "        self.lasso_ = Lasso(\n",
        "            alpha=self.alpha, max_iter=self.max_iter, fit_intercept=self.fit_intercept,\n",
        "            normalize=self.normalize, precompute=self.precompute, copy_X=self.copy_X,\n",
        "            tol=self.tol, warm_start=self.warm_start_lasso, positive=self.positive,\n",
        "            random_state=self.random_state, selection=self.selection)\n",
        "        \n",
        "        self.lasso_.fit(X_rf, y)\n",
        "        return self\n",
        "    \n",
        "    def predict(self, X):\n",
        "        X_rf = self._concatenate_prediction(X)\n",
        "        return self.lasso_.predict(X_rf)\n",
        "\n",
        "\n",
        "model = LassoRandomForestRegressor(\n",
        "            alpha=1, n_estimators=100, max_iter=10000)\n",
        "model.fit(X_train, y_train)\n",
        "pred = model.predict(X_test)\n",
        "r2_score(y_test, pred)"
      ]
    },
    {
      "cell_type": "markdown",
      "metadata": {},
      "source": [
        "Et la validation crois\u00e9e  fut :"
      ]
    },
    {
      "cell_type": "code",
      "execution_count": 26,
      "metadata": {},
      "outputs": [
        {
          "data": {
            "text/plain": [
              "array([0.92772002, 0.90218937, 0.84563603, 0.88047392, 0.73041268])"
            ]
          },
          "execution_count": 27,
          "metadata": {},
          "output_type": "execute_result"
        }
      ],
      "source": [
        "from sklearn.model_selection import cross_val_score\n",
        "cross_val_score(model, X_train, y_train, cv=5)"
      ]
    },
    {
      "cell_type": "markdown",
      "metadata": {},
      "source": [
        "Ce n'est pas tr\u00e8s robuste. Peut-\u00eatre est-ce d\u00fb \u00e0 l'ordre des donn\u00e9es (un l\u00e9ger effet temporel)."
      ]
    },
    {
      "cell_type": "code",
      "execution_count": 27,
      "metadata": {},
      "outputs": [
        {
          "data": {
            "text/plain": [
              "array([0.9226095 , 0.91741457, 0.88203925, 0.77380077, 0.89373783])"
            ]
          },
          "execution_count": 28,
          "metadata": {},
          "output_type": "execute_result"
        }
      ],
      "source": [
        "from sklearn.model_selection import ShuffleSplit\n",
        "cross_val_score(LassoRandomForestRegressor(\n",
        "                    n_estimators=100, alpha=10, max_iter=10000),\n",
        "                X_train, y_train, cv=ShuffleSplit(5))"
      ]
    },
    {
      "cell_type": "markdown",
      "metadata": {},
      "source": [
        "Pas beaucoup mieux. Le mod\u00e8le n'est pas tr\u00e8s robuste."
      ]
    },
    {
      "cell_type": "markdown",
      "metadata": {},
      "source": [
        "On essaye n\u00e9anmoins de trouver les meilleurs param\u00e8tres \u00e0 l'aide d'une grille de recherche."
      ]
    },
    {
      "cell_type": "code",
      "execution_count": 28,
      "metadata": {},
      "outputs": [
        {
          "name": "stdout",
          "output_type": "stream",
          "text": [
            "Fitting 5 folds for each of 24 candidates, totalling 120 fits\n"
          ]
        },
        {
          "data": {
            "text/plain": [
              "GridSearchCV(estimator=LassoRandomForestRegressor(),\n",
              "             param_grid={'alpha': [0.1, 0.5, 1.0, 2.0, 5.0, 10],\n",
              "                         'max_iter': [10000],\n",
              "                         'n_estimators': [10, 20, 50, 100]},\n",
              "             verbose=1)"
            ]
          },
          "execution_count": 29,
          "metadata": {},
          "output_type": "execute_result"
        }
      ],
      "source": [
        "from sklearn.model_selection import GridSearchCV\n",
        "params = {'alpha': [0.1, 0.5, 1., 2., 5., 10],\n",
        "          'n_estimators': [10, 20, 50, 100],\n",
        "          'max_iter': [10000]\n",
        "         }\n",
        "grid = GridSearchCV(LassoRandomForestRegressor(),\n",
        "                    param_grid=params, verbose=1)\n",
        "grid.fit(X_train, y_train)"
      ]
    },
    {
      "cell_type": "code",
      "execution_count": 29,
      "metadata": {},
      "outputs": [
        {
          "data": {
            "text/plain": [
              "{'alpha': 1.0, 'max_iter': 10000, 'n_estimators': 100}"
            ]
          },
          "execution_count": 30,
          "metadata": {},
          "output_type": "execute_result"
        }
      ],
      "source": [
        "grid.best_params_"
      ]
    },
    {
      "cell_type": "code",
      "execution_count": 30,
      "metadata": {
        "scrolled": false
      },
      "outputs": [
        {
          "data": {
            "text/plain": [
              "0.8945178461701823"
            ]
          },
          "execution_count": 31,
          "metadata": {},
          "output_type": "execute_result"
        }
      ],
      "source": [
        "r2_score(y_test, grid.best_estimator_.predict(X_test))"
      ]
    },
    {
      "cell_type": "code",
      "execution_count": 31,
      "metadata": {},
      "outputs": [
        {
          "data": {
            "text/plain": [
              "67"
            ]
          },
          "execution_count": 32,
          "metadata": {},
          "output_type": "execute_result"
        }
      ],
      "source": [
        "sum(grid.best_estimator_.lasso_.coef_ == 0)"
      ]
    },
    {
      "cell_type": "markdown",
      "metadata": {},
      "source": [
        "On a r\u00e9ussi \u00e0 supprimer 27 arbres."
      ]
    },
    {
      "cell_type": "markdown",
      "metadata": {},
      "source": [
        "## Optimisation m\u00e9moire\n",
        "\n",
        "Le mod\u00e8le pr\u00e9c\u00e9dent n'est pas optimal dans le sens o\u00f9 il stocke en m\u00e9moire tous les arbres, m\u00eames ceux associ\u00e9s \u00e0 un coefficient nuls apr\u00e8s la r\u00e9gression Lasso alors que le calcul ne sert \u00e0 rien puisque ignor\u00e9."
      ]
    },
    {
      "cell_type": "code",
      "execution_count": 32,
      "metadata": {},
      "outputs": [
        {
          "name": "stderr",
          "output_type": "stream",
          "text": [
            "C:\\xavierdupre\\__home_\\github_fork\\scikit-learn\\sklearn\\linear_model\\_coordinate_descent.py:531: ConvergenceWarning: Objective did not converge. You might want to increase the number of iterations. Duality gap: 13.43406359249849, tolerance: 3.248936158311346\n",
            "  model = cd_fast.enet_coordinate_descent(\n"
          ]
        },
        {
          "data": {
            "text/plain": [
              "0.8942144703733796"
            ]
          },
          "execution_count": 33,
          "metadata": {},
          "output_type": "execute_result"
        }
      ],
      "source": [
        "class OptimizedLassoRandomForestRegressor(BaseEstimator, RegressorMixin):\n",
        "    def __init__(self,\n",
        "                 # Lasso\n",
        "                 alpha=1.0, fit_intercept=True, normalize=False,\n",
        "                 precompute=False, copy_X=True, max_iter=1000,\n",
        "                 tol=1e-4, warm_start_lasso=False, positive=False,\n",
        "                 random_state=None, selection='cyclic',\n",
        "                 # RF \n",
        "                 n_estimators=100,\n",
        "                 criterion=\"mse\",\n",
        "                 max_depth=None,\n",
        "                 min_samples_split=2,\n",
        "                 min_samples_leaf=1,\n",
        "                 min_weight_fraction_leaf=0.,\n",
        "                 max_features=\"auto\",\n",
        "                 max_leaf_nodes=None,\n",
        "                 min_impurity_decrease=0.,\n",
        "                 min_impurity_split=None,\n",
        "                 bootstrap=True,\n",
        "                 oob_score=False,\n",
        "                 n_jobs=None,\n",
        "                 # random_state=None,\n",
        "                 verbose=0,\n",
        "                 warm_start_rf=False,\n",
        "                 ccp_alpha=0.0,\n",
        "                 max_samples=None):\n",
        "        \n",
        "        # Lasso\n",
        "        self.alpha = alpha\n",
        "        self.fit_intercept = fit_intercept\n",
        "        self.normalize = normalize\n",
        "        self.precompute = precompute\n",
        "        self.copy_X = copy_X\n",
        "        self.max_iter = max_iter\n",
        "        self.tol = tol\n",
        "        self.warm_start_lasso = warm_start_lasso\n",
        "        self.positive = positive\n",
        "        self.random_state = random_state\n",
        "        self.selection = selection\n",
        "        # RF \n",
        "        self.n_estimators = n_estimators\n",
        "        self.criterion = criterion\n",
        "        self.max_depth = max_depth\n",
        "        self.min_samples_split = min_samples_split\n",
        "        self.min_samples_leaf = min_samples_leaf\n",
        "        self.min_weight_fraction_leaf = min_weight_fraction_leaf\n",
        "        self.max_features = max_features\n",
        "        self.max_leaf_nodes = max_leaf_nodes\n",
        "        self.min_impurity_decrease = min_impurity_decrease\n",
        "        self.min_impurity_split = min_impurity_split\n",
        "        self.bootstrap = bootstrap\n",
        "        self.oob_score = oob_score\n",
        "        self.n_jobs = n_jobs\n",
        "        self.random_state = random_state\n",
        "        self.verbose = verbose\n",
        "        self.warm_start_rf = warm_start_rf\n",
        "        self.ccp_alpha = ccp_alpha\n",
        "        self.max_samples = max_samples\n",
        "\n",
        "    def _concatenate_prediction(self, X):\n",
        "        preds = []\n",
        "        for i in range(len(self.rf_.estimators_)):\n",
        "            pred = self.rf_.estimators_[i].predict(X)\n",
        "            preds.append(pred)\n",
        "        return numpy.vstack(preds).T        \n",
        "        \n",
        "    def fit(self, X, y, sample_weight=None):\n",
        "        \n",
        "        self.rf_ = RandomForestRegressor(\n",
        "            n_estimators=self.n_estimators, criterion=self.criterion,\n",
        "            max_depth=self.max_depth, min_samples_split=self.min_samples_split,\n",
        "            min_samples_leaf=self.min_samples_leaf,\n",
        "            min_weight_fraction_leaf=self.min_weight_fraction_leaf,\n",
        "            max_features=self.max_features, max_leaf_nodes=self.max_leaf_nodes,\n",
        "            min_impurity_decrease=self.min_impurity_decrease,\n",
        "            min_impurity_split=self.min_impurity_split, bootstrap=self.bootstrap,\n",
        "            oob_score=self.oob_score, n_jobs=self.n_jobs,\n",
        "            random_state=self.random_state, verbose=self.verbose,\n",
        "            warm_start=self.warm_start_rf, ccp_alpha=self.ccp_alpha,\n",
        "            max_samples=self.max_samples)\n",
        "        \n",
        "        self.rf_.fit(X, y, sample_weight=sample_weight)\n",
        "        X_rf = self._concatenate_prediction(X)\n",
        "        \n",
        "        self.lasso_ = Lasso(\n",
        "            alpha=self.alpha, max_iter=self.max_iter, fit_intercept=self.fit_intercept,\n",
        "            normalize=self.normalize, precompute=self.precompute, copy_X=self.copy_X,\n",
        "            tol=self.tol, warm_start=self.warm_start_lasso, positive=self.positive,\n",
        "            random_state=self.random_state, selection=self.selection)\n",
        "        \n",
        "        self.lasso_.fit(X_rf, y)\n",
        "        \n",
        "        # on ne garde que les arbres associ\u00e9es \u00e0 des coefficients non nuls\n",
        "        self.coef_ = []\n",
        "        self.intercept_ = self.lasso_.intercept_\n",
        "        self.estimators_ = []\n",
        "        for i in range(len(self.rf_.estimators_)):\n",
        "            if self.lasso_.coef_[i] != 0:\n",
        "                self.estimators_.append(self.rf_.estimators_[i])\n",
        "                self.coef_.append(self.lasso_.coef_[i])\n",
        "        \n",
        "        self.coef_ = numpy.array(self.coef_)\n",
        "        del self.lasso_\n",
        "        del self.rf_        \n",
        "        return self\n",
        "    \n",
        "    def predict(self, X):\n",
        "        preds = []\n",
        "        for i in range(len(self.estimators_)):\n",
        "            pred = self.estimators_[i].predict(X)\n",
        "            preds.append(pred)\n",
        "        x_rf = numpy.vstack(preds).T \n",
        "    \n",
        "        return x_rf @ self.coef_ + self.intercept_\n",
        "\n",
        "model2 = OptimizedLassoRandomForestRegressor()\n",
        "model2.fit(X_train, y_train)\n",
        "pred = model2.predict(X_test)\n",
        "r2_score(y_test, pred)"
      ]
    },
    {
      "cell_type": "markdown",
      "metadata": {},
      "source": [
        "Le mod\u00e8le produit bien les m\u00eames r\u00e9sultats. V\u00e9rifions que le nouveau mod\u00e8le prend moins de place une fois enregistr\u00e9 sur le disque."
      ]
    },
    {
      "cell_type": "code",
      "execution_count": 33,
      "metadata": {},
      "outputs": [],
      "source": [
        "import pickle\n",
        "\n",
        "with open(\"optimzed_rf.pickle\", \"wb\") as f:\n",
        "    pickle.dump(model2, f)"
      ]
    },
    {
      "cell_type": "code",
      "execution_count": 34,
      "metadata": {},
      "outputs": [
        {
          "data": {
            "text/plain": [
              "0.8942144703733796"
            ]
          },
          "execution_count": 35,
          "metadata": {},
          "output_type": "execute_result"
        }
      ],
      "source": [
        "with open(\"optimzed_rf.pickle\", \"rb\") as f:\n",
        "    model2 = pickle.load(f)\n",
        "\n",
        "r2_score(y_test, model2.predict(X_test))"
      ]
    },
    {
      "cell_type": "code",
      "execution_count": 35,
      "metadata": {},
      "outputs": [],
      "source": [
        "with open(\"lasso_rf.pickle\", \"wb\") as f:\n",
        "    pickle.dump(model, f)"
      ]
    },
    {
      "cell_type": "code",
      "execution_count": 36,
      "metadata": {},
      "outputs": [
        {
          "data": {
            "text/plain": [
              "(1038603, 2938512)"
            ]
          },
          "execution_count": 37,
          "metadata": {},
          "output_type": "execute_result"
        }
      ],
      "source": [
        "import os\n",
        "os.stat(\"optimzed_rf.pickle\").st_size, os.stat(\"lasso_rf.pickle\").st_size"
      ]
    },
    {
      "cell_type": "markdown",
      "metadata": {},
      "source": [
        "C'est bien le cas."
      ]
    },
    {
      "cell_type": "code",
      "execution_count": 37,
      "metadata": {},
      "outputs": [],
      "source": []
    },
    {
      "cell_type": "code",
      "execution_count": 38,
      "metadata": {},
      "outputs": [],
      "source": []
    }
  ],
  "metadata": {
    "kernelspec": {
      "display_name": "Python 3",
      "language": "python",
      "name": "python3"
    },
    "language_info": {
      "codemirror_mode": {
        "name": "ipython",
        "version": 3
      },
      "file_extension": ".py",
      "mimetype": "text/x-python",
      "name": "python",
      "nbconvert_exporter": "python",
      "pygments_lexer": "ipython3",
      "version": "3.8.7"
    }
  },
  "nbformat": 4,
  "nbformat_minor": 2
}