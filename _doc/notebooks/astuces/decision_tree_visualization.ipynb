{
  "cells": [
    {
      "cell_type": "markdown",
      "metadata": {},
      "source": [
        "# Visualiser un arbre de d\u00e9cision\n",
        "\n",
        "Les arbres de d\u00e9cision sont des mod\u00e8les int\u00e9ressants car ils peuvent \u00eatre interpr\u00e9t\u00e9s. Encore faut-il pouvoir les voir."
      ]
    },
    {
      "cell_type": "code",
      "execution_count": 1,
      "metadata": {},
      "outputs": [],
      "source": [
        "from sklearn import datasets\n",
        "iris = datasets.load_iris()\n",
        "X = iris.data[:, :2]  # we only take the first two features.\n",
        "y = iris.target"
      ]
    },
    {
      "cell_type": "code",
      "execution_count": 2,
      "metadata": {},
      "outputs": [
        {
          "data": {
            "text/plain": [
              "DecisionTreeClassifier(class_weight=None, criterion='gini', max_depth=None,\n",
              "            max_features=None, max_leaf_nodes=None,\n",
              "            min_impurity_decrease=0.0, min_impurity_split=None,\n",
              "            min_samples_leaf=1, min_samples_split=2,\n",
              "            min_weight_fraction_leaf=0.0, presort=False, random_state=None,\n",
              "            splitter='best')"
            ]
          },
          "execution_count": 3,
          "metadata": {},
          "output_type": "execute_result"
        }
      ],
      "source": [
        "from sklearn.tree import DecisionTreeClassifier\n",
        "clf = DecisionTreeClassifier()\n",
        "clf.fit(X, y)"
      ]
    },
    {
      "cell_type": "markdown",
      "metadata": {},
      "source": [
        "[scikit-learn](http://scikit-learn.org/stable/) impl\u00e9mente une m\u00e9thode qui permet d'exporter de graphe au format [DOT](https://en.wikipedia.org/wiki/DOT_(graph_description_language)) : [export_graphviz](http://scikit-learn.org/stable/modules/generated/sklearn.tree.export_graphviz.html). Ce graphe peut \u00eatre visualiser avec l'outil [graphviz](https://www.graphviz.org/) ou des modules comme [pydot](https://github.com/erocarrera/pydot) mais cela passe par l'installation [graphviz](https://www.graphviz.org/)."
      ]
    },
    {
      "cell_type": "code",
      "execution_count": 3,
      "metadata": {
        "scrolled": false
      },
      "outputs": [
        {
          "name": "stdout",
          "output_type": "stream",
          "text": [
            "digraph Tree {\n",
            "node [shape=box] ;\n",
            "0 [label=\"X[0] <= 5.45\\ngini = 0.667\\nsamples = 150\\nvalue = [50, 50, 50]\"] ;\n",
            "1 [label=\"X[1] <= 2.8\\ngini = 0.237\\nsamples = 52\\nvalue = [45, 6, 1]\"] ;\n",
            "0 -> 1 [labeldistance=2.5, labelangle=45, headlabel=\"True\"] ;\n",
            "2 [label=\"X[0] <= 4.7\\ngini = 0.449\\nsamples = 7\\nvalue = [1, 5, 1]\"] ;\n",
            "1 -> 2 ;\n",
            "3 [label=\"gini = 0.0\\nsamples = 1\\nvalue = [1, 0, 0]\"] ;\n",
            "2 -> 3 ;\n",
            "4 [label=\"X[0] <= 4.95\\ngini = 0.278\\nsamples = 6\\nvalue = [0, 5, 1]\"] ;\n",
            "...\n"
          ]
        }
      ],
      "source": [
        "from sklearn.tree import export_graphviz\n",
        "dot = export_graphviz(clf, out_file=None)\n",
        "print(\"\\n\".join(dot.split('\\n')[:10]) + \"\\n...\")"
      ]
    },
    {
      "cell_type": "markdown",
      "metadata": {},
      "source": [
        "La libraire [viz.js](https://github.com/mdaines/viz.js/) est une version javascript de [graphviz](https://www.graphviz.org/). Avec un wrapper disponible [RenderJsDot](http://www.xavierdupre.fr/app/jyquickhelper/helpsphinx/jyquickhelper/jspy/render_nb_js_dot.html?highlight=renderjsdot#jyquickhelper.jspy.render_nb_js_dot.RenderJsDot), cela devient :"
      ]
    },
    {
      "cell_type": "code",
      "execution_count": 4,
      "metadata": {},
      "outputs": [
        {
          "data": {
            "text/html": [
              "<div id=\"M25acc8dd57fc49e2a4e611fb1f1e9cf7-cont\"><div id=\"M25acc8dd57fc49e2a4e611fb1f1e9cf7\" style=\"width:100%;height:100%;\"></div></div>\n",
              "<script>\n",
              "\n",
              "require(['http://www.xavierdupre.fr/js/vizjs/viz.js'], function() { var svgGraph = Viz(\"digraph Tree {\\nnode [shape=box] ;\\n0 [label=\\\"X[0] <= 5.45\\ngini = 0.667\\nsamples = 150\\nvalue = [50, 50, 50]\\\"] ;\\n1 [label=\\\"X[1] <= 2.8\\ngini = 0.237\\nsamples = 52\\nvalue = [45, 6, 1]\\\"] ;\\n0 -> 1 [labeldistance=2.5, labelangle=45, headlabel=\\\"True\\\"] ;\\n2 [label=\\\"X[0] <= 4.7\\ngini = 0.449\\nsamples = 7\\nvalue = [1, 5, 1]\\\"] ;\\n1 -> 2 ;\\n3 [label=\\\"gini = 0.0\\nsamples = 1\\nvalue = [1, 0, 0]\\\"] ;\\n2 -> 3 ;\\n4 [label=\\\"X[0] <= 4.95\\ngini = 0.278\\nsamples = 6\\nvalue = [0, 5, 1]\\\"] ;\\n2 -> 4 ;\\n5 [label=\\\"X[1] <= 2.45\\ngini = 0.5\\nsamples = 2\\nvalue = [0, 1, 1]\\\"] ;\\n4 -> 5 ;\\n6 [label=\\\"gini = 0.0\\nsamples = 1\\nvalue = [0, 1, 0]\\\"] ;\\n5 -> 6 ;\\n7 [label=\\\"gini = 0.0\\nsamples = 1\\nvalue = [0, 0, 1]\\\"] ;\\n5 -> 7 ;\\n8 [label=\\\"gini = 0.0\\nsamples = 4\\nvalue = [0, 4, 0]\\\"] ;\\n4 -> 8 ;\\n9 [label=\\\"X[0] <= 5.35\\ngini = 0.043\\nsamples = 45\\nvalue = [44, 1, 0]\\\"] ;\\n1 -> 9 ;\\n10 [label=\\\"gini = 0.0\\nsamples = 39\\nvalue = [39, 0, 0]\\\"] ;\\n9 -> 10 ;\\n11 [label=\\\"X[1] <= 3.2\\ngini = 0.278\\nsamples = 6\\nvalue = [5, 1, 0]\\\"] ;\\n9 -> 11 ;\\n12 [label=\\\"gini = 0.0\\nsamples = 1\\nvalue = [0, 1, 0]\\\"] ;\\n11 -> 12 ;\\n13 [label=\\\"gini = 0.0\\nsamples = 5\\nvalue = [5, 0, 0]\\\"] ;\\n11 -> 13 ;\\n14 [label=\\\"X[0] <= 6.15\\ngini = 0.546\\nsamples = 98\\nvalue = [5, 44, 49]\\\"] ;\\n0 -> 14 [labeldistance=2.5, labelangle=-45, headlabel=\\\"False\\\"] ;\\n15 [label=\\\"X[1] <= 3.45\\ngini = 0.508\\nsamples = 43\\nvalue = [5, 28, 10]\\\"] ;\\n14 -> 15 ;\\n16 [label=\\\"X[0] <= 5.75\\ngini = 0.388\\nsamples = 38\\nvalue = [0, 28, 10]\\\"] ;\\n15 -> 16 ;\\n17 [label=\\\"X[0] <= 5.55\\ngini = 0.208\\nsamples = 17\\nvalue = [0, 15, 2]\\\"] ;\\n16 -> 17 ;\\n18 [label=\\\"gini = 0.0\\nsamples = 5\\nvalue = [0, 5, 0]\\\"] ;\\n17 -> 18 ;\\n19 [label=\\\"X[1] <= 2.55\\ngini = 0.278\\nsamples = 12\\nvalue = [0, 10, 2]\\\"] ;\\n17 -> 19 ;\\n20 [label=\\\"X[0] <= 5.65\\ngini = 0.5\\nsamples = 2\\nvalue = [0, 1, 1]\\\"] ;\\n19 -> 20 ;\\n21 [label=\\\"gini = 0.0\\nsamples = 1\\nvalue = [0, 1, 0]\\\"] ;\\n20 -> 21 ;\\n22 [label=\\\"gini = 0.0\\nsamples = 1\\nvalue = [0, 0, 1]\\\"] ;\\n20 -> 22 ;\\n23 [label=\\\"X[0] <= 5.65\\ngini = 0.18\\nsamples = 10\\nvalue = [0, 9, 1]\\\"] ;\\n19 -> 23 ;\\n24 [label=\\\"X[1] <= 2.85\\ngini = 0.32\\nsamples = 5\\nvalue = [0, 4, 1]\\\"] ;\\n23 -> 24 ;\\n25 [label=\\\"X[1] <= 2.75\\ngini = 0.5\\nsamples = 2\\nvalue = [0, 1, 1]\\\"] ;\\n24 -> 25 ;\\n26 [label=\\\"gini = 0.0\\nsamples = 1\\nvalue = [0, 1, 0]\\\"] ;\\n25 -> 26 ;\\n27 [label=\\\"gini = 0.0\\nsamples = 1\\nvalue = [0, 0, 1]\\\"] ;\\n25 -> 27 ;\\n28 [label=\\\"gini = 0.0\\nsamples = 3\\nvalue = [0, 3, 0]\\\"] ;\\n24 -> 28 ;\\n29 [label=\\\"gini = 0.0\\nsamples = 5\\nvalue = [0, 5, 0]\\\"] ;\\n23 -> 29 ;\\n30 [label=\\\"X[1] <= 3.1\\ngini = 0.472\\nsamples = 21\\nvalue = [0, 13, 8]\\\"] ;\\n16 -> 30 ;\\n31 [label=\\\"X[1] <= 2.95\\ngini = 0.488\\nsamples = 19\\nvalue = [0, 11, 8]\\\"] ;\\n30 -> 31 ;\\n32 [label=\\\"X[1] <= 2.85\\ngini = 0.459\\nsamples = 14\\nvalue = [0, 9, 5]\\\"] ;\\n31 -> 32 ;\\n33 [label=\\\"X[0] <= 5.9\\ngini = 0.486\\nsamples = 12\\nvalue = [0, 7, 5]\\\"] ;\\n32 -> 33 ;\\n34 [label=\\\"X[1] <= 2.65\\ngini = 0.5\\nsamples = 6\\nvalue = [0, 3, 3]\\\"] ;\\n33 -> 34 ;\\n35 [label=\\\"gini = 0.0\\nsamples = 1\\nvalue = [0, 1, 0]\\\"] ;\\n34 -> 35 ;\\n36 [label=\\\"X[1] <= 2.75\\ngini = 0.48\\nsamples = 5\\nvalue = [0, 2, 3]\\\"] ;\\n34 -> 36 ;\\n37 [label=\\\"gini = 0.5\\nsamples = 4\\nvalue = [0, 2, 2]\\\"] ;\\n36 -> 37 ;\\n38 [label=\\\"gini = 0.0\\nsamples = 1\\nvalue = [0, 0, 1]\\\"] ;\\n36 -> 38 ;\\n39 [label=\\\"X[1] <= 2.65\\ngini = 0.444\\nsamples = 6\\nvalue = [0, 4, 2]\\\"] ;\\n33 -> 39 ;\\n40 [label=\\\"X[1] <= 2.4\\ngini = 0.444\\nsamples = 3\\nvalue = [0, 1, 2]\\\"] ;\\n39 -> 40 ;\\n41 [label=\\\"gini = 0.5\\nsamples = 2\\nvalue = [0, 1, 1]\\\"] ;\\n40 -> 41 ;\\n42 [label=\\\"gini = 0.0\\nsamples = 1\\nvalue = [0, 0, 1]\\\"] ;\\n40 -> 42 ;\\n43 [label=\\\"gini = 0.0\\nsamples = 3\\nvalue = [0, 3, 0]\\\"] ;\\n39 -> 43 ;\\n44 [label=\\\"gini = 0.0\\nsamples = 2\\nvalue = [0, 2, 0]\\\"] ;\\n32 -> 44 ;\\n45 [label=\\\"X[0] <= 5.95\\ngini = 0.48\\nsamples = 5\\nvalue = [0, 2, 3]\\\"] ;\\n31 -> 45 ;\\n46 [label=\\\"gini = 0.5\\nsamples = 2\\nvalue = [0, 1, 1]\\\"] ;\\n45 -> 46 ;\\n47 [label=\\\"X[0] <= 6.05\\ngini = 0.444\\nsamples = 3\\nvalue = [0, 1, 2]\\\"] ;\\n45 -> 47 ;\\n48 [label=\\\"gini = 0.0\\nsamples = 1\\nvalue = [0, 0, 1]\\\"] ;\\n47 -> 48 ;\\n49 [label=\\\"gini = 0.5\\nsamples = 2\\nvalue = [0, 1, 1]\\\"] ;\\n47 -> 49 ;\\n50 [label=\\\"gini = 0.0\\nsamples = 2\\nvalue = [0, 2, 0]\\\"] ;\\n30 -> 50 ;\\n51 [label=\\\"gini = 0.0\\nsamples = 5\\nvalue = [5, 0, 0]\\\"] ;\\n15 -> 51 ;\\n52 [label=\\\"X[0] <= 7.05\\ngini = 0.413\\nsamples = 55\\nvalue = [0, 16, 39]\\\"] ;\\n14 -> 52 ;\\n53 [label=\\\"X[1] <= 2.4\\ngini = 0.467\\nsamples = 43\\nvalue = [0, 16, 27]\\\"] ;\\n52 -> 53 ;\\n54 [label=\\\"gini = 0.0\\nsamples = 2\\nvalue = [0, 2, 0]\\\"] ;\\n53 -> 54 ;\\n55 [label=\\\"X[0] <= 6.95\\ngini = 0.45\\nsamples = 41\\nvalue = [0, 14, 27]\\\"] ;\\n53 -> 55 ;\\n56 [label=\\\"X[1] <= 3.15\\ngini = 0.439\\nsamples = 40\\nvalue = [0, 13, 27]\\\"] ;\\n55 -> 56 ;\\n57 [label=\\\"X[0] <= 6.55\\ngini = 0.471\\nsamples = 29\\nvalue = [0, 11, 18]\\\"] ;\\n56 -> 57 ;\\n58 [label=\\\"X[1] <= 2.95\\ngini = 0.375\\nsamples = 16\\nvalue = [0, 4, 12]\\\"] ;\\n57 -> 58 ;\\n59 [label=\\\"X[0] <= 6.45\\ngini = 0.444\\nsamples = 12\\nvalue = [0, 4, 8]\\\"] ;\\n58 -> 59 ;\\n60 [label=\\\"X[1] <= 2.85\\ngini = 0.397\\nsamples = 11\\nvalue = [0, 3, 8]\\\"] ;\\n59 -> 60 ;\\n61 [label=\\\"X[1] <= 2.6\\ngini = 0.219\\nsamples = 8\\nvalue = [0, 1, 7]\\\"] ;\\n60 -> 61 ;\\n62 [label=\\\"gini = 0.5\\nsamples = 2\\nvalue = [0, 1, 1]\\\"] ;\\n61 -> 62 ;\\n63 [label=\\\"gini = 0.0\\nsamples = 6\\nvalue = [0, 0, 6]\\\"] ;\\n61 -> 63 ;\\n64 [label=\\\"X[0] <= 6.25\\ngini = 0.444\\nsamples = 3\\nvalue = [0, 2, 1]\\\"] ;\\n60 -> 64 ;\\n65 [label=\\\"gini = 0.0\\nsamples = 1\\nvalue = [0, 1, 0]\\\"] ;\\n64 -> 65 ;\\n66 [label=\\\"X[0] <= 6.35\\ngini = 0.5\\nsamples = 2\\nvalue = [0, 1, 1]\\\"] ;\\n64 -> 66 ;\\n67 [label=\\\"gini = 0.0\\nsamples = 1\\nvalue = [0, 0, 1]\\\"] ;\\n66 -> 67 ;\\n68 [label=\\\"gini = 0.0\\nsamples = 1\\nvalue = [0, 1, 0]\\\"] ;\\n66 -> 68 ;\\n69 [label=\\\"gini = 0.0\\nsamples = 1\\nvalue = [0, 1, 0]\\\"] ;\\n59 -> 69 ;\\n70 [label=\\\"gini = 0.0\\nsamples = 4\\nvalue = [0, 0, 4]\\\"] ;\\n58 -> 70 ;\\n71 [label=\\\"X[0] <= 6.65\\ngini = 0.497\\nsamples = 13\\nvalue = [0, 7, 6]\\\"] ;\\n57 -> 71 ;\\n72 [label=\\\"gini = 0.0\\nsamples = 2\\nvalue = [0, 2, 0]\\\"] ;\\n71 -> 72 ;\\n73 [label=\\\"X[1] <= 2.65\\ngini = 0.496\\nsamples = 11\\nvalue = [0, 5, 6]\\\"] ;\\n71 -> 73 ;\\n74 [label=\\\"gini = 0.0\\nsamples = 1\\nvalue = [0, 0, 1]\\\"] ;\\n73 -> 74 ;\\n75 [label=\\\"X[1] <= 2.9\\ngini = 0.5\\nsamples = 10\\nvalue = [0, 5, 5]\\\"] ;\\n73 -> 75 ;\\n76 [label=\\\"gini = 0.0\\nsamples = 1\\nvalue = [0, 1, 0]\\\"] ;\\n75 -> 76 ;\\n77 [label=\\\"X[0] <= 6.75\\ngini = 0.494\\nsamples = 9\\nvalue = [0, 4, 5]\\\"] ;\\n75 -> 77 ;\\n78 [label=\\\"X[1] <= 3.05\\ngini = 0.48\\nsamples = 5\\nvalue = [0, 3, 2]\\\"] ;\\n77 -> 78 ;\\n79 [label=\\\"gini = 0.5\\nsamples = 2\\nvalue = [0, 1, 1]\\\"] ;\\n78 -> 79 ;\\n80 [label=\\\"gini = 0.444\\nsamples = 3\\nvalue = [0, 2, 1]\\\"] ;\\n78 -> 80 ;\\n81 [label=\\\"X[0] <= 6.85\\ngini = 0.375\\nsamples = 4\\nvalue = [0, 1, 3]\\\"] ;\\n77 -> 81 ;\\n82 [label=\\\"gini = 0.0\\nsamples = 1\\nvalue = [0, 0, 1]\\\"] ;\\n81 -> 82 ;\\n83 [label=\\\"gini = 0.444\\nsamples = 3\\nvalue = [0, 1, 2]\\\"] ;\\n81 -> 83 ;\\n84 [label=\\\"X[0] <= 6.45\\ngini = 0.298\\nsamples = 11\\nvalue = [0, 2, 9]\\\"] ;\\n56 -> 84 ;\\n85 [label=\\\"X[1] <= 3.35\\ngini = 0.444\\nsamples = 6\\nvalue = [0, 2, 4]\\\"] ;\\n84 -> 85 ;\\n86 [label=\\\"X[0] <= 6.35\\ngini = 0.5\\nsamples = 4\\nvalue = [0, 2, 2]\\\"] ;\\n85 -> 86 ;\\n87 [label=\\\"gini = 0.5\\nsamples = 2\\nvalue = [0, 1, 1]\\\"] ;\\n86 -> 87 ;\\n88 [label=\\\"gini = 0.5\\nsamples = 2\\nvalue = [0, 1, 1]\\\"] ;\\n86 -> 88 ;\\n89 [label=\\\"gini = 0.0\\nsamples = 2\\nvalue = [0, 0, 2]\\\"] ;\\n85 -> 89 ;\\n90 [label=\\\"gini = 0.0\\nsamples = 5\\nvalue = [0, 0, 5]\\\"] ;\\n84 -> 90 ;\\n91 [label=\\\"gini = 0.0\\nsamples = 1\\nvalue = [0, 1, 0]\\\"] ;\\n55 -> 91 ;\\n92 [label=\\\"gini = 0.0\\nsamples = 12\\nvalue = [0, 0, 12]\\\"] ;\\n52 -> 92 ;\\n}\");\n",
              "document.getElementById('M25acc8dd57fc49e2a4e611fb1f1e9cf7').innerHTML = svgGraph; });\n",
              "\n",
              "</script>"
            ],
            "text/plain": [
              "<jyquickhelper.jspy.render_nb_js_dot.RenderJsDot at 0x21d095d15c0>"
            ]
          },
          "execution_count": 5,
          "metadata": {},
          "output_type": "execute_result"
        }
      ],
      "source": [
        "from jyquickhelper import RenderJsDot\n",
        "RenderJsDot(dot)"
      ]
    },
    {
      "cell_type": "markdown",
      "metadata": {},
      "source": [
        "C'est encore lisible mais cela risque de ne plus le devenir pour de gros arbres. On utilise alors la librairie [vis.js](http://visjs.org/) et le wrapper [RenderJsVis](http://www.xavierdupre.fr/app/jyquickhelper/helpsphinx/jyquickhelper/jspy/render_nb_js_vis.html?highlight=renderjsvis#jyquickhelper.jspy.render_nb_js_vis.RenderJsVis)."
      ]
    },
    {
      "cell_type": "code",
      "execution_count": 5,
      "metadata": {},
      "outputs": [
        {
          "data": {
            "text/html": [
              "<div id=\"M6f444d344a324e179d04d35e3bfd2c00-css\"><link rel=\"stylesheet\" href=\"http://www.xavierdupre.fr/js/visjs/vis-network.min.css\" type=\"text/css\" /><link rel=\"stylesheet\" href=\"http://www.xavierdupre.fr/js/visjs/vis.min.css\" type=\"text/css\" /><div id=\"M6f444d344a324e179d04d35e3bfd2c00\" style=\"width:100%;height:400px;\"></div></div>\n",
              "<script>\n",
              "require.config({\n",
              "paths:{\n",
              "'vis':'http://www.xavierdupre.fr/js/visjs/vis.min',\n",
              "},\n",
              "});\n",
              "\n",
              "require(['vis'], function(vis) { \n",
              "var DOTstring = 'digraph Tree {\\nnode [shape=box] ;\\n0 [label=\"X[0] <= 5.45\\ngini = 0.667\\nsamples = 150\\nvalue = [50, 50, 50]\"] ;\\n1 [label=\"X[1] <= 2.8\\ngini = 0.237\\nsamples = 52\\nvalue = [45, 6, 1]\"] ;\\n0 -> 1 [labeldistance=2.5, labelangle=45, headlabel=\"True\"] ;\\n2 [label=\"X[0] <= 4.7\\ngini = 0.449\\nsamples = 7\\nvalue = [1, 5, 1]\"] ;\\n1 -> 2 ;\\n3 [label=\"gini = 0.0\\nsamples = 1\\nvalue = [1, 0, 0]\"] ;\\n2 -> 3 ;\\n4 [label=\"X[0] <= 4.95\\ngini = 0.278\\nsamples = 6\\nvalue = [0, 5, 1]\"] ;\\n2 -> 4 ;\\n5 [label=\"X[1] <= 2.45\\ngini = 0.5\\nsamples = 2\\nvalue = [0, 1, 1]\"] ;\\n4 -> 5 ;\\n6 [label=\"gini = 0.0\\nsamples = 1\\nvalue = [0, 1, 0]\"] ;\\n5 -> 6 ;\\n7 [label=\"gini = 0.0\\nsamples = 1\\nvalue = [0, 0, 1]\"] ;\\n5 -> 7 ;\\n8 [label=\"gini = 0.0\\nsamples = 4\\nvalue = [0, 4, 0]\"] ;\\n4 -> 8 ;\\n9 [label=\"X[0] <= 5.35\\ngini = 0.043\\nsamples = 45\\nvalue = [44, 1, 0]\"] ;\\n1 -> 9 ;\\n10 [label=\"gini = 0.0\\nsamples = 39\\nvalue = [39, 0, 0]\"] ;\\n9 -> 10 ;\\n11 [label=\"X[1] <= 3.2\\ngini = 0.278\\nsamples = 6\\nvalue = [5, 1, 0]\"] ;\\n9 -> 11 ;\\n12 [label=\"gini = 0.0\\nsamples = 1\\nvalue = [0, 1, 0]\"] ;\\n11 -> 12 ;\\n13 [label=\"gini = 0.0\\nsamples = 5\\nvalue = [5, 0, 0]\"] ;\\n11 -> 13 ;\\n14 [label=\"X[0] <= 6.15\\ngini = 0.546\\nsamples = 98\\nvalue = [5, 44, 49]\"] ;\\n0 -> 14 [labeldistance=2.5, labelangle=-45, headlabel=\"False\"] ;\\n15 [label=\"X[1] <= 3.45\\ngini = 0.508\\nsamples = 43\\nvalue = [5, 28, 10]\"] ;\\n14 -> 15 ;\\n16 [label=\"X[0] <= 5.75\\ngini = 0.388\\nsamples = 38\\nvalue = [0, 28, 10]\"] ;\\n15 -> 16 ;\\n17 [label=\"X[0] <= 5.55\\ngini = 0.208\\nsamples = 17\\nvalue = [0, 15, 2]\"] ;\\n16 -> 17 ;\\n18 [label=\"gini = 0.0\\nsamples = 5\\nvalue = [0, 5, 0]\"] ;\\n17 -> 18 ;\\n19 [label=\"X[1] <= 2.55\\ngini = 0.278\\nsamples = 12\\nvalue = [0, 10, 2]\"] ;\\n17 -> 19 ;\\n20 [label=\"X[0] <= 5.65\\ngini = 0.5\\nsamples = 2\\nvalue = [0, 1, 1]\"] ;\\n19 -> 20 ;\\n21 [label=\"gini = 0.0\\nsamples = 1\\nvalue = [0, 1, 0]\"] ;\\n20 -> 21 ;\\n22 [label=\"gini = 0.0\\nsamples = 1\\nvalue = [0, 0, 1]\"] ;\\n20 -> 22 ;\\n23 [label=\"X[0] <= 5.65\\ngini = 0.18\\nsamples = 10\\nvalue = [0, 9, 1]\"] ;\\n19 -> 23 ;\\n24 [label=\"X[1] <= 2.85\\ngini = 0.32\\nsamples = 5\\nvalue = [0, 4, 1]\"] ;\\n23 -> 24 ;\\n25 [label=\"X[1] <= 2.75\\ngini = 0.5\\nsamples = 2\\nvalue = [0, 1, 1]\"] ;\\n24 -> 25 ;\\n26 [label=\"gini = 0.0\\nsamples = 1\\nvalue = [0, 1, 0]\"] ;\\n25 -> 26 ;\\n27 [label=\"gini = 0.0\\nsamples = 1\\nvalue = [0, 0, 1]\"] ;\\n25 -> 27 ;\\n28 [label=\"gini = 0.0\\nsamples = 3\\nvalue = [0, 3, 0]\"] ;\\n24 -> 28 ;\\n29 [label=\"gini = 0.0\\nsamples = 5\\nvalue = [0, 5, 0]\"] ;\\n23 -> 29 ;\\n30 [label=\"X[1] <= 3.1\\ngini = 0.472\\nsamples = 21\\nvalue = [0, 13, 8]\"] ;\\n16 -> 30 ;\\n31 [label=\"X[1] <= 2.95\\ngini = 0.488\\nsamples = 19\\nvalue = [0, 11, 8]\"] ;\\n30 -> 31 ;\\n32 [label=\"X[1] <= 2.85\\ngini = 0.459\\nsamples = 14\\nvalue = [0, 9, 5]\"] ;\\n31 -> 32 ;\\n33 [label=\"X[0] <= 5.9\\ngini = 0.486\\nsamples = 12\\nvalue = [0, 7, 5]\"] ;\\n32 -> 33 ;\\n34 [label=\"X[1] <= 2.65\\ngini = 0.5\\nsamples = 6\\nvalue = [0, 3, 3]\"] ;\\n33 -> 34 ;\\n35 [label=\"gini = 0.0\\nsamples = 1\\nvalue = [0, 1, 0]\"] ;\\n34 -> 35 ;\\n36 [label=\"X[1] <= 2.75\\ngini = 0.48\\nsamples = 5\\nvalue = [0, 2, 3]\"] ;\\n34 -> 36 ;\\n37 [label=\"gini = 0.5\\nsamples = 4\\nvalue = [0, 2, 2]\"] ;\\n36 -> 37 ;\\n38 [label=\"gini = 0.0\\nsamples = 1\\nvalue = [0, 0, 1]\"] ;\\n36 -> 38 ;\\n39 [label=\"X[1] <= 2.65\\ngini = 0.444\\nsamples = 6\\nvalue = [0, 4, 2]\"] ;\\n33 -> 39 ;\\n40 [label=\"X[1] <= 2.4\\ngini = 0.444\\nsamples = 3\\nvalue = [0, 1, 2]\"] ;\\n39 -> 40 ;\\n41 [label=\"gini = 0.5\\nsamples = 2\\nvalue = [0, 1, 1]\"] ;\\n40 -> 41 ;\\n42 [label=\"gini = 0.0\\nsamples = 1\\nvalue = [0, 0, 1]\"] ;\\n40 -> 42 ;\\n43 [label=\"gini = 0.0\\nsamples = 3\\nvalue = [0, 3, 0]\"] ;\\n39 -> 43 ;\\n44 [label=\"gini = 0.0\\nsamples = 2\\nvalue = [0, 2, 0]\"] ;\\n32 -> 44 ;\\n45 [label=\"X[0] <= 5.95\\ngini = 0.48\\nsamples = 5\\nvalue = [0, 2, 3]\"] ;\\n31 -> 45 ;\\n46 [label=\"gini = 0.5\\nsamples = 2\\nvalue = [0, 1, 1]\"] ;\\n45 -> 46 ;\\n47 [label=\"X[0] <= 6.05\\ngini = 0.444\\nsamples = 3\\nvalue = [0, 1, 2]\"] ;\\n45 -> 47 ;\\n48 [label=\"gini = 0.0\\nsamples = 1\\nvalue = [0, 0, 1]\"] ;\\n47 -> 48 ;\\n49 [label=\"gini = 0.5\\nsamples = 2\\nvalue = [0, 1, 1]\"] ;\\n47 -> 49 ;\\n50 [label=\"gini = 0.0\\nsamples = 2\\nvalue = [0, 2, 0]\"] ;\\n30 -> 50 ;\\n51 [label=\"gini = 0.0\\nsamples = 5\\nvalue = [5, 0, 0]\"] ;\\n15 -> 51 ;\\n52 [label=\"X[0] <= 7.05\\ngini = 0.413\\nsamples = 55\\nvalue = [0, 16, 39]\"] ;\\n14 -> 52 ;\\n53 [label=\"X[1] <= 2.4\\ngini = 0.467\\nsamples = 43\\nvalue = [0, 16, 27]\"] ;\\n52 -> 53 ;\\n54 [label=\"gini = 0.0\\nsamples = 2\\nvalue = [0, 2, 0]\"] ;\\n53 -> 54 ;\\n55 [label=\"X[0] <= 6.95\\ngini = 0.45\\nsamples = 41\\nvalue = [0, 14, 27]\"] ;\\n53 -> 55 ;\\n56 [label=\"X[1] <= 3.15\\ngini = 0.439\\nsamples = 40\\nvalue = [0, 13, 27]\"] ;\\n55 -> 56 ;\\n57 [label=\"X[0] <= 6.55\\ngini = 0.471\\nsamples = 29\\nvalue = [0, 11, 18]\"] ;\\n56 -> 57 ;\\n58 [label=\"X[1] <= 2.95\\ngini = 0.375\\nsamples = 16\\nvalue = [0, 4, 12]\"] ;\\n57 -> 58 ;\\n59 [label=\"X[0] <= 6.45\\ngini = 0.444\\nsamples = 12\\nvalue = [0, 4, 8]\"] ;\\n58 -> 59 ;\\n60 [label=\"X[1] <= 2.85\\ngini = 0.397\\nsamples = 11\\nvalue = [0, 3, 8]\"] ;\\n59 -> 60 ;\\n61 [label=\"X[1] <= 2.6\\ngini = 0.219\\nsamples = 8\\nvalue = [0, 1, 7]\"] ;\\n60 -> 61 ;\\n62 [label=\"gini = 0.5\\nsamples = 2\\nvalue = [0, 1, 1]\"] ;\\n61 -> 62 ;\\n63 [label=\"gini = 0.0\\nsamples = 6\\nvalue = [0, 0, 6]\"] ;\\n61 -> 63 ;\\n64 [label=\"X[0] <= 6.25\\ngini = 0.444\\nsamples = 3\\nvalue = [0, 2, 1]\"] ;\\n60 -> 64 ;\\n65 [label=\"gini = 0.0\\nsamples = 1\\nvalue = [0, 1, 0]\"] ;\\n64 -> 65 ;\\n66 [label=\"X[0] <= 6.35\\ngini = 0.5\\nsamples = 2\\nvalue = [0, 1, 1]\"] ;\\n64 -> 66 ;\\n67 [label=\"gini = 0.0\\nsamples = 1\\nvalue = [0, 0, 1]\"] ;\\n66 -> 67 ;\\n68 [label=\"gini = 0.0\\nsamples = 1\\nvalue = [0, 1, 0]\"] ;\\n66 -> 68 ;\\n69 [label=\"gini = 0.0\\nsamples = 1\\nvalue = [0, 1, 0]\"] ;\\n59 -> 69 ;\\n70 [label=\"gini = 0.0\\nsamples = 4\\nvalue = [0, 0, 4]\"] ;\\n58 -> 70 ;\\n71 [label=\"X[0] <= 6.65\\ngini = 0.497\\nsamples = 13\\nvalue = [0, 7, 6]\"] ;\\n57 -> 71 ;\\n72 [label=\"gini = 0.0\\nsamples = 2\\nvalue = [0, 2, 0]\"] ;\\n71 -> 72 ;\\n73 [label=\"X[1] <= 2.65\\ngini = 0.496\\nsamples = 11\\nvalue = [0, 5, 6]\"] ;\\n71 -> 73 ;\\n74 [label=\"gini = 0.0\\nsamples = 1\\nvalue = [0, 0, 1]\"] ;\\n73 -> 74 ;\\n75 [label=\"X[1] <= 2.9\\ngini = 0.5\\nsamples = 10\\nvalue = [0, 5, 5]\"] ;\\n73 -> 75 ;\\n76 [label=\"gini = 0.0\\nsamples = 1\\nvalue = [0, 1, 0]\"] ;\\n75 -> 76 ;\\n77 [label=\"X[0] <= 6.75\\ngini = 0.494\\nsamples = 9\\nvalue = [0, 4, 5]\"] ;\\n75 -> 77 ;\\n78 [label=\"X[1] <= 3.05\\ngini = 0.48\\nsamples = 5\\nvalue = [0, 3, 2]\"] ;\\n77 -> 78 ;\\n79 [label=\"gini = 0.5\\nsamples = 2\\nvalue = [0, 1, 1]\"] ;\\n78 -> 79 ;\\n80 [label=\"gini = 0.444\\nsamples = 3\\nvalue = [0, 2, 1]\"] ;\\n78 -> 80 ;\\n81 [label=\"X[0] <= 6.85\\ngini = 0.375\\nsamples = 4\\nvalue = [0, 1, 3]\"] ;\\n77 -> 81 ;\\n82 [label=\"gini = 0.0\\nsamples = 1\\nvalue = [0, 0, 1]\"] ;\\n81 -> 82 ;\\n83 [label=\"gini = 0.444\\nsamples = 3\\nvalue = [0, 1, 2]\"] ;\\n81 -> 83 ;\\n84 [label=\"X[0] <= 6.45\\ngini = 0.298\\nsamples = 11\\nvalue = [0, 2, 9]\"] ;\\n56 -> 84 ;\\n85 [label=\"X[1] <= 3.35\\ngini = 0.444\\nsamples = 6\\nvalue = [0, 2, 4]\"] ;\\n84 -> 85 ;\\n86 [label=\"X[0] <= 6.35\\ngini = 0.5\\nsamples = 4\\nvalue = [0, 2, 2]\"] ;\\n85 -> 86 ;\\n87 [label=\"gini = 0.5\\nsamples = 2\\nvalue = [0, 1, 1]\"] ;\\n86 -> 87 ;\\n88 [label=\"gini = 0.5\\nsamples = 2\\nvalue = [0, 1, 1]\"] ;\\n86 -> 88 ;\\n89 [label=\"gini = 0.0\\nsamples = 2\\nvalue = [0, 0, 2]\"] ;\\n85 -> 89 ;\\n90 [label=\"gini = 0.0\\nsamples = 5\\nvalue = [0, 0, 5]\"] ;\\n84 -> 90 ;\\n91 [label=\"gini = 0.0\\nsamples = 1\\nvalue = [0, 1, 0]\"] ;\\n55 -> 91 ;\\n92 [label=\"gini = 0.0\\nsamples = 12\\nvalue = [0, 0, 12]\"] ;\\n52 -> 92 ;\\n}';\n",
              "var parsedData = vis.network.convertDot(DOTstring);\n",
              "var data = { nodes: parsedData.nodes, edges: parsedData.edges };\n",
              "var options = parsedData.options;\n",
              "                \n",
              "var options = {layout:{hierarchical:{direction:\"UD\", sortMethod:\"directed\", }, }, };\n",
              "\n",
              "var container = document.getElementById('M6f444d344a324e179d04d35e3bfd2c00');\n",
              "var network = new vis.Network(container, data, options);\n",
              " });\n",
              "\n",
              "</script>"
            ],
            "text/plain": [
              "<jyquickhelper.jspy.render_nb_js_vis.RenderJsVis at 0x21d09625c18>"
            ]
          },
          "execution_count": 6,
          "metadata": {},
          "output_type": "execute_result"
        }
      ],
      "source": [
        "from jyquickhelper import RenderJsVis\n",
        "RenderJsVis(dot=dot, height=\"400px\", layout='hierarchical')"
      ]
    },
    {
      "cell_type": "code",
      "execution_count": 6,
      "metadata": {},
      "outputs": [],
      "source": []
    }
  ],
  "metadata": {
    "kernelspec": {
      "display_name": "Python 3",
      "language": "python",
      "name": "python3"
    },
    "language_info": {
      "codemirror_mode": {
        "name": "ipython",
        "version": 3
      },
      "file_extension": ".py",
      "mimetype": "text/x-python",
      "name": "python",
      "nbconvert_exporter": "python",
      "pygments_lexer": "ipython3",
      "version": "3.6.4"
    }
  },
  "nbformat": 4,
  "nbformat_minor": 2
}