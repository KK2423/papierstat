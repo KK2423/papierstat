{
  "cells": [
    {
      "cell_type": "markdown",
      "metadata": {},
      "source": [
        "# R\u00e9gression logistique et courbe ROC\n",
        "\n",
        "Pr\u00e9dire la couleur d'un vin \u00e0 partir de ses composants et visualiser la performance avec une courbe ROC."
      ]
    },
    {
      "cell_type": "code",
      "execution_count": 1,
      "metadata": {},
      "outputs": [],
      "source": [
        "%matplotlib inline"
      ]
    },
    {
      "cell_type": "code",
      "execution_count": 2,
      "metadata": {},
      "outputs": [],
      "source": [
        "from papierstat.datasets import load_wines_dataset\n",
        "data = load_wines_dataset()\n",
        "X = data.drop(['quality', 'color'], axis=1)\n",
        "y = data['color']"
      ]
    },
    {
      "cell_type": "code",
      "execution_count": 3,
      "metadata": {},
      "outputs": [],
      "source": [
        "from sklearn.model_selection import train_test_split\n",
        "X_train, X_test, y_train, y_test = train_test_split(X, y)"
      ]
    },
    {
      "cell_type": "code",
      "execution_count": 4,
      "metadata": {},
      "outputs": [
        {
          "data": {
            "text/plain": [
              "LogisticRegression(C=1.0, class_weight=None, dual=False, fit_intercept=True,\n",
              "          intercept_scaling=1, max_iter=100, multi_class='ovr', n_jobs=1,\n",
              "          penalty='l2', random_state=None, solver='liblinear', tol=0.0001,\n",
              "          verbose=0, warm_start=False)"
            ]
          },
          "execution_count": 5,
          "metadata": {},
          "output_type": "execute_result"
        }
      ],
      "source": [
        "from sklearn.linear_model import LogisticRegression\n",
        "clr = LogisticRegression()\n",
        "clr.fit(X_train, y_train)"
      ]
    },
    {
      "cell_type": "markdown",
      "metadata": {},
      "source": [
        "La premi\u00e8re fa\u00e7on de v\u00e9rifier que le mod\u00e8le a march\u00e9 consiste \u00e0 regarder la matrice de confusion."
      ]
    },
    {
      "cell_type": "code",
      "execution_count": 5,
      "metadata": {},
      "outputs": [
        {
          "data": {
            "text/plain": [
              "array([[ 369,   12],\n",
              "       [   7, 1237]], dtype=int64)"
            ]
          },
          "execution_count": 6,
          "metadata": {},
          "output_type": "execute_result"
        }
      ],
      "source": [
        "from sklearn.metrics import confusion_matrix\n",
        "conf = confusion_matrix(y_test, clr.predict(X_test))\n",
        "conf"
      ]
    },
    {
      "cell_type": "markdown",
      "metadata": {},
      "source": [
        "Les coefficients sur la diagonale indique les \u00e9l\u00e9ments bien class\u00e9s, les coefficients en dehors de ceux que le classifieur a mis dans la mauvaise classe."
      ]
    },
    {
      "cell_type": "code",
      "execution_count": 6,
      "metadata": {},
      "outputs": [
        {
          "data": {
            "text/html": [
              "<div>\n",
              "<style scoped>\n",
              "    .dataframe tbody tr th:only-of-type {\n",
              "        vertical-align: middle;\n",
              "    }\n",
              "\n",
              "    .dataframe tbody tr th {\n",
              "        vertical-align: top;\n",
              "    }\n",
              "\n",
              "    .dataframe thead th {\n",
              "        text-align: right;\n",
              "    }\n",
              "</style>\n",
              "<table border=\"1\" class=\"dataframe\">\n",
              "  <thead>\n",
              "    <tr style=\"text-align: right;\">\n",
              "      <th></th>\n",
              "      <th>pr\u00e9dit red</th>\n",
              "      <th>pr\u00e9dit white</th>\n",
              "    </tr>\n",
              "  </thead>\n",
              "  <tbody>\n",
              "    <tr>\n",
              "      <th>vrai red</th>\n",
              "      <td>369</td>\n",
              "      <td>12</td>\n",
              "    </tr>\n",
              "    <tr>\n",
              "      <th>vrai white</th>\n",
              "      <td>7</td>\n",
              "      <td>1237</td>\n",
              "    </tr>\n",
              "  </tbody>\n",
              "</table>\n",
              "</div>"
            ],
            "text/plain": [
              "            pr\u00e9dit red  pr\u00e9dit white\n",
              "vrai red           369            12\n",
              "vrai white           7          1237"
            ]
          },
          "execution_count": 7,
          "metadata": {},
          "output_type": "execute_result"
        }
      ],
      "source": [
        "import pandas\n",
        "cf = pandas.DataFrame(conf, columns=['pr\u00e9dit ' + _ for _ in clr.classes_])\n",
        "cf.index = ['vrai ' + _ for _ in clr.classes_]\n",
        "cf"
      ]
    },
    {
      "cell_type": "markdown",
      "metadata": {},
      "source": [
        "Un classifieur construit une fronti\u00e8re entre deux classes, la distance d'un point \u00e0 la fronti\u00e8re constitue une information importante. Plus elle est grande, plus le mod\u00e8le est confiant. Cette distance est souvent appel\u00e9e *score*."
      ]
    },
    {
      "cell_type": "code",
      "execution_count": 7,
      "metadata": {},
      "outputs": [
        {
          "data": {
            "text/plain": [
              "array([ 4.74305621,  5.3786336 , -5.20415128, ..., -6.46050162,\n",
              "       -6.52682138,  7.29988327])"
            ]
          },
          "execution_count": 8,
          "metadata": {},
          "output_type": "execute_result"
        }
      ],
      "source": [
        "clr.decision_function(X_test)"
      ]
    },
    {
      "cell_type": "markdown",
      "metadata": {},
      "source": [
        "Mais on pr\u00e9f\u00e8re les probabilit\u00e9s quand elles sont disponibles :"
      ]
    },
    {
      "cell_type": "code",
      "execution_count": 8,
      "metadata": {},
      "outputs": [
        {
          "data": {
            "text/plain": [
              "array([[8.63673676e-03, 9.91363263e-01],\n",
              "       [4.59293002e-03, 9.95407070e-01],\n",
              "       [9.94536305e-01, 5.46369514e-03],\n",
              "       ...,\n",
              "       [9.98438431e-01, 1.56156866e-03],\n",
              "       [9.98538488e-01, 1.46151171e-03],\n",
              "       [6.75161485e-04, 9.99324839e-01]])"
            ]
          },
          "execution_count": 9,
          "metadata": {},
          "output_type": "execute_result"
        }
      ],
      "source": [
        "clr.predict_proba(X_test)"
      ]
    },
    {
      "cell_type": "markdown",
      "metadata": {},
      "source": [
        "Voyons comment le score est distribu\u00e9 :"
      ]
    },
    {
      "cell_type": "code",
      "execution_count": 9,
      "metadata": {},
      "outputs": [
        {
          "data": {
            "text/html": [
              "<div>\n",
              "<style scoped>\n",
              "    .dataframe tbody tr th:only-of-type {\n",
              "        vertical-align: middle;\n",
              "    }\n",
              "\n",
              "    .dataframe tbody tr th {\n",
              "        vertical-align: top;\n",
              "    }\n",
              "\n",
              "    .dataframe thead th {\n",
              "        text-align: right;\n",
              "    }\n",
              "</style>\n",
              "<table border=\"1\" class=\"dataframe\">\n",
              "  <thead>\n",
              "    <tr style=\"text-align: right;\">\n",
              "      <th></th>\n",
              "      <th>score</th>\n",
              "      <th>color</th>\n",
              "    </tr>\n",
              "  </thead>\n",
              "  <tbody>\n",
              "    <tr>\n",
              "      <th>0</th>\n",
              "      <td>4.743056</td>\n",
              "      <td>red</td>\n",
              "    </tr>\n",
              "    <tr>\n",
              "      <th>1</th>\n",
              "      <td>5.378634</td>\n",
              "      <td>NaN</td>\n",
              "    </tr>\n",
              "    <tr>\n",
              "      <th>2</th>\n",
              "      <td>-5.204151</td>\n",
              "      <td>NaN</td>\n",
              "    </tr>\n",
              "    <tr>\n",
              "      <th>3</th>\n",
              "      <td>0.746378</td>\n",
              "      <td>red</td>\n",
              "    </tr>\n",
              "    <tr>\n",
              "      <th>4</th>\n",
              "      <td>-4.048754</td>\n",
              "      <td>NaN</td>\n",
              "    </tr>\n",
              "  </tbody>\n",
              "</table>\n",
              "</div>"
            ],
            "text/plain": [
              "      score color\n",
              "0  4.743056   red\n",
              "1  5.378634   NaN\n",
              "2 -5.204151   NaN\n",
              "3  0.746378   red\n",
              "4 -4.048754   NaN"
            ]
          },
          "execution_count": 10,
          "metadata": {},
          "output_type": "execute_result"
        }
      ],
      "source": [
        "score = clr.decision_function(X_test)\n",
        "dfsc = pandas.DataFrame(score, columns=['score'])\n",
        "dfsc['color'] = y_test\n",
        "dfsc.head()"
      ]
    },
    {
      "cell_type": "markdown",
      "metadata": {},
      "source": [
        "Visiblement, pandas n'a pas compris ce que je voulais qu'il fasse. Il a utilis\u00e9 les indices de la s\u00e9rie *y_test* et a utilis\u00e9 *y_test.index* comme indice de tableau. Changeons cela."
      ]
    },
    {
      "cell_type": "code",
      "execution_count": 10,
      "metadata": {},
      "outputs": [
        {
          "data": {
            "text/html": [
              "<div>\n",
              "<style scoped>\n",
              "    .dataframe tbody tr th:only-of-type {\n",
              "        vertical-align: middle;\n",
              "    }\n",
              "\n",
              "    .dataframe tbody tr th {\n",
              "        vertical-align: top;\n",
              "    }\n",
              "\n",
              "    .dataframe thead th {\n",
              "        text-align: right;\n",
              "    }\n",
              "</style>\n",
              "<table border=\"1\" class=\"dataframe\">\n",
              "  <thead>\n",
              "    <tr style=\"text-align: right;\">\n",
              "      <th></th>\n",
              "      <th>score</th>\n",
              "      <th>color</th>\n",
              "    </tr>\n",
              "  </thead>\n",
              "  <tbody>\n",
              "    <tr>\n",
              "      <th>0</th>\n",
              "      <td>4.743056</td>\n",
              "      <td>white</td>\n",
              "    </tr>\n",
              "    <tr>\n",
              "      <th>1</th>\n",
              "      <td>5.378634</td>\n",
              "      <td>white</td>\n",
              "    </tr>\n",
              "    <tr>\n",
              "      <th>2</th>\n",
              "      <td>-5.204151</td>\n",
              "      <td>red</td>\n",
              "    </tr>\n",
              "    <tr>\n",
              "      <th>3</th>\n",
              "      <td>0.746378</td>\n",
              "      <td>red</td>\n",
              "    </tr>\n",
              "    <tr>\n",
              "      <th>4</th>\n",
              "      <td>-4.048754</td>\n",
              "      <td>red</td>\n",
              "    </tr>\n",
              "  </tbody>\n",
              "</table>\n",
              "</div>"
            ],
            "text/plain": [
              "      score  color\n",
              "0  4.743056  white\n",
              "1  5.378634  white\n",
              "2 -5.204151    red\n",
              "3  0.746378    red\n",
              "4 -4.048754    red"
            ]
          },
          "execution_count": 11,
          "metadata": {},
          "output_type": "execute_result"
        }
      ],
      "source": [
        "dfsc = pandas.DataFrame(score, columns=['score'])\n",
        "dfsc['color'] = y_test.values\n",
        "dfsc.head()"
      ]
    },
    {
      "cell_type": "code",
      "execution_count": 11,
      "metadata": {},
      "outputs": [
        {
          "data": {
            "image/png": "[encoded data removed]",
            "text/plain": [
              "<Figure size 432x216 with 1 Axes>"
            ]
          },
          "metadata": {},
          "output_type": "display_data"
        }
      ],
      "source": [
        "ax = dfsc['score'].hist(bins=50, figsize=(6,3))\n",
        "ax.set_title('Distribution des scores de classification couleur');"
      ]
    },
    {
      "cell_type": "markdown",
      "metadata": {},
      "source": [
        "Deux modes, probablement les deux classes. Pour en \u00eatre s\u00fbr :"
      ]
    },
    {
      "cell_type": "code",
      "execution_count": 12,
      "metadata": {},
      "outputs": [
        {
          "data": {
            "image/png": "[encoded data removed]",
            "text/plain": [
              "<Figure size 432x216 with 1 Axes>"
            ]
          },
          "metadata": {},
          "output_type": "display_data"
        }
      ],
      "source": [
        "ax = dfsc[dfsc['color'] == 'white']['score'].hist(bins=25, figsize=(6,3), label='white', alpha=0.5)\n",
        "dfsc[dfsc['color'] == 'red']['score'].hist(bins=25, ax=ax, label='red', alpha=0.5)\n",
        "ax.set_title(\"Distribution des scores pour les deux classes\")\n",
        "ax.plot([1, 1], [0, 100], 'g--', label=\"fronti\u00e8re ?\")\n",
        "ax.legend();"
      ]
    },
    {
      "cell_type": "markdown",
      "metadata": {},
      "source": [
        "Il y a quelques confusions autour de 0 mais le mod\u00e8le est pertinent au sens o\u00f9 la fronti\u00e8re entre les deux classes est assez nette : les deux cloches ne se superposent pas. Voyons avec les probabilit\u00e9s :"
      ]
    },
    {
      "cell_type": "code",
      "execution_count": 13,
      "metadata": {},
      "outputs": [
        {
          "data": {
            "image/png": "[encoded data removed]",
            "text/plain": [
              "<Figure size 720x216 with 2 Axes>"
            ]
          },
          "metadata": {},
          "output_type": "display_data"
        }
      ],
      "source": [
        "proba = clr.predict_proba(X_test)[:, 1]\n",
        "dfpr = pandas.DataFrame(proba, columns=['proba'])\n",
        "dfpr['color'] = y_test.values\n",
        "\n",
        "import matplotlib.pyplot as plt\n",
        "fig, ax = plt.subplots(1, 2, figsize=(10,3))\n",
        "dfpr[dfpr['color'] == 'white']['proba'].hist(bins=25, label='white', alpha=0.5, ax=ax[0])\n",
        "dfpr[dfpr['color'] == 'red']['proba'].hist(bins=25, label='red', alpha=0.5, ax=ax[0])\n",
        "ax[0].set_title('Distribution des probabilit\u00e9s des deux classes')\n",
        "ax[0].legend();\n",
        "dfpr[dfpr['color'] == 'white']['proba'].hist(bins=25, label='white', alpha=0.5, ax=ax[1])\n",
        "dfpr[dfpr['color'] == 'red']['proba'].hist(bins=25, label='red', alpha=0.5, ax=ax[1])\n",
        "ax[0].plot([0.5, 0.5], [0, 1000], 'g--', label=\"fronti\u00e8re ?\")\n",
        "ax[1].plot([0.5, 0.5], [0, 1000], 'g--', label=\"fronti\u00e8re ?\")\n",
        "ax[1].set_yscale('log')\n",
        "ax[1].set_title('Distribution des probabilit\u00e9s des deux classes\\n\u00e9chelle logarithmique')\n",
        "ax[1].legend();"
      ]
    },
    {
      "cell_type": "markdown",
      "metadata": {},
      "source": [
        "Plus l'aire commune aux deux distributions est petite, plus le mod\u00e8le est confiant. Cette aire commune est reli\u00e9e \u00e0 la courbe [ROC](https://fr.wikipedia.org/wiki/Courbe_ROC)."
      ]
    },
    {
      "cell_type": "code",
      "execution_count": 14,
      "metadata": {
        "scrolled": false
      },
      "outputs": [
        {
          "data": {
            "text/plain": [
              "(1549,)"
            ]
          },
          "execution_count": 15,
          "metadata": {},
          "output_type": "execute_result"
        }
      ],
      "source": [
        "from sklearn.metrics import roc_auc_score, roc_curve, auc\n",
        "probas = clr.predict_proba(X_test)\n",
        "fpr0, tpr0, thresholds0 = roc_curve(y_test, probas[:, 0], pos_label=clr.classes_[0], drop_intermediate=False)\n",
        "fpr0.shape"
      ]
    },
    {
      "cell_type": "markdown",
      "metadata": {},
      "source": [
        "*fpr* d\u00e9signe le [False Positive Rate](https://en.wikipedia.org/wiki/Precision_and_recall) autrement dit le taux de faux positive, si la t\u00e2che est d\u00e9terminer si un vin est blanc, le taux d\u00e9signe la proportion de vins rouges class\u00e9s par le classifieur parmi les vins blancs. C'est l'erreur de classification. *tpr* d\u00e9signe le nombre de [True Positive Rate](https://en.wikipedia.org/wiki/Precision_and_recall). C'est... A vrai dire, cette d\u00e9nomination est toujours aussi absconce pour moi. Je leur pr\u00e9f\u00e8re les formules math\u00e9matiques. On souhaite toujours classer les vins blancs. *True* et *False* ne sont pas vrai ou faux mais le nom de deux classes.\n",
        "\n",
        "$$\n",
        "\\begin{array}{rcl}FPR(s) &=& \\sum_{i=1}^n \\mathbb{1}_{score(X_i) \\geqslant s}\\mathbb{1}_{y_i == red}\\\\ TPR(s) &=& \\sum_{i=1}^n \\mathbb{1}_{score(X_i) \\geqslant s}\\mathbb{1}_{y_i == blanc}\\end{array}\n",
        "$$"
      ]
    },
    {
      "cell_type": "code",
      "execution_count": 15,
      "metadata": {},
      "outputs": [
        {
          "data": {
            "text/html": [
              "<div>\n",
              "<style scoped>\n",
              "    .dataframe tbody tr th:only-of-type {\n",
              "        vertical-align: middle;\n",
              "    }\n",
              "\n",
              "    .dataframe tbody tr th {\n",
              "        vertical-align: top;\n",
              "    }\n",
              "\n",
              "    .dataframe thead th {\n",
              "        text-align: right;\n",
              "    }\n",
              "</style>\n",
              "<table border=\"1\" class=\"dataframe\">\n",
              "  <thead>\n",
              "    <tr style=\"text-align: right;\">\n",
              "      <th></th>\n",
              "      <th>fpr</th>\n",
              "      <th>tpr</th>\n",
              "      <th>threshold</th>\n",
              "    </tr>\n",
              "  </thead>\n",
              "  <tbody>\n",
              "    <tr>\n",
              "      <th>0</th>\n",
              "      <td>0.0</td>\n",
              "      <td>0.002625</td>\n",
              "      <td>0.999987</td>\n",
              "    </tr>\n",
              "    <tr>\n",
              "      <th>1</th>\n",
              "      <td>0.0</td>\n",
              "      <td>0.005249</td>\n",
              "      <td>0.999986</td>\n",
              "    </tr>\n",
              "  </tbody>\n",
              "</table>\n",
              "</div>"
            ],
            "text/plain": [
              "   fpr       tpr  threshold\n",
              "0  0.0  0.002625   0.999987\n",
              "1  0.0  0.005249   0.999986"
            ]
          },
          "execution_count": 16,
          "metadata": {},
          "output_type": "execute_result"
        }
      ],
      "source": [
        "dftp = pandas.DataFrame(dict(fpr=fpr0, tpr=tpr0, threshold=thresholds0)).copy()\n",
        "dftp.head(n=2)"
      ]
    },
    {
      "cell_type": "code",
      "execution_count": 16,
      "metadata": {},
      "outputs": [
        {
          "data": {
            "image/png": "[encoded data removed]",
            "text/plain": [
              "<Figure size 288x288 with 1 Axes>"
            ]
          },
          "metadata": {},
          "output_type": "display_data"
        }
      ],
      "source": [
        "ax = dftp.plot(x=\"threshold\", y=['fpr', 'tpr'], figsize=(4, 4))\n",
        "ax.set_title(\"Evolution de FPR, TPR\\nen fonction du seuil au del\u00e0 duquel\\n\" + \n",
        "             \"la r\u00e9ponse du classifieur est valid\u00e9e\");"
      ]
    },
    {
      "cell_type": "code",
      "execution_count": 17,
      "metadata": {},
      "outputs": [
        {
          "data": {
            "image/png": "[encoded data removed]",
            "text/plain": [
              "<Figure size 288x288 with 1 Axes>"
            ]
          },
          "metadata": {},
          "output_type": "display_data"
        }
      ],
      "source": [
        "fig, ax = plt.subplots(1, 1, figsize=(4,4))\n",
        "ax.plot([0, 1], [0, 1], 'k--')\n",
        "# aucf = roc_auc_score(y_test == clr.classes_[0], probas[:, 0]) # premi\u00e8re fa\u00e7on\n",
        "aucf = auc(fpr0, tpr0)  # seconde fa\u00e7on\n",
        "ax.plot(fpr0, tpr0, label=clr.classes_[0] + ' auc=%1.5f' % aucf)\n",
        "ax.set_title('Courbe ROC - classifieur couleur des vins')\n",
        "ax.text(0.5, 0.3, \"plus mauvais que\\nle hasard dans\\ncette zone\")\n",
        "ax.legend();"
      ]
    },
    {
      "cell_type": "markdown",
      "metadata": {},
      "source": [
        "La mesure [AUC](https://en.wikipedia.org/wiki/Receiver_operating_characteristic#Area_under_the_curve) ou Area Under the Curve est l'aire sous la courbe. Elle est \u00e9gale \u00e0 la probabilit\u00e9 que le score d'un exemple class\u00e9 rouge \u00e0 raison soit inf\u00e9rieur \u00e0 un exemple class\u00e9 rouge \u00e0 tort. On v\u00e9rifie."
      ]
    },
    {
      "cell_type": "code",
      "execution_count": 18,
      "metadata": {},
      "outputs": [
        {
          "name": "stdout",
          "output_type": "stream",
          "text": [
            "0.997705780314476\n"
          ]
        }
      ],
      "source": [
        "from random import randint\n",
        "n1, n2 = 0, 0\n",
        "yt = y_test.values\n",
        "\n",
        "for n in range(0, 100000):\n",
        "    i = randint(0, len(yt)-1)\n",
        "    j = randint(0, len(yt)-1)\n",
        "    s1, p1 = probas[i, 0], yt[i] == clr.classes_[0]\n",
        "    s2, p2 = probas[j, 0], yt[j] == clr.classes_[0]\n",
        "    if p1 != p2:\n",
        "        if p1:\n",
        "            if s1 < s2:\n",
        "                n1 += 1\n",
        "            else:\n",
        "                n2 += 1\n",
        "        else:\n",
        "            if s1 > s2:\n",
        "                n1 += 1\n",
        "            else:\n",
        "                n2 += 1\n",
        "print(n2*1.0/(n1 + n2))"
      ]
    },
    {
      "cell_type": "markdown",
      "metadata": {},
      "source": [
        "Presque cela, la fonction [auc](https://en.wikipedia.org/wiki/Receiver_operating_characteristic#Area_under_the_curve) utilise la fontion [trapz](https://docs.scipy.org/doc/numpy-1.14.0/reference/generated/numpy.trapz.html) et qui calcule une aire et non pas une probabilit\u00e9 comme-ci dessus. Ce [th\u00e9or\u00e8me](http://www.xavierdupre.fr/app/mlstatpy/) qui d\u00e9montre que cette aire a un lien direct avec les scores de classification. Deux autres m\u00e9triques sont tr\u00e8s utilis\u00e9es, la [pr\u00e9cision](https://en.wikipedia.org/wiki/Precision_and_recall) et le [rappel](https://en.wikipedia.org/wiki/Precision_and_recall). Pour chaque classifieur, on peut d\u00e9terminer un seuil *s* au del\u00e0 duquel la r\u00e9ponse est valid\u00e9e avec une bonne confiance. Parmi toutes les r\u00e9ponses valid\u00e9es, la pr\u00e9cision est le nombre de r\u00e9ponses correctes rapport\u00e9 au nombre de r\u00e9ponses valid\u00e9es, le rappel est le nombre de r\u00e9ponses correctes rapport\u00e9es \u00e0 toutes qui aurait d\u00fb \u00eatre valid\u00e9es. On calcule aussi la m\u00e9trique *F1* qui est une sorte de moyenne entre les deux."
      ]
    },
    {
      "cell_type": "code",
      "execution_count": 19,
      "metadata": {},
      "outputs": [],
      "source": [
        "from sklearn.metrics import precision_recall_curve\n",
        "precision, recall, thresholds = precision_recall_curve(y_test, probas[:, 0], pos_label=clr.classes_[0])"
      ]
    },
    {
      "cell_type": "code",
      "execution_count": 20,
      "metadata": {},
      "outputs": [
        {
          "data": {
            "text/html": [
              "<div>\n",
              "<style scoped>\n",
              "    .dataframe tbody tr th:only-of-type {\n",
              "        vertical-align: middle;\n",
              "    }\n",
              "\n",
              "    .dataframe tbody tr th {\n",
              "        vertical-align: top;\n",
              "    }\n",
              "\n",
              "    .dataframe thead th {\n",
              "        text-align: right;\n",
              "    }\n",
              "</style>\n",
              "<table border=\"1\" class=\"dataframe\">\n",
              "  <thead>\n",
              "    <tr style=\"text-align: right;\">\n",
              "      <th></th>\n",
              "      <th>precision</th>\n",
              "      <th>recall</th>\n",
              "      <th>threshold</th>\n",
              "      <th>F1</th>\n",
              "    </tr>\n",
              "  </thead>\n",
              "  <tbody>\n",
              "    <tr>\n",
              "      <th>0</th>\n",
              "      <td>0.331304</td>\n",
              "      <td>1.000000</td>\n",
              "      <td>0.000000</td>\n",
              "      <td>0.497714</td>\n",
              "    </tr>\n",
              "    <tr>\n",
              "      <th>1</th>\n",
              "      <td>0.330722</td>\n",
              "      <td>0.997375</td>\n",
              "      <td>0.002114</td>\n",
              "      <td>0.496732</td>\n",
              "    </tr>\n",
              "  </tbody>\n",
              "</table>\n",
              "</div>"
            ],
            "text/plain": [
              "   precision    recall  threshold        F1\n",
              "0   0.331304  1.000000   0.000000  0.497714\n",
              "1   0.330722  0.997375   0.002114  0.496732"
            ]
          },
          "execution_count": 21,
          "metadata": {},
          "output_type": "execute_result"
        }
      ],
      "source": [
        "dfpr = pandas.DataFrame(dict(precision=precision, recall=recall, \n",
        "                             threshold=[0] + list(thresholds)))\n",
        "dfpr['F1']= 2 * (dfpr.precision * dfpr.recall) / (dfpr.precision + dfpr.recall)\n",
        "dfpr.head(n=2)"
      ]
    },
    {
      "cell_type": "code",
      "execution_count": 21,
      "metadata": {},
      "outputs": [
        {
          "data": {
            "image/png": "[encoded data removed]",
            "text/plain": [
              "<Figure size 288x288 with 1 Axes>"
            ]
          },
          "metadata": {},
          "output_type": "display_data"
        }
      ],
      "source": [
        "ax = dfpr.plot(x=\"threshold\", y=['precision', 'recall', 'F1'], figsize=(4, 4))\n",
        "ax.set_title(\"Evolution de la pr\u00e9cision et du rappel\\nen fonction du seuil au del\u00e0 duquel\\n\" + \n",
        "             \"la r\u00e9ponse du classifieur est valid\u00e9e\");"
      ]
    },
    {
      "cell_type": "code",
      "execution_count": 22,
      "metadata": {},
      "outputs": [],
      "source": []
    }
  ],
  "metadata": {
    "kernelspec": {
      "display_name": "Python 3",
      "language": "python",
      "name": "python3"
    },
    "language_info": {
      "codemirror_mode": {
        "name": "ipython",
        "version": 3
      },
      "file_extension": ".py",
      "mimetype": "text/x-python",
      "name": "python",
      "nbconvert_exporter": "python",
      "pygments_lexer": "ipython3",
      "version": "3.7.0"
    }
  },
  "nbformat": 4,
  "nbformat_minor": 2
}