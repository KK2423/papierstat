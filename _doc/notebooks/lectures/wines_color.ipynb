{
  "cells": [
    {
      "cell_type": "markdown",
      "metadata": {},
      "source": [
        "# R\u00e9gression logistique et courbe ROC\n",
        "\n",
        "Pr\u00e9dire la couleur d'un vin \u00e0 partir de ses composants et visualiser la performance avec une courbe ROC."
      ]
    },
    {
      "cell_type": "code",
      "execution_count": 1,
      "metadata": {},
      "outputs": [],
      "source": [
        "%matplotlib inline"
      ]
    },
    {
      "cell_type": "code",
      "execution_count": 2,
      "metadata": {},
      "outputs": [],
      "source": [
        "from papierstat.datasets import load_wines_dataset\n",
        "data = load_wines_dataset()\n",
        "X = data.drop(['quality', 'color'], axis=1)\n",
        "y = data['color']"
      ]
    },
    {
      "cell_type": "code",
      "execution_count": 3,
      "metadata": {},
      "outputs": [],
      "source": [
        "from sklearn.model_selection import train_test_split\n",
        "X_train, X_test, y_train, y_test = train_test_split(X, y)"
      ]
    },
    {
      "cell_type": "code",
      "execution_count": 4,
      "metadata": {},
      "outputs": [
        {
          "data": {
            "text/plain": [
              "LogisticRegression(C=1.0, class_weight=None, dual=False, fit_intercept=True,\n",
              "          intercept_scaling=1, max_iter=100, multi_class='ovr', n_jobs=1,\n",
              "          penalty='l2', random_state=None, solver='liblinear', tol=0.0001,\n",
              "          verbose=0, warm_start=False)"
            ]
          },
          "execution_count": 5,
          "metadata": {},
          "output_type": "execute_result"
        }
      ],
      "source": [
        "from sklearn.linear_model import LogisticRegression\n",
        "clr = LogisticRegression()\n",
        "clr.fit(X_train, y_train)"
      ]
    },
    {
      "cell_type": "markdown",
      "metadata": {},
      "source": [
        "La premi\u00e8re fa\u00e7on de v\u00e9rifier que le mod\u00e8le a march\u00e9 consiste \u00e0 regarder la matrice de confusion."
      ]
    },
    {
      "cell_type": "code",
      "execution_count": 5,
      "metadata": {},
      "outputs": [
        {
          "data": {
            "text/plain": [
              "array([[ 373,   23],\n",
              "       [  13, 1216]], dtype=int64)"
            ]
          },
          "execution_count": 6,
          "metadata": {},
          "output_type": "execute_result"
        }
      ],
      "source": [
        "from sklearn.metrics import confusion_matrix\n",
        "conf = confusion_matrix(y_test, clr.predict(X_test))\n",
        "conf"
      ]
    },
    {
      "cell_type": "markdown",
      "metadata": {},
      "source": [
        "Les coefficients sur la diagonale indique les \u00e9l\u00e9ments bien class\u00e9s, les coefficients en dehors ceux que le classifieur a mis dans la mauvaise classe."
      ]
    },
    {
      "cell_type": "code",
      "execution_count": 6,
      "metadata": {},
      "outputs": [
        {
          "data": {
            "text/html": [
              "<div>\n",
              "<style scoped>\n",
              "    .dataframe tbody tr th:only-of-type {\n",
              "        vertical-align: middle;\n",
              "    }\n",
              "\n",
              "    .dataframe tbody tr th {\n",
              "        vertical-align: top;\n",
              "    }\n",
              "\n",
              "    .dataframe thead th {\n",
              "        text-align: right;\n",
              "    }\n",
              "</style>\n",
              "<table border=\"1\" class=\"dataframe\">\n",
              "  <thead>\n",
              "    <tr style=\"text-align: right;\">\n",
              "      <th></th>\n",
              "      <th>pr\u00e9dit red</th>\n",
              "      <th>pr\u00e9dit white</th>\n",
              "    </tr>\n",
              "  </thead>\n",
              "  <tbody>\n",
              "    <tr>\n",
              "      <th>vrai red</th>\n",
              "      <td>373</td>\n",
              "      <td>23</td>\n",
              "    </tr>\n",
              "    <tr>\n",
              "      <th>vrai white</th>\n",
              "      <td>13</td>\n",
              "      <td>1216</td>\n",
              "    </tr>\n",
              "  </tbody>\n",
              "</table>\n",
              "</div>"
            ],
            "text/plain": [
              "            pr\u00e9dit red  pr\u00e9dit white\n",
              "vrai red           373            23\n",
              "vrai white          13          1216"
            ]
          },
          "execution_count": 7,
          "metadata": {},
          "output_type": "execute_result"
        }
      ],
      "source": [
        "import pandas\n",
        "cf = pandas.DataFrame(conf, columns=['pr\u00e9dit ' + _ for _ in clr.classes_])\n",
        "cf.index = ['vrai ' + _ for _ in clr.classes_]\n",
        "cf"
      ]
    },
    {
      "cell_type": "markdown",
      "metadata": {},
      "source": [
        "Un classifieur construit une fronti\u00e8re entre deux classes, la distance d'un point \u00e0 la fronti\u00e8re consistue une information importante. Plus elle est grande, plus le mod\u00e8le est confiant. Cette distance est souvent appel\u00e9e *score*."
      ]
    },
    {
      "cell_type": "code",
      "execution_count": 7,
      "metadata": {},
      "outputs": [
        {
          "data": {
            "text/plain": [
              "array([ 5.98968172, -6.56523884,  3.63485868, ..., -5.11545498,\n",
              "        4.97187928,  8.49571798])"
            ]
          },
          "execution_count": 8,
          "metadata": {},
          "output_type": "execute_result"
        }
      ],
      "source": [
        "clr.decision_function(X_test)"
      ]
    },
    {
      "cell_type": "markdown",
      "metadata": {},
      "source": [
        "Mais on pr\u00e9f\u00e8re les probabilit\u00e9s quand elles sont disponibles :"
      ]
    },
    {
      "cell_type": "code",
      "execution_count": 8,
      "metadata": {},
      "outputs": [
        {
          "data": {
            "text/plain": [
              "array([[2.49820438e-03, 9.97501796e-01],\n",
              "       [9.98593494e-01, 1.40650646e-03],\n",
              "       [2.57092560e-02, 9.74290744e-01],\n",
              "       ...,\n",
              "       [9.94032578e-01, 5.96742193e-03],\n",
              "       [6.88241625e-03, 9.93117584e-01],\n",
              "       [2.04299746e-04, 9.99795700e-01]])"
            ]
          },
          "execution_count": 9,
          "metadata": {},
          "output_type": "execute_result"
        }
      ],
      "source": [
        "clr.predict_proba(X_test)"
      ]
    },
    {
      "cell_type": "markdown",
      "metadata": {},
      "source": [
        "Voyons comment le score est distribu\u00e9 :"
      ]
    },
    {
      "cell_type": "code",
      "execution_count": 9,
      "metadata": {},
      "outputs": [
        {
          "data": {
            "text/html": [
              "<div>\n",
              "<style scoped>\n",
              "    .dataframe tbody tr th:only-of-type {\n",
              "        vertical-align: middle;\n",
              "    }\n",
              "\n",
              "    .dataframe tbody tr th {\n",
              "        vertical-align: top;\n",
              "    }\n",
              "\n",
              "    .dataframe thead th {\n",
              "        text-align: right;\n",
              "    }\n",
              "</style>\n",
              "<table border=\"1\" class=\"dataframe\">\n",
              "  <thead>\n",
              "    <tr style=\"text-align: right;\">\n",
              "      <th></th>\n",
              "      <th>score</th>\n",
              "      <th>color</th>\n",
              "    </tr>\n",
              "  </thead>\n",
              "  <tbody>\n",
              "    <tr>\n",
              "      <th>0</th>\n",
              "      <td>5.989682</td>\n",
              "      <td>red</td>\n",
              "    </tr>\n",
              "    <tr>\n",
              "      <th>1</th>\n",
              "      <td>-6.565239</td>\n",
              "      <td>red</td>\n",
              "    </tr>\n",
              "    <tr>\n",
              "      <th>2</th>\n",
              "      <td>3.634859</td>\n",
              "      <td>NaN</td>\n",
              "    </tr>\n",
              "    <tr>\n",
              "      <th>3</th>\n",
              "      <td>2.962768</td>\n",
              "      <td>NaN</td>\n",
              "    </tr>\n",
              "    <tr>\n",
              "      <th>4</th>\n",
              "      <td>4.400413</td>\n",
              "      <td>NaN</td>\n",
              "    </tr>\n",
              "  </tbody>\n",
              "</table>\n",
              "</div>"
            ],
            "text/plain": [
              "      score color\n",
              "0  5.989682   red\n",
              "1 -6.565239   red\n",
              "2  3.634859   NaN\n",
              "3  2.962768   NaN\n",
              "4  4.400413   NaN"
            ]
          },
          "execution_count": 10,
          "metadata": {},
          "output_type": "execute_result"
        }
      ],
      "source": [
        "score = clr.decision_function(X_test)\n",
        "dfsc = pandas.DataFrame(score, columns=['score'])\n",
        "dfsc['color'] = y_test\n",
        "dfsc.head()"
      ]
    },
    {
      "cell_type": "markdown",
      "metadata": {},
      "source": [
        "Visiblement, pandas n'a pas compris ce que je voulais qu'il fasse. Il a utilis\u00e9 les indices de la s\u00e9rie *y_test* et a utilis\u00e9 *y_test.index* comme indice de tableau. Changeons cela."
      ]
    },
    {
      "cell_type": "code",
      "execution_count": 10,
      "metadata": {},
      "outputs": [
        {
          "data": {
            "text/html": [
              "<div>\n",
              "<style scoped>\n",
              "    .dataframe tbody tr th:only-of-type {\n",
              "        vertical-align: middle;\n",
              "    }\n",
              "\n",
              "    .dataframe tbody tr th {\n",
              "        vertical-align: top;\n",
              "    }\n",
              "\n",
              "    .dataframe thead th {\n",
              "        text-align: right;\n",
              "    }\n",
              "</style>\n",
              "<table border=\"1\" class=\"dataframe\">\n",
              "  <thead>\n",
              "    <tr style=\"text-align: right;\">\n",
              "      <th></th>\n",
              "      <th>score</th>\n",
              "      <th>color</th>\n",
              "    </tr>\n",
              "  </thead>\n",
              "  <tbody>\n",
              "    <tr>\n",
              "      <th>0</th>\n",
              "      <td>5.989682</td>\n",
              "      <td>white</td>\n",
              "    </tr>\n",
              "    <tr>\n",
              "      <th>1</th>\n",
              "      <td>-6.565239</td>\n",
              "      <td>red</td>\n",
              "    </tr>\n",
              "    <tr>\n",
              "      <th>2</th>\n",
              "      <td>3.634859</td>\n",
              "      <td>white</td>\n",
              "    </tr>\n",
              "    <tr>\n",
              "      <th>3</th>\n",
              "      <td>2.962768</td>\n",
              "      <td>white</td>\n",
              "    </tr>\n",
              "    <tr>\n",
              "      <th>4</th>\n",
              "      <td>4.400413</td>\n",
              "      <td>white</td>\n",
              "    </tr>\n",
              "  </tbody>\n",
              "</table>\n",
              "</div>"
            ],
            "text/plain": [
              "      score  color\n",
              "0  5.989682  white\n",
              "1 -6.565239    red\n",
              "2  3.634859  white\n",
              "3  2.962768  white\n",
              "4  4.400413  white"
            ]
          },
          "execution_count": 11,
          "metadata": {},
          "output_type": "execute_result"
        }
      ],
      "source": [
        "dfsc = pandas.DataFrame(score, columns=['score'])\n",
        "dfsc['color'] = y_test.as_matrix()\n",
        "dfsc.head()"
      ]
    },
    {
      "cell_type": "code",
      "execution_count": 11,
      "metadata": {},
      "outputs": [
        {
          "data": {
            "text/plain": [
              "Text(0.5,1,'Distribution des scores de classification couleur')"
            ]
          },
          "execution_count": 12,
          "metadata": {},
          "output_type": "execute_result"
        },
        {
          "data": {
            "image/png": "[encoded data removed]",
            "text/plain": [
              "<matplotlib.figure.Figure at 0x1c889a322e8>"
            ]
          },
          "metadata": {},
          "output_type": "display_data"
        }
      ],
      "source": [
        "ax = dfsc['score'].hist(bins=50, figsize=(6,3))\n",
        "ax.set_title('Distribution des scores de classification couleur')"
      ]
    },
    {
      "cell_type": "markdown",
      "metadata": {},
      "source": [
        "Deux modes, probablement les deux classes. Pour en \u00eatre s\u00fbr :"
      ]
    },
    {
      "cell_type": "code",
      "execution_count": 12,
      "metadata": {},
      "outputs": [
        {
          "data": {
            "image/png": "[encoded data removed]",
            "text/plain": [
              "<matplotlib.figure.Figure at 0x1c889e48c50>"
            ]
          },
          "metadata": {},
          "output_type": "display_data"
        }
      ],
      "source": [
        "ax = dfsc[dfsc['color'] == 'white']['score'].hist(bins=25, figsize=(6,3), label='white', alpha=0.5)\n",
        "dfsc[dfsc['color'] == 'red']['score'].hist(bins=25, ax=ax, label='red', alpha=0.5)\n",
        "ax.set_title(\"Distribution des scores pour les deux classes\")\n",
        "ax.plot([1, 1], [0, 100], 'g--', label=\"fronti\u00e8re ?\")\n",
        "ax.legend();"
      ]
    },
    {
      "cell_type": "markdown",
      "metadata": {},
      "source": [
        "Il y a quelques confusions autour de 0 mais le mod\u00e8le est pertinent au sens o\u00f9 la fronti\u00e8re entre les deux classes est assez nette : les deux cloches ne se superposent pas. Voyons avec les probabilit\u00e9s :"
      ]
    },
    {
      "cell_type": "code",
      "execution_count": 13,
      "metadata": {},
      "outputs": [
        {
          "data": {
            "image/png": "[encoded data removed]",
            "text/plain": [
              "<matplotlib.figure.Figure at 0x1c88a482940>"
            ]
          },
          "metadata": {},
          "output_type": "display_data"
        }
      ],
      "source": [
        "proba = clr.predict_proba(X_test)[:, 1]\n",
        "dfpr = pandas.DataFrame(proba, columns=['proba'])\n",
        "dfpr['color'] = y_test.as_matrix()\n",
        "\n",
        "import matplotlib.pyplot as plt\n",
        "fig, ax = plt.subplots(1, 2, figsize=(10,3))\n",
        "dfpr[dfpr['color'] == 'white']['proba'].hist(bins=25, label='white', alpha=0.5, ax=ax[0])\n",
        "dfpr[dfpr['color'] == 'red']['proba'].hist(bins=25, label='red', alpha=0.5, ax=ax[0])\n",
        "ax[0].set_title('Distribution des probabilit\u00e9s des deux classes')\n",
        "ax[0].legend();\n",
        "dfpr[dfpr['color'] == 'white']['proba'].hist(bins=25, label='white', alpha=0.5, ax=ax[1])\n",
        "dfpr[dfpr['color'] == 'red']['proba'].hist(bins=25, label='red', alpha=0.5, ax=ax[1])\n",
        "ax[0].plot([0.5, 0.5], [0, 1000], 'g--', label=\"fronti\u00e8re ?\")\n",
        "ax[1].plot([0.5, 0.5], [0, 1000], 'g--', label=\"fronti\u00e8re ?\")\n",
        "ax[1].set_yscale('log')\n",
        "ax[1].set_title('Distribution des probabilit\u00e9s des deux classes\\n\u00e9chelle logarithmique')\n",
        "ax[1].legend();"
      ]
    },
    {
      "cell_type": "markdown",
      "metadata": {},
      "source": [
        "Plus l'aire commune aux deux distributions est petite, plus le mod\u00e8le est confiant. Cette aire commune est reli\u00e9e \u00e0 la courbe [ROC](https://fr.wikipedia.org/wiki/Courbe_ROC)."
      ]
    },
    {
      "cell_type": "code",
      "execution_count": 14,
      "metadata": {
        "scrolled": false
      },
      "outputs": [
        {
          "data": {
            "text/plain": [
              "(1545,)"
            ]
          },
          "execution_count": 15,
          "metadata": {},
          "output_type": "execute_result"
        }
      ],
      "source": [
        "from sklearn.metrics import roc_auc_score, roc_curve, auc\n",
        "probas = clr.predict_proba(X_test)\n",
        "fpr0, tpr0, thresholds0 = roc_curve(y_test, probas[:, 0], pos_label=clr.classes_[0], drop_intermediate=False)\n",
        "fpr0.shape"
      ]
    },
    {
      "cell_type": "code",
      "execution_count": 15,
      "metadata": {},
      "outputs": [
        {
          "data": {
            "image/png": "[encoded data removed]",
            "text/plain": [
              "<matplotlib.figure.Figure at 0x1c889f670f0>"
            ]
          },
          "metadata": {},
          "output_type": "display_data"
        }
      ],
      "source": [
        "fig, ax = plt.subplots(1, 1, figsize=(4,4))\n",
        "ax.plot([0, 1], [0, 1], 'k--')\n",
        "# aucf = roc_auc_score(y_test == clr.classes_[0], probas[:, 0]) # premi\u00e8re fa\u00e7on\n",
        "aucf = auc(fpr0, tpr0)  # seconde fa\u00e7on\n",
        "ax.plot(fpr0, tpr0, label=clr.classes_[0] + ' auc=%1.5f' % aucf)\n",
        "ax.set_title('Courbe ROC - classifieur couleur des vins')\n",
        "ax.text(0.5, 0.3, \"plus mauvais que\\nle hasard dans\\ncette zone\")\n",
        "ax.legend();"
      ]
    },
    {
      "cell_type": "markdown",
      "metadata": {},
      "source": [
        "La mesure [AUC](https://en.wikipedia.org/wiki/Receiver_operating_characteristic#Area_under_the_curve) ou Area Under the Curve est l'aire sous la courbe. Elle est \u00e9gale \u00e0 la probabilit\u00e9 que le score d'un exemple class\u00e9 rouge \u00e0 raison soit inf\u00e9rieur \u00e0 un exemple class\u00e9 rouge \u00e0 tort. On v\u00e9rifie."
      ]
    },
    {
      "cell_type": "code",
      "execution_count": 16,
      "metadata": {},
      "outputs": [
        {
          "name": "stdout",
          "output_type": "stream",
          "text": [
            "0.9930953869573491\n"
          ]
        }
      ],
      "source": [
        "from random import randint\n",
        "n1, n2 = 0, 0\n",
        "yt = y_test.as_matrix()\n",
        "\n",
        "for n in range(0, 100000):\n",
        "    i = randint(0, len(yt)-1)\n",
        "    j = randint(0, len(yt)-1)\n",
        "    s1, p1 = probas[i, 0], yt[i] == clr.classes_[0]\n",
        "    s2, p2 = probas[j, 0], yt[j] == clr.classes_[0]\n",
        "    if p1 != p2:\n",
        "        if p1:\n",
        "            if s1 < s2:\n",
        "                n1 += 1\n",
        "            else:\n",
        "                n2 += 1\n",
        "        else:\n",
        "            if s1 > s2:\n",
        "                n1 += 1\n",
        "            else:\n",
        "                n2 += 1\n",
        "print(n2*1.0/(n1 + n2))"
      ]
    },
    {
      "cell_type": "markdown",
      "metadata": {},
      "source": [
        "Presque cela, la fonction [auc]() utilise la fontion [trapz](https://docs.scipy.org/doc/numpy-1.14.0/reference/generated/numpy.trapz.html) et qui calcule une aire et non pas une probabilit\u00e9 comme-ci dessus."
      ]
    },
    {
      "cell_type": "code",
      "execution_count": 17,
      "metadata": {},
      "outputs": [],
      "source": []
    }
  ],
  "metadata": {
    "kernelspec": {
      "display_name": "Python 3",
      "language": "python",
      "name": "python3"
    },
    "language_info": {
      "codemirror_mode": {
        "name": "ipython",
        "version": 3
      },
      "file_extension": ".py",
      "mimetype": "text/x-python",
      "name": "python",
      "nbconvert_exporter": "python",
      "pygments_lexer": "ipython3",
      "version": "3.6.4"
    }
  },
  "nbformat": 4,
  "nbformat_minor": 2
}