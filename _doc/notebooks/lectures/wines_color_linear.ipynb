{
  "cells": [
    {
      "cell_type": "markdown",
      "metadata": {},
      "source": [
        "# Plusieurs mod\u00e8les, donn\u00e9es disjointes\n",
        "\n",
        "On cherche \u00e0 pr\u00e9dire la note d'un vin mais on suppose que cette qualit\u00e9 est d\u00e9pendante de la couleur et qu'il faudrait appliquer des mod\u00e8les diff\u00e9rents selon la couleur."
      ]
    },
    {
      "cell_type": "code",
      "execution_count": 1,
      "metadata": {},
      "outputs": [],
      "source": [
        "%matplotlib inline"
      ]
    },
    {
      "cell_type": "code",
      "execution_count": 2,
      "metadata": {},
      "outputs": [
        {
          "data": {
            "text/html": [
              "<div id=\"my_id_menu_nb\">run previous cell, wait for 2 seconds</div>\n",
              "<script>\n",
              "function repeat_indent_string(n){\n",
              "    var a = \"\" ;\n",
              "    for ( ; n > 0 ; --n)\n",
              "        a += \"    \";\n",
              "    return a;\n",
              "}\n",
              "var update_menu_string = function(begin, lfirst, llast, sformat, send, keep_item, begin_format, end_format) {\n",
              "    var anchors = document.getElementsByClassName(\"section\");\n",
              "    if (anchors.length == 0) {\n",
              "        anchors = document.getElementsByClassName(\"text_cell_render rendered_html\");\n",
              "    }\n",
              "    var i,t;\n",
              "    var text_menu = begin;\n",
              "    var text_memo = \"<pre>\\nlength:\" + anchors.length + \"\\n\";\n",
              "    var ind = \"\";\n",
              "    var memo_level = 1;\n",
              "    var href;\n",
              "    var tags = [];\n",
              "    var main_item = 0;\n",
              "    var format_open = 0;\n",
              "    for (i = 0; i <= llast; i++)\n",
              "        tags.push(\"h\" + i);\n",
              "\n",
              "    for (i = 0; i < anchors.length; i++) {\n",
              "        text_memo += \"**\" + anchors[i].id + \"--\\n\";\n",
              "\n",
              "        var child = null;\n",
              "        for(t = 0; t < tags.length; t++) {\n",
              "            var r = anchors[i].getElementsByTagName(tags[t]);\n",
              "            if (r.length > 0) {\n",
              "child = r[0];\n",
              "break;\n",
              "            }\n",
              "        }\n",
              "        if (child == null) {\n",
              "            text_memo += \"null\\n\";\n",
              "            continue;\n",
              "        }\n",
              "        if (anchors[i].hasAttribute(\"id\")) {\n",
              "            // when converted in RST\n",
              "            href = anchors[i].id;\n",
              "            text_memo += \"#1-\" + href;\n",
              "            // passer \u00e0 child suivant (le chercher)\n",
              "        }\n",
              "        else if (child.hasAttribute(\"id\")) {\n",
              "            // in a notebook\n",
              "            href = child.id;\n",
              "            text_memo += \"#2-\" + href;\n",
              "        }\n",
              "        else {\n",
              "            text_memo += \"#3-\" + \"*\" + \"\\n\";\n",
              "            continue;\n",
              "        }\n",
              "        var title = child.textContent;\n",
              "        var level = parseInt(child.tagName.substring(1,2));\n",
              "\n",
              "        text_memo += \"--\" + level + \"?\" + lfirst + \"--\" + title + \"\\n\";\n",
              "\n",
              "        if ((level < lfirst) || (level > llast)) {\n",
              "            continue ;\n",
              "        }\n",
              "        if (title.endsWith('\u00b6')) {\n",
              "            title = title.substring(0,title.length-1).replace(\"<\", \"&lt;\")\n",
              "         .replace(\">\", \"&gt;\").replace(\"&\", \"&amp;\");\n",
              "        }\n",
              "        if (title.length == 0) {\n",
              "            continue;\n",
              "        }\n",
              "\n",
              "        while (level < memo_level) {\n",
              "            text_menu += end_format + \"</ul>\\n\";\n",
              "            format_open -= 1;\n",
              "            memo_level -= 1;\n",
              "        }\n",
              "        if (level == lfirst) {\n",
              "            main_item += 1;\n",
              "        }\n",
              "        if (keep_item != -1 && main_item != keep_item + 1) {\n",
              "            // alert(main_item + \" - \" + level + \" - \" + keep_item);\n",
              "            continue;\n",
              "        }\n",
              "        while (level > memo_level) {\n",
              "            text_menu += \"<ul>\\n\";\n",
              "            memo_level += 1;\n",
              "        }\n",
              "        text_menu += repeat_indent_string(level-2);\n",
              "        text_menu += begin_format + sformat.replace(\"__HREF__\", href).replace(\"__TITLE__\", title);\n",
              "        format_open += 1;\n",
              "    }\n",
              "    while (1 < memo_level) {\n",
              "        text_menu += end_format + \"</ul>\\n\";\n",
              "        memo_level -= 1;\n",
              "        format_open -= 1;\n",
              "    }\n",
              "    text_menu += send;\n",
              "    //text_menu += \"\\n\" + text_memo;\n",
              "\n",
              "    while (format_open > 0) {\n",
              "        text_menu += end_format;\n",
              "        format_open -= 1;\n",
              "    }\n",
              "    return text_menu;\n",
              "};\n",
              "var update_menu = function() {\n",
              "    var sbegin = \"\";\n",
              "    var sformat = '<a href=\"#__HREF__\">__TITLE__</a>';\n",
              "    var send = \"\";\n",
              "    var begin_format = '<li>';\n",
              "    var end_format = '</li>';\n",
              "    var keep_item = -1;\n",
              "    var text_menu = update_menu_string(sbegin, 2, 4, sformat, send, keep_item,\n",
              "       begin_format, end_format);\n",
              "    var menu = document.getElementById(\"my_id_menu_nb\");\n",
              "    menu.innerHTML=text_menu;\n",
              "};\n",
              "window.setTimeout(update_menu,2000);\n",
              "            </script>"
            ],
            "text/plain": [
              "<IPython.core.display.HTML object>"
            ]
          },
          "execution_count": 3,
          "metadata": {},
          "output_type": "execute_result"
        }
      ],
      "source": [
        "from jyquickhelper import add_notebook_menu\n",
        "add_notebook_menu()"
      ]
    },
    {
      "cell_type": "markdown",
      "metadata": {},
      "source": [
        "## donn\u00e9es"
      ]
    },
    {
      "cell_type": "code",
      "execution_count": 3,
      "metadata": {
        "scrolled": true
      },
      "outputs": [],
      "source": [
        "from papierstat.datasets import load_wines_dataset\n",
        "df = load_wines_dataset()"
      ]
    },
    {
      "cell_type": "code",
      "execution_count": 4,
      "metadata": {},
      "outputs": [],
      "source": [
        "X = df.drop(['quality', 'color'], axis=1)\n",
        "y = df['quality']\n",
        "color = df['color']"
      ]
    },
    {
      "cell_type": "code",
      "execution_count": 5,
      "metadata": {},
      "outputs": [],
      "source": [
        "from sklearn.model_selection import train_test_split\n",
        "X_train, X_test, y_train, y_test, color_train, color_test = train_test_split(X, y, color)"
      ]
    },
    {
      "cell_type": "markdown",
      "metadata": {},
      "source": [
        "## version manuelle"
      ]
    },
    {
      "cell_type": "markdown",
      "metadata": {},
      "source": [
        "On cale d'abord un mod\u00e8le lin\u00e9aire sur toute la base."
      ]
    },
    {
      "cell_type": "code",
      "execution_count": 6,
      "metadata": {},
      "outputs": [
        {
          "data": {
            "text/plain": [
              "LogisticRegression(C=1.0, class_weight=None, dual=False, fit_intercept=True,\n",
              "          intercept_scaling=1, max_iter=100, multi_class='ovr', n_jobs=1,\n",
              "          penalty='l2', random_state=None, solver='liblinear', tol=0.0001,\n",
              "          verbose=0, warm_start=False)"
            ]
          },
          "execution_count": 7,
          "metadata": {},
          "output_type": "execute_result"
        }
      ],
      "source": [
        "from sklearn.linear_model import LogisticRegression\n",
        "clr = LogisticRegression()\n",
        "clr.fit(X_train, y_train)"
      ]
    },
    {
      "cell_type": "code",
      "execution_count": 7,
      "metadata": {},
      "outputs": [
        {
          "data": {
            "text/plain": [
              "0.5464615384615384"
            ]
          },
          "execution_count": 8,
          "metadata": {},
          "output_type": "execute_result"
        }
      ],
      "source": [
        "from sklearn.metrics import accuracy_score\n",
        "accuracy_score(y_test, clr.predict(X_test))"
      ]
    },
    {
      "cell_type": "markdown",
      "metadata": {},
      "source": [
        "Et maintenant on essaye de caler un mod\u00e8le diff\u00e9rent selon les couleurs."
      ]
    },
    {
      "cell_type": "code",
      "execution_count": 8,
      "metadata": {},
      "outputs": [],
      "source": [
        "X_train_white = X_train[color_train == \"white\"]\n",
        "y_train_white = y_train[color_train == \"white\"]\n",
        "X_train_red = X_train[color_train == \"red\"]\n",
        "y_train_red = y_train[color_train == \"red\"]"
      ]
    },
    {
      "cell_type": "code",
      "execution_count": 9,
      "metadata": {},
      "outputs": [
        {
          "data": {
            "text/plain": [
              "LogisticRegression(C=1.0, class_weight=None, dual=False, fit_intercept=True,\n",
              "          intercept_scaling=1, max_iter=100, multi_class='ovr', n_jobs=1,\n",
              "          penalty='l2', random_state=None, solver='liblinear', tol=0.0001,\n",
              "          verbose=0, warm_start=False)"
            ]
          },
          "execution_count": 10,
          "metadata": {},
          "output_type": "execute_result"
        }
      ],
      "source": [
        "clr_white = LogisticRegression()\n",
        "clr_white.fit(X_train, y_train)\n",
        "clr_red = LogisticRegression()\n",
        "clr_red.fit(X_train_red, y_train_red)"
      ]
    },
    {
      "cell_type": "code",
      "execution_count": 10,
      "metadata": {},
      "outputs": [],
      "source": [
        "X_test_white = X_test[color_test == \"white\"]\n",
        "y_test_white = y_test[color_test == \"white\"]\n",
        "X_test_red = X_test[color_test == \"red\"]\n",
        "y_test_red = y_test[color_test == \"red\"]"
      ]
    },
    {
      "cell_type": "code",
      "execution_count": 11,
      "metadata": {},
      "outputs": [
        {
          "data": {
            "text/plain": [
              "(0.5391517128874388, 0.5639097744360902)"
            ]
          },
          "execution_count": 12,
          "metadata": {},
          "output_type": "execute_result"
        }
      ],
      "source": [
        "acc_white = accuracy_score(y_test_white, clr_white.predict(X_test_white))\n",
        "acc_red = accuracy_score(y_test_red, clr_red.predict(X_test_red))\n",
        "acc_white, acc_red"
      ]
    },
    {
      "cell_type": "markdown",
      "metadata": {},
      "source": [
        "Il faut agr\u00e9ger pour obtenir les performances sur la base compl\u00e8te."
      ]
    },
    {
      "cell_type": "code",
      "execution_count": 12,
      "metadata": {},
      "outputs": [
        {
          "data": {
            "text/plain": [
              "0.5452307692307692"
            ]
          },
          "execution_count": 13,
          "metadata": {},
          "output_type": "execute_result"
        }
      ],
      "source": [
        "acc2 = (acc_white * len(y_test_white) + acc_red * len(y_test_red)) / len(y_test)\n",
        "acc2"
      ]
    },
    {
      "cell_type": "markdown",
      "metadata": {},
      "source": [
        "C'est un petit peu mieux mais l'ensemble est compliqu\u00e9 \u00e0 mettre en place. Il serait plus simple d'automatiser pour pouvoir faire de la validation crois\u00e9e."
      ]
    },
    {
      "cell_type": "markdown",
      "metadata": {},
      "source": [
        "## Automatisation\n",
        "\n",
        "Au d\u00e9but, j'avais pens\u00e9 \u00e9crire une classe inspir\u00e9e de l'API de [scikit-learn](http://www.xavierdupre.fr/app/ensae_teaching_cs/helpsphinx3/notebooks/02_basic_of_machine_learning_with_scikit-learn.html#a-recap-on-scikit-learn-s-estimator-interface) qui apprend plusieurs mod\u00e8les selon une cat\u00e9gorie indiqu\u00e9e lors de l'apprentissage et de la pr\u00e9diction."
      ]
    },
    {
      "cell_type": "code",
      "execution_count": 13,
      "metadata": {},
      "outputs": [],
      "source": [
        "class SkBaseLearnerCategory:\n",
        "    \n",
        "    def fit(X, y, cat):\n",
        "        # ...\n",
        "        pass\n",
        "        \n",
        "    def predict(X, cat):\n",
        "        # ...\n",
        "        pass"
      ]
    },
    {
      "cell_type": "markdown",
      "metadata": {},
      "source": [
        "Mais \u00e0 moins de changer l'interface des [pipeline](https://github.com/scikit-learn/scikit-learn/blob/master/sklearn/pipeline.py#L290), il n'y aucun chance pour que cette classe puisse en faire partie. J'ai donc opt\u00e9 pour le design suivant m\u00eame s'il ne me pla\u00eet que moyennement parce qu'il faut g\u00e9rer plusieurs containers diff\u00e9rents (numpy, pandas, ...)"
      ]
    },
    {
      "cell_type": "code",
      "execution_count": 14,
      "metadata": {},
      "outputs": [],
      "source": [
        "class SkBaseLearnerCategory:\n",
        "    \n",
        "    def __init__(cat=\"column\"):\n",
        "        self.cat_col = cat\n",
        "        pass\n",
        "    \n",
        "    def fit(X, y, cat):\n",
        "        X = X.drop(cat, axis=1)\n",
        "        # ...\n",
        "                \n",
        "    def predict(X, cat):\n",
        "        X = X.drop(cat, axis=1)\n",
        "        # ..."
      ]
    },
    {
      "cell_type": "markdown",
      "metadata": {},
      "source": [
        "Bref, \u00e7a marche..."
      ]
    },
    {
      "cell_type": "code",
      "execution_count": 15,
      "metadata": {},
      "outputs": [
        {
          "data": {
            "text/plain": [
              "SkBaseLearnerCategory(LogisticRegression(C=1.0, class_weight=None, dual=False, fit_intercept=True,\n",
              "          intercept_scaling=1, max_iter=100, multi_class='ovr', n_jobs=1,\n",
              "          penalty='l2', random_state=None, solver='liblinear', tol=0.0001,\n",
              "          verbose=0, warm_start=False),colnameind='color')"
            ]
          },
          "execution_count": 16,
          "metadata": {},
          "output_type": "execute_result"
        }
      ],
      "source": [
        "from papierstat.mltricks import SkBaseLearnerCategory\n",
        "import pandas\n",
        "model = SkBaseLearnerCategory(\"color\", LogisticRegression())\n",
        "new_x_train = pandas.concat([X_train, color_train], axis=1)\n",
        "model.fit(new_x_train, y_train)"
      ]
    },
    {
      "cell_type": "code",
      "execution_count": 16,
      "metadata": {},
      "outputs": [
        {
          "data": {
            "text/plain": [
              "0.5464615384615384"
            ]
          },
          "execution_count": 17,
          "metadata": {},
          "output_type": "execute_result"
        }
      ],
      "source": [
        "new_x_test = pandas.concat([X_test, color_test], axis=1)\n",
        "accuracy_score(y_test, model.predict(new_x_test))"
      ]
    },
    {
      "cell_type": "markdown",
      "metadata": {},
      "source": [
        "## Exemple sur un jeu articificiel\n",
        "\n",
        "Comme ce n'est pas tr\u00e8s probant... Essayons de v\u00e9rifier que l'impl\u00e9mentation est correcte en fabriquant un jeu de donn\u00e9es o\u00f9 cela doit marcher."
      ]
    },
    {
      "cell_type": "code",
      "execution_count": 17,
      "metadata": {},
      "outputs": [],
      "source": [
        "import numpy\n",
        "n = 20\n",
        "colorart = numpy.array([0 for i in range(0,n)] + [1 for i in range(0,n)])\n",
        "Xart = numpy.random.random(n*2)\n",
        "Xart = Xart[:, numpy.newaxis]\n",
        "Yart = Xart.ravel() + colorart + numpy.random.random(n*2)/10"
      ]
    },
    {
      "cell_type": "code",
      "execution_count": 18,
      "metadata": {},
      "outputs": [
        {
          "data": {
            "image/png": "[encoded data removed]",
            "text/plain": [
              "<matplotlib.figure.Figure at 0x1881a001278>"
            ]
          },
          "metadata": {},
          "output_type": "display_data"
        }
      ],
      "source": [
        "import matplotlib.pyplot as plt\n",
        "fig, ax = plt.subplots(1, 1, figsize=(3,3))\n",
        "ax.plot(Xart, Yart, 'o')\n",
        "ax.set_title(\"Nuage de points artificiel\");"
      ]
    },
    {
      "cell_type": "markdown",
      "metadata": {},
      "source": [
        "On apprend une r\u00e9gression lin\u00e9aire."
      ]
    },
    {
      "cell_type": "code",
      "execution_count": 19,
      "metadata": {},
      "outputs": [],
      "source": [
        "from sklearn.linear_model import LinearRegression\n",
        "reg = LinearRegression()\n",
        "reg.fit(Xart, Yart)\n",
        "pred = reg.predict(Xart)"
      ]
    },
    {
      "cell_type": "code",
      "execution_count": 20,
      "metadata": {},
      "outputs": [
        {
          "data": {
            "image/png": "[encoded data removed]",
            "text/plain": [
              "<matplotlib.figure.Figure at 0x18819cbd1d0>"
            ]
          },
          "metadata": {},
          "output_type": "display_data"
        }
      ],
      "source": [
        "fig, ax = plt.subplots(1, 1, figsize=(3,3))\n",
        "ax.plot(Xart, Yart, 'o', label=\"true\")\n",
        "ax.plot(Xart, pred, 'o', label=\"pr\u00e9diction\")\n",
        "ax.set_title(\"Nuage de points artificiel\")\n",
        "ax.legend();"
      ]
    },
    {
      "cell_type": "markdown",
      "metadata": {},
      "source": [
        "Le jeu a \u00e9t\u00e9 construit pour \u00e9chouer. Voyons avec les couleurs."
      ]
    },
    {
      "cell_type": "code",
      "execution_count": 21,
      "metadata": {},
      "outputs": [],
      "source": [
        "new_x_art = pandas.DataFrame(dict(X=Xart.ravel(), color=colorart))"
      ]
    },
    {
      "cell_type": "code",
      "execution_count": 22,
      "metadata": {},
      "outputs": [],
      "source": [
        "model = SkBaseLearnerCategory(\"color\", LinearRegression())\n",
        "model.fit(new_x_art, Yart)\n",
        "pred2 = model.predict(new_x_art)"
      ]
    },
    {
      "cell_type": "code",
      "execution_count": 23,
      "metadata": {},
      "outputs": [
        {
          "data": {
            "image/png": "[encoded data removed]",
            "text/plain": [
              "<matplotlib.figure.Figure at 0x1881a1c3ef0>"
            ]
          },
          "metadata": {},
          "output_type": "display_data"
        }
      ],
      "source": [
        "fig, ax = plt.subplots(1, 1, figsize=(3,3))\n",
        "ax.plot(Xart, Yart, 'o', label=\"true\")\n",
        "ax.plot(Xart, pred2, 'o', label=\"pr\u00e9diction\")\n",
        "ax.set_title(\"Nuage de points artificiel\")\n",
        "ax.legend();"
      ]
    },
    {
      "cell_type": "markdown",
      "metadata": {},
      "source": [
        "L'impl\u00e9mentation fonctionne. Donc cela n'ajoute rien de caler un mod\u00e8le diff\u00e9rent sur vins rouges et blancs s'il est lin\u00e9aire. Essaysons avec un autre."
      ]
    },
    {
      "cell_type": "code",
      "execution_count": 24,
      "metadata": {},
      "outputs": [
        {
          "data": {
            "text/plain": [
              "(0.5907692307692308, 0.6006153846153847)"
            ]
          },
          "execution_count": 25,
          "metadata": {},
          "output_type": "execute_result"
        }
      ],
      "source": [
        "from sklearn.tree import DecisionTreeClassifier\n",
        "\n",
        "model = DecisionTreeClassifier()\n",
        "model.fit(X_train, y_train)\n",
        "acc1 = accuracy_score(y_test, model.predict(X_test))\n",
        "\n",
        "model = SkBaseLearnerCategory(\"color\", DecisionTreeClassifier())\n",
        "model.fit(new_x_train, y_train)\n",
        "acc2 = accuracy_score(y_test, model.predict(new_x_test))\n",
        "\n",
        "acc1, acc2"
      ]
    },
    {
      "cell_type": "markdown",
      "metadata": {},
      "source": [
        "C'est l\u00e9g\u00e8rement mieux mais cela varie d\u00e8s qu'on ex\u00e9cute plusieurs fois. A v\u00e9rifier avec une validation crois\u00e9e."
      ]
    },
    {
      "cell_type": "code",
      "execution_count": 25,
      "metadata": {},
      "outputs": [
        {
          "data": {
            "text/plain": [
              "(0.6443076923076924, 0.6387692307692308)"
            ]
          },
          "execution_count": 26,
          "metadata": {},
          "output_type": "execute_result"
        }
      ],
      "source": [
        "from sklearn.ensemble import RandomForestClassifier\n",
        "\n",
        "model = RandomForestClassifier()\n",
        "model.fit(X_train, y_train)\n",
        "acc1 = accuracy_score(y_test, model.predict(X_test))\n",
        "\n",
        "model = SkBaseLearnerCategory(\"color\", RandomForestClassifier())\n",
        "model.fit(new_x_train, y_train)\n",
        "acc2 = accuracy_score(y_test, model.predict(new_x_test))\n",
        "\n",
        "acc1, acc2"
      ]
    },
    {
      "cell_type": "markdown",
      "metadata": {},
      "source": [
        "Ici cela n'apporte rien du tout."
      ]
    },
    {
      "cell_type": "code",
      "execution_count": 26,
      "metadata": {},
      "outputs": [
        {
          "data": {
            "text/plain": [
              "Pipeline(memory=None,\n",
              "     steps=[('anova', SelectKBest(k=5, score_func=<function f_regression at 0x0000018818AABE18>)), ('svc', SVC(C=1.0, cache_size=200, class_weight=None, coef0=0.0,\n",
              "  decision_function_shape='ovr', degree=3, gamma='auto', kernel='linear',\n",
              "  max_iter=-1, probability=False, random_state=None, shrinking=True,\n",
              "  tol=0.001, verbose=False))])"
            ]
          },
          "execution_count": 27,
          "metadata": {},
          "output_type": "execute_result"
        }
      ],
      "source": [
        "\n",
        "from sklearn import svm\n",
        "from sklearn.datasets import samples_generator\n",
        "from sklearn.feature_selection import SelectKBest\n",
        "from sklearn.feature_selection import f_regression\n",
        "from sklearn.pipeline import Pipeline\n",
        "# generate some data to play with\n",
        "X, y = samples_generator.make_classification(\n",
        "    n_informative=5, n_redundant=0, random_state=42)\n",
        "# ANOVA SVM-C\n",
        "anova_filter = SelectKBest(f_regression, k=5)\n",
        "clf = svm.SVC(kernel='linear')\n",
        "anova_svm = Pipeline([('anova', anova_filter), ('svc', clf)])    \n",
        "anova_svm.fit(X, y)\n"
      ]
    },
    {
      "cell_type": "code",
      "execution_count": 27,
      "metadata": {},
      "outputs": [],
      "source": []
    }
  ],
  "metadata": {
    "kernelspec": {
      "display_name": "Python 3",
      "language": "python",
      "name": "python3"
    },
    "language_info": {
      "codemirror_mode": {
        "name": "ipython",
        "version": 3
      },
      "file_extension": ".py",
      "mimetype": "text/x-python",
      "name": "python",
      "nbconvert_exporter": "python",
      "pygments_lexer": "ipython3",
      "version": "3.6.4"
    }
  },
  "nbformat": 4,
  "nbformat_minor": 2
}