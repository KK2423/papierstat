{
  "cells": [
    {
      "cell_type": "markdown",
      "metadata": {},
      "source": [
        "# Ranking et search engine\n",
        "\n",
        "C'est un petit exemple de ranking avec un tr\u00e8s petit jeu de donn\u00e9es, trop petit pour que le mod\u00e8le soit performant, mais le code peut \u00eatre r\u00e9utilis\u00e9 pour des exemples de taille raisonnable. C'est \u00e0 dire probablement pas pour apprnedre un moteur de recherche."
      ]
    },
    {
      "cell_type": "code",
      "execution_count": 1,
      "metadata": {},
      "outputs": [],
      "source": [
        "%matplotlib inline"
      ]
    },
    {
      "cell_type": "code",
      "execution_count": 2,
      "metadata": {},
      "outputs": [
        {
          "data": {
            "text/plain": [
              "matrix([[3., 3., 0., 0., 3., 1.],\n",
              "        [3., 0., 3., 0., 3., 1.],\n",
              "        [3., 0., 2., 0., 3., 1.],\n",
              "        [3., 0., 3., 0., 3., 1.],\n",
              "        [3., 0., 3., 0., 3., 1.]])"
            ]
          },
          "execution_count": 3,
          "metadata": {},
          "output_type": "execute_result"
        }
      ],
      "source": [
        "from papierstat.datasets import load_search_engine_dataset\n",
        "X, y, qid = load_search_engine_dataset()\n",
        "X[:5,:6].todense()"
      ]
    },
    {
      "cell_type": "code",
      "execution_count": 3,
      "metadata": {},
      "outputs": [
        {
          "data": {
            "text/plain": [
              "(582, 136)"
            ]
          },
          "execution_count": 4,
          "metadata": {},
          "output_type": "execute_result"
        }
      ],
      "source": [
        "X.shape"
      ]
    },
    {
      "cell_type": "markdown",
      "metadata": {},
      "source": [
        "Le tableau ``qid`` contient l'identifiant de la requ\u00eate, toutes les lignes associ\u00e9es \u00e0 un identifiant correspondent \u00e0 des r\u00e9sultats associ\u00e9s \u00e0 cette requ\u00eate. Dans ce jeu, il y a 7 requ\u00eates distinctes."
      ]
    },
    {
      "cell_type": "code",
      "execution_count": 4,
      "metadata": {},
      "outputs": [
        {
          "data": {
            "text/plain": [
              "{1, 16, 31, 46, 61, 76, 91}"
            ]
          },
          "execution_count": 5,
          "metadata": {},
          "output_type": "execute_result"
        }
      ],
      "source": [
        "set(qid)"
      ]
    },
    {
      "cell_type": "markdown",
      "metadata": {},
      "source": [
        "On peut essayer d'abord [XGBoost](http://xgboost.readthedocs.io/en/latest/python/index.html)."
      ]
    },
    {
      "cell_type": "code",
      "execution_count": 5,
      "metadata": {},
      "outputs": [],
      "source": [
        "X_train, y_train, qid_train = load_search_engine_dataset()"
      ]
    },
    {
      "cell_type": "code",
      "execution_count": 6,
      "metadata": {},
      "outputs": [
        {
          "data": {
            "text/html": [
              "<div>\n",
              "<style scoped>\n",
              "    .dataframe tbody tr th:only-of-type {\n",
              "        vertical-align: middle;\n",
              "    }\n",
              "\n",
              "    .dataframe tbody tr th {\n",
              "        vertical-align: top;\n",
              "    }\n",
              "\n",
              "    .dataframe thead th {\n",
              "        text-align: right;\n",
              "    }\n",
              "</style>\n",
              "<table border=\"1\" class=\"dataframe\">\n",
              "  <thead>\n",
              "    <tr style=\"text-align: right;\">\n",
              "      <th></th>\n",
              "      <th>c</th>\n",
              "    </tr>\n",
              "    <tr>\n",
              "      <th>qid</th>\n",
              "      <th></th>\n",
              "    </tr>\n",
              "  </thead>\n",
              "  <tbody>\n",
              "    <tr>\n",
              "      <th>1</th>\n",
              "      <td>86</td>\n",
              "    </tr>\n",
              "    <tr>\n",
              "      <th>16</th>\n",
              "      <td>106</td>\n",
              "    </tr>\n",
              "    <tr>\n",
              "      <th>31</th>\n",
              "      <td>92</td>\n",
              "    </tr>\n",
              "    <tr>\n",
              "      <th>46</th>\n",
              "      <td>120</td>\n",
              "    </tr>\n",
              "    <tr>\n",
              "      <th>61</th>\n",
              "      <td>59</td>\n",
              "    </tr>\n",
              "    <tr>\n",
              "      <th>76</th>\n",
              "      <td>45</td>\n",
              "    </tr>\n",
              "    <tr>\n",
              "      <th>91</th>\n",
              "      <td>74</td>\n",
              "    </tr>\n",
              "  </tbody>\n",
              "</table>\n",
              "</div>"
            ],
            "text/plain": [
              "       c\n",
              "qid     \n",
              "1     86\n",
              "16   106\n",
              "31    92\n",
              "46   120\n",
              "61    59\n",
              "76    45\n",
              "91    74"
            ]
          },
          "execution_count": 7,
          "metadata": {},
          "output_type": "execute_result"
        }
      ],
      "source": [
        "import pandas\n",
        "df = pandas.DataFrame(qid_train)\n",
        "df['c'] = 1\n",
        "df.columns = ['qid', 'c']\n",
        "gr = df.groupby('qid').count()\n",
        "gr"
      ]
    },
    {
      "cell_type": "code",
      "execution_count": 7,
      "metadata": {},
      "outputs": [],
      "source": [
        "from xgboost import DMatrix\n",
        "dtrain = DMatrix(data=X_train, label=y_train)\n",
        "dtrain.set_group(gr.as_matrix())"
      ]
    },
    {
      "cell_type": "code",
      "execution_count": 8,
      "metadata": {},
      "outputs": [],
      "source": [
        "from xgboost import XGBRegressor, train\n",
        "rk = train(params={'objective': 'rank:ndcg'}, dtrain=dtrain, num_boost_round=10)"
      ]
    },
    {
      "cell_type": "code",
      "execution_count": 9,
      "metadata": {},
      "outputs": [],
      "source": [
        "X_test, y_test, qid_test = load_search_engine_dataset(False)"
      ]
    },
    {
      "cell_type": "code",
      "execution_count": 10,
      "metadata": {},
      "outputs": [],
      "source": [
        "import pandas\n",
        "df = pandas.DataFrame(qid_test)\n",
        "df['c'] = 1\n",
        "df.columns = ['qid', 'c']\n",
        "gr = df.groupby('qid').count()\n",
        "dtest = DMatrix(data=X_test)\n",
        "dtest.set_group(gr.as_matrix())"
      ]
    },
    {
      "cell_type": "code",
      "execution_count": 11,
      "metadata": {},
      "outputs": [],
      "source": [
        "pred = rk.predict(dtest)"
      ]
    },
    {
      "cell_type": "markdown",
      "metadata": {},
      "source": [
        "On peut calculer l'erreur au carr\u00e9."
      ]
    },
    {
      "cell_type": "code",
      "execution_count": 12,
      "metadata": {},
      "outputs": [
        {
          "data": {
            "text/plain": [
              "0.816864587903257"
            ]
          },
          "execution_count": 13,
          "metadata": {},
          "output_type": "execute_result"
        }
      ],
      "source": [
        "from sklearn.metrics import mean_squared_error\n",
        "mean_squared_error(y_test, pred)"
      ]
    },
    {
      "cell_type": "markdown",
      "metadata": {},
      "source": [
        "Mais cela n'est valeur que si le score a un sens, ce qui est le cas ici. Si ce n'est pas le cas, il est possible d'\u00e9valuer les r\u00e9sultats avec la corr\u00e9lation des rangs des r\u00e9sultats ([coefficient de Kendall](https://en.wikipedia.org/wiki/Kendall_rank_correlation_coefficient))."
      ]
    },
    {
      "cell_type": "code",
      "execution_count": 13,
      "metadata": {},
      "outputs": [],
      "source": []
    }
  ],
  "metadata": {
    "kernelspec": {
      "display_name": "Python 3",
      "language": "python",
      "name": "python3"
    },
    "language_info": {
      "codemirror_mode": {
        "name": "ipython",
        "version": 3
      },
      "file_extension": ".py",
      "mimetype": "text/x-python",
      "name": "python",
      "nbconvert_exporter": "python",
      "pygments_lexer": "ipython3",
      "version": "3.6.4"
    }
  },
  "nbformat": 4,
  "nbformat_minor": 1
}