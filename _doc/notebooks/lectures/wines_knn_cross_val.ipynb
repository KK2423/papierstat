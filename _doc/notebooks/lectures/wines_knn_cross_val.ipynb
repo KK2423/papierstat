{
  "cells": [
    {
      "cell_type": "markdown",
      "metadata": {},
      "source": [
        "# Validation crois\u00e9e (cross-validation)\n",
        "\n",
        "Il est acquis qu'un mod\u00e8le doit \u00eatre \u00e9valu\u00e9 sur une base de test diff\u00e9rente de celle utilis\u00e9e pour l'apprentissage. Mais la performance est peut-\u00eatre juste l'effet d'une aubaine et d'un d\u00e9coupage particuli\u00e8rement avantageux. Pour \u00eatre s\u00fbr que le mod\u00e8le est robuste, on recommence plusieurs fois. On appelle cela la validation crois\u00e9e ou [cross validation](https://en.wikipedia.org/wiki/Cross-validation_(statistics))."
      ]
    },
    {
      "cell_type": "code",
      "execution_count": 1,
      "metadata": {},
      "outputs": [
        {
          "data": {
            "image/png": "[encoded data removed]",
            "text/plain": [
              "<IPython.core.display.Image object>"
            ]
          },
          "execution_count": 2,
          "metadata": {
            "image/png": {
              "width": 300
            }
          },
          "output_type": "execute_result"
        }
      ],
      "source": [
        "from pyquickhelper.helpgen import NbImage\n",
        "NbImage('images/cross.png', width=300)"
      ]
    },
    {
      "cell_type": "markdown",
      "metadata": {},
      "source": [
        "On d\u00e9coupe la base de donn\u00e9es en cinq segments de fa\u00e7on al\u00e9atoire. On en utilise 4 pour l'apprentissage et 1 pour tester. On recommander 5 fois. Si le mod\u00e8le est robuste, les cinq de scores de test seront sensiblement \u00e9gaux."
      ]
    },
    {
      "cell_type": "code",
      "execution_count": 2,
      "metadata": {},
      "outputs": [],
      "source": [
        "%matplotlib inline"
      ]
    },
    {
      "cell_type": "code",
      "execution_count": 3,
      "metadata": {},
      "outputs": [],
      "source": [
        "from papierstat.datasets import load_wines_dataset\n",
        "df = load_wines_dataset()\n",
        "X = df.drop(['quality', 'color'], axis=1)\n",
        "y = df['quality']"
      ]
    },
    {
      "cell_type": "markdown",
      "metadata": {},
      "source": [
        "On utilise un mod\u00e8le des plus proches voisins."
      ]
    },
    {
      "cell_type": "code",
      "execution_count": 4,
      "metadata": {},
      "outputs": [],
      "source": [
        "from sklearn.neighbors import KNeighborsRegressor\n",
        "knn = KNeighborsRegressor(n_neighbors=1)"
      ]
    },
    {
      "cell_type": "markdown",
      "metadata": {},
      "source": [
        "Nous allons utiliser la fonction [cross_val_score](http://scikit-learn.org/stable/modules/generated/sklearn.model_selection.cross_val_score.html)."
      ]
    },
    {
      "cell_type": "code",
      "execution_count": 5,
      "metadata": {},
      "outputs": [
        {
          "data": {
            "text/plain": [
              "array([-0.83897083, -0.4670711 , -0.59014921, -0.38119203, -0.77196458])"
            ]
          },
          "execution_count": 6,
          "metadata": {},
          "output_type": "execute_result"
        }
      ],
      "source": [
        "from sklearn.model_selection import cross_val_score\n",
        "cross_val_score(knn, X, y, cv=5)"
      ]
    },
    {
      "cell_type": "markdown",
      "metadata": {},
      "source": [
        "Le score par d\u00e9faut est $R^2$ :"
      ]
    },
    {
      "cell_type": "code",
      "execution_count": 6,
      "metadata": {},
      "outputs": [
        {
          "data": {
            "text/plain": [
              "array([-0.83897083, -0.4670711 , -0.59014921, -0.38119203, -0.77196458])"
            ]
          },
          "execution_count": 7,
          "metadata": {},
          "output_type": "execute_result"
        }
      ],
      "source": [
        "from sklearn.metrics import make_scorer, r2_score\n",
        "cross_val_score(knn, X, y, cv=5, scoring=make_scorer(r2_score))"
      ]
    },
    {
      "cell_type": "markdown",
      "metadata": {},
      "source": [
        "Si on souhaite utiliser score un autre score :"
      ]
    },
    {
      "cell_type": "code",
      "execution_count": 7,
      "metadata": {},
      "outputs": [
        {
          "data": {
            "text/plain": [
              "array([1.21615385, 1.21230769, 1.27328714, 1.14857583, 1.13702848])"
            ]
          },
          "execution_count": 8,
          "metadata": {},
          "output_type": "execute_result"
        }
      ],
      "source": [
        "from sklearn.metrics import mean_squared_error\n",
        "cross_val_score(knn, X, y, cv=5, scoring=make_scorer(mean_squared_error))"
      ]
    },
    {
      "cell_type": "markdown",
      "metadata": {},
      "source": [
        "Ou plusieurs \u00e0 la fois :"
      ]
    },
    {
      "cell_type": "code",
      "execution_count": 8,
      "metadata": {},
      "outputs": [
        {
          "data": {
            "text/plain": [
              "{'fit_time': array([0.00701737, 0.00802279, 0.00501251, 0.0060153 , 0.00604415]),\n",
              " 'score_time': array([0.01905298, 0.01603866, 0.01504064, 0.01403832, 0.01500988]),\n",
              " 'test_e2': array([1.21615385, 1.21230769, 1.27328714, 1.14857583, 1.13702848]),\n",
              " 'test_r2': array([-0.83897083, -0.4670711 , -0.59014921, -0.38119203, -0.77196458])}"
            ]
          },
          "execution_count": 9,
          "metadata": {},
          "output_type": "execute_result"
        }
      ],
      "source": [
        "from sklearn.model_selection import cross_validate\n",
        "cross_validate(knn, X, y, cv=5, scoring=dict(r2=make_scorer(r2_score), e2=make_scorer(mean_squared_error)),\n",
        "              return_train_score=False)"
      ]
    },
    {
      "cell_type": "markdown",
      "metadata": {},
      "source": [
        "On obtient bien les m\u00eames r\u00e9sultats mais ils sont bien diff\u00e9rents de ceux obtenus avec [train_est_split](http://scikit-learn.org/stable/modules/generated/sklearn.model_selection.train_test_split.html)."
      ]
    },
    {
      "cell_type": "code",
      "execution_count": 9,
      "metadata": {},
      "outputs": [
        {
          "data": {
            "text/plain": [
              "-0.12452564701642177"
            ]
          },
          "execution_count": 10,
          "metadata": {},
          "output_type": "execute_result"
        }
      ],
      "source": [
        "from sklearn.model_selection import train_test_split\n",
        "X_train, X_test, y_train, y_test = train_test_split(X, y)\n",
        "knn.fit(X_train, y_train)\n",
        "prediction = knn.predict(X_test)\n",
        "r2_score(y_test, prediction)"
      ]
    },
    {
      "cell_type": "markdown",
      "metadata": {},
      "source": [
        "Ca doit mettre la **puce \u00e0 l'oreille**. De plus, \u00e9tonnamment, le score $R^2$ est identique pour les tirages. C'est quelque peu suspect pour un nombre aussi volatile. Cela ne peut \u00eatre d\u00fb au fait que la fonction fait exactement les m\u00eames d\u00e9coupages. Mettons un peu plus d'al\u00e9atoire :"
      ]
    },
    {
      "cell_type": "code",
      "execution_count": 10,
      "metadata": {
        "scrolled": false
      },
      "outputs": [
        {
          "data": {
            "text/plain": [
              "{'fit_time': array([0.01203203, 0.00501204, 0.00601602, 0.00601339, 0.00601506]),\n",
              " 'score_time': array([0.01804686, 0.01403666, 0.01403975, 0.01303482, 0.01307178]),\n",
              " 'test_e2': array([0.76651306, 0.77230769, 0.88923077, 0.78736518, 0.79799537]),\n",
              " 'test_r2': array([-0.00214945, -0.0115673 , -0.16471295, -0.03536563, -0.05002253])}"
            ]
          },
          "execution_count": 11,
          "metadata": {},
          "output_type": "execute_result"
        }
      ],
      "source": [
        "from sklearn.model_selection import StratifiedKFold\n",
        "from time import clock\n",
        "res = cross_validate(knn, X, y,\n",
        "               scoring=dict(r2=make_scorer(r2_score), e2=make_scorer(mean_squared_error)),\n",
        "               return_train_score=False, \n",
        "               cv=StratifiedKFold(n_splits=5, random_state=int(clock()*100), shuffle=True))\n",
        "res"
      ]
    },
    {
      "cell_type": "code",
      "execution_count": 11,
      "metadata": {},
      "outputs": [
        {
          "data": {
            "image/png": "[encoded data removed]",
            "text/plain": [
              "<matplotlib.figure.Figure at 0x277e509cda0>"
            ]
          },
          "metadata": {},
          "output_type": "display_data"
        }
      ],
      "source": [
        "import matplotlib.pyplot as plt\n",
        "fig, ax = plt.subplots(1, 1, figsize=(3, 3))\n",
        "ax.plot(res['test_r2'])\n",
        "ax.set_title('k-nn R2 validation crois\u00e9e');"
      ]
    },
    {
      "cell_type": "markdown",
      "metadata": {},
      "source": [
        "On retrouve les m\u00eames scores que pour [train_test_split](http://scikit-learn.org/stable/modules/generated/sklearn.model_selection.train_test_split.html). Comment l'interpr\u00e9ter ? Et si les vins n'\u00e9taient pas m\u00e9lang\u00e9es dans la base avec des vins rouges au d\u00e9but et blancs vers la fin."
      ]
    },
    {
      "cell_type": "code",
      "execution_count": 12,
      "metadata": {},
      "outputs": [
        {
          "data": {
            "text/html": [
              "<div>\n",
              "<style scoped>\n",
              "    .dataframe tbody tr th:only-of-type {\n",
              "        vertical-align: middle;\n",
              "    }\n",
              "\n",
              "    .dataframe tbody tr th {\n",
              "        vertical-align: top;\n",
              "    }\n",
              "\n",
              "    .dataframe thead th {\n",
              "        text-align: right;\n",
              "    }\n",
              "</style>\n",
              "<table border=\"1\" class=\"dataframe\">\n",
              "  <thead>\n",
              "    <tr style=\"text-align: right;\">\n",
              "      <th></th>\n",
              "      <th>index</th>\n",
              "      <th>color</th>\n",
              "    </tr>\n",
              "  </thead>\n",
              "  <tbody>\n",
              "    <tr>\n",
              "      <th>0</th>\n",
              "      <td>0</td>\n",
              "      <td>red</td>\n",
              "    </tr>\n",
              "    <tr>\n",
              "      <th>1</th>\n",
              "      <td>1</td>\n",
              "      <td>red</td>\n",
              "    </tr>\n",
              "    <tr>\n",
              "      <th>2</th>\n",
              "      <td>2</td>\n",
              "      <td>red</td>\n",
              "    </tr>\n",
              "    <tr>\n",
              "      <th>3</th>\n",
              "      <td>3</td>\n",
              "      <td>red</td>\n",
              "    </tr>\n",
              "    <tr>\n",
              "      <th>4</th>\n",
              "      <td>4</td>\n",
              "      <td>red</td>\n",
              "    </tr>\n",
              "    <tr>\n",
              "      <th>6492</th>\n",
              "      <td>6492</td>\n",
              "      <td>white</td>\n",
              "    </tr>\n",
              "    <tr>\n",
              "      <th>6493</th>\n",
              "      <td>6493</td>\n",
              "      <td>white</td>\n",
              "    </tr>\n",
              "    <tr>\n",
              "      <th>6494</th>\n",
              "      <td>6494</td>\n",
              "      <td>white</td>\n",
              "    </tr>\n",
              "    <tr>\n",
              "      <th>6495</th>\n",
              "      <td>6495</td>\n",
              "      <td>white</td>\n",
              "    </tr>\n",
              "    <tr>\n",
              "      <th>6496</th>\n",
              "      <td>6496</td>\n",
              "      <td>white</td>\n",
              "    </tr>\n",
              "  </tbody>\n",
              "</table>\n",
              "</div>"
            ],
            "text/plain": [
              "      index  color\n",
              "0         0    red\n",
              "1         1    red\n",
              "2         2    red\n",
              "3         3    red\n",
              "4         4    red\n",
              "6492   6492  white\n",
              "6493   6493  white\n",
              "6494   6494  white\n",
              "6495   6495  white\n",
              "6496   6496  white"
            ]
          },
          "execution_count": 13,
          "metadata": {},
          "output_type": "execute_result"
        }
      ],
      "source": [
        "dfi = df.reset_index(drop=False)\n",
        "import pandas\n",
        "pandas.concat([dfi[['index', 'color']].head(), dfi[['index', 'color']].tail()])"
      ]
    },
    {
      "cell_type": "code",
      "execution_count": 13,
      "metadata": {},
      "outputs": [
        {
          "data": {
            "text/html": [
              "<div>\n",
              "<style scoped>\n",
              "    .dataframe tbody tr th:only-of-type {\n",
              "        vertical-align: middle;\n",
              "    }\n",
              "\n",
              "    .dataframe tbody tr th {\n",
              "        vertical-align: top;\n",
              "    }\n",
              "\n",
              "    .dataframe thead th {\n",
              "        text-align: right;\n",
              "    }\n",
              "</style>\n",
              "<table border=\"1\" class=\"dataframe\">\n",
              "  <thead>\n",
              "    <tr style=\"text-align: right;\">\n",
              "      <th></th>\n",
              "      <th>index</th>\n",
              "    </tr>\n",
              "    <tr>\n",
              "      <th>color</th>\n",
              "      <th></th>\n",
              "    </tr>\n",
              "  </thead>\n",
              "  <tbody>\n",
              "    <tr>\n",
              "      <th>red</th>\n",
              "      <td>0</td>\n",
              "    </tr>\n",
              "    <tr>\n",
              "      <th>white</th>\n",
              "      <td>1599</td>\n",
              "    </tr>\n",
              "  </tbody>\n",
              "</table>\n",
              "</div>"
            ],
            "text/plain": [
              "       index\n",
              "color       \n",
              "red        0\n",
              "white   1599"
            ]
          },
          "execution_count": 14,
          "metadata": {},
          "output_type": "execute_result"
        }
      ],
      "source": [
        "dfi[['index', 'color']].groupby('color').min()"
      ]
    },
    {
      "cell_type": "code",
      "execution_count": 14,
      "metadata": {},
      "outputs": [
        {
          "data": {
            "text/html": [
              "<div>\n",
              "<style scoped>\n",
              "    .dataframe tbody tr th:only-of-type {\n",
              "        vertical-align: middle;\n",
              "    }\n",
              "\n",
              "    .dataframe tbody tr th {\n",
              "        vertical-align: top;\n",
              "    }\n",
              "\n",
              "    .dataframe thead th {\n",
              "        text-align: right;\n",
              "    }\n",
              "</style>\n",
              "<table border=\"1\" class=\"dataframe\">\n",
              "  <thead>\n",
              "    <tr style=\"text-align: right;\">\n",
              "      <th></th>\n",
              "      <th>index</th>\n",
              "    </tr>\n",
              "    <tr>\n",
              "      <th>color</th>\n",
              "      <th></th>\n",
              "    </tr>\n",
              "  </thead>\n",
              "  <tbody>\n",
              "    <tr>\n",
              "      <th>red</th>\n",
              "      <td>1598</td>\n",
              "    </tr>\n",
              "    <tr>\n",
              "      <th>white</th>\n",
              "      <td>6496</td>\n",
              "    </tr>\n",
              "  </tbody>\n",
              "</table>\n",
              "</div>"
            ],
            "text/plain": [
              "       index\n",
              "color       \n",
              "red     1598\n",
              "white   6496"
            ]
          },
          "execution_count": 15,
          "metadata": {},
          "output_type": "execute_result"
        }
      ],
      "source": [
        "dfi[['index', 'color']].groupby('color').max()"
      ]
    },
    {
      "cell_type": "markdown",
      "metadata": {},
      "source": [
        "Les \u00e9l\u00e9ments sont clairements tri\u00e9s par couleur et la validation crois\u00e9e par d\u00e9faut d\u00e9coupe selon cet ordre. Cela signifie presque que le mod\u00e8le essaye de pr\u00e9dire la note d'un vin rouge en s'appuyant sur des vins blancs et cela ne marche visiblement pas. La validation crois\u00e9e ne retourne pas de mod\u00e8les mais cela peut \u00eatre contourner avec [GridSearchCV]()."
      ]
    },
    {
      "cell_type": "code",
      "execution_count": 15,
      "metadata": {},
      "outputs": [],
      "source": [
        "from sklearn.model_selection import GridSearchCV\n",
        "cvgrid = GridSearchCV(estimator=knn, param_grid={}, fit_params=None,\n",
        "               scoring=dict(r2=make_scorer(r2_score), e2=make_scorer(mean_squared_error)),\n",
        "               return_train_score=False, refit='r2',\n",
        "               cv=StratifiedKFold(n_splits=5, random_state=int(clock()*100), shuffle=True))"
      ]
    },
    {
      "cell_type": "code",
      "execution_count": 16,
      "metadata": {},
      "outputs": [
        {
          "data": {
            "text/plain": [
              "GridSearchCV(cv=StratifiedKFold(n_splits=5, random_state=17192, shuffle=True),\n",
              "       error_score='raise',\n",
              "       estimator=KNeighborsRegressor(algorithm='auto', leaf_size=30, metric='minkowski',\n",
              "          metric_params=None, n_jobs=1, n_neighbors=1, p=2,\n",
              "          weights='uniform'),\n",
              "       fit_params=None, iid=True, n_jobs=1, param_grid={},\n",
              "       pre_dispatch='2*n_jobs', refit='r2', return_train_score=False,\n",
              "       scoring={'r2': make_scorer(r2_score), 'e2': make_scorer(mean_squared_error)},\n",
              "       verbose=0)"
            ]
          },
          "execution_count": 17,
          "metadata": {},
          "output_type": "execute_result"
        }
      ],
      "source": [
        "cvgrid.fit(X, y)"
      ]
    },
    {
      "cell_type": "code",
      "execution_count": 17,
      "metadata": {},
      "outputs": [
        {
          "data": {
            "text/plain": [
              "{'mean_fit_time': array([0.00741224]),\n",
              " 'mean_score_time': array([0.01484685]),\n",
              " 'mean_test_e2': array([0.79667539]),\n",
              " 'mean_test_r2': array([-0.04484238]),\n",
              " 'params': [{}],\n",
              " 'rank_test_e2': array([1]),\n",
              " 'rank_test_r2': array([1]),\n",
              " 'split0_test_e2': array([0.8172043]),\n",
              " 'split0_test_r2': array([-0.06842387]),\n",
              " 'split1_test_e2': array([0.82076923]),\n",
              " 'split1_test_r2': array([-0.07504214]),\n",
              " 'split2_test_e2': array([0.78153846]),\n",
              " 'split2_test_r2': array([-0.02365775]),\n",
              " 'split3_test_e2': array([0.78505393]),\n",
              " 'split3_test_r2': array([-0.0323264]),\n",
              " 'split4_test_e2': array([0.77872012]),\n",
              " 'split4_test_r2': array([-0.02465966]),\n",
              " 'std_fit_time': array([0.00175262]),\n",
              " 'std_score_time': array([0.00264139]),\n",
              " 'std_test_e2': array([0.01837935]),\n",
              " 'std_test_r2': array([0.02227875])}"
            ]
          },
          "execution_count": 18,
          "metadata": {},
          "output_type": "execute_result"
        }
      ],
      "source": [
        "cvgrid.cv_results_"
      ]
    },
    {
      "cell_type": "code",
      "execution_count": 18,
      "metadata": {},
      "outputs": [
        {
          "data": {
            "text/plain": [
              "KNeighborsRegressor(algorithm='auto', leaf_size=30, metric='minkowski',\n",
              "          metric_params=None, n_jobs=1, n_neighbors=1, p=2,\n",
              "          weights='uniform')"
            ]
          },
          "execution_count": 19,
          "metadata": {},
          "output_type": "execute_result"
        }
      ],
      "source": [
        "cvgrid.best_estimator_"
      ]
    },
    {
      "cell_type": "code",
      "execution_count": 19,
      "metadata": {},
      "outputs": [],
      "source": []
    }
  ],
  "metadata": {
    "kernelspec": {
      "display_name": "Python 3",
      "language": "python",
      "name": "python3"
    },
    "language_info": {
      "codemirror_mode": {
        "name": "ipython",
        "version": 3
      },
      "file_extension": ".py",
      "mimetype": "text/x-python",
      "name": "python",
      "nbconvert_exporter": "python",
      "pygments_lexer": "ipython3",
      "version": "3.6.4"
    }
  },
  "nbformat": 4,
  "nbformat_minor": 2
}