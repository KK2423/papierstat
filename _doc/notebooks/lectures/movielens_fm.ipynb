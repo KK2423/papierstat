{
  "cells": [
    {
      "cell_type": "markdown",
      "metadata": {},
      "source": [
        "# Factorisation de matrice et recommandations\n",
        "\n",
        "Le notebook utilise la factorisation de matrice pour calculer des recommandations sur la base [movielens](https://grouplens.org/datasets/movielens/). On utilise le jeu de donn\u00e9es [ml-latest-small.zip](http://files.grouplens.org/datasets/movielens/ml-latest-small.zip)."
      ]
    },
    {
      "cell_type": "code",
      "execution_count": 1,
      "metadata": {},
      "outputs": [],
      "source": [
        "%matplotlib inline"
      ]
    },
    {
      "cell_type": "code",
      "execution_count": 2,
      "metadata": {},
      "outputs": [
        {
          "data": {
            "text/plain": [
              "['links', 'movies', 'ratings', 'tags']"
            ]
          },
          "execution_count": 3,
          "metadata": {},
          "output_type": "execute_result"
        }
      ],
      "source": [
        "from papierstat.datasets import load_movielens_dataset\n",
        "data = load_movielens_dataset(cache='movielens.zip')\n",
        "list(sorted(data))"
      ]
    },
    {
      "cell_type": "code",
      "execution_count": 3,
      "metadata": {},
      "outputs": [
        {
          "data": {
            "text/html": [
              "<div>\n",
              "<style scoped>\n",
              "    .dataframe tbody tr th:only-of-type {\n",
              "        vertical-align: middle;\n",
              "    }\n",
              "\n",
              "    .dataframe tbody tr th {\n",
              "        vertical-align: top;\n",
              "    }\n",
              "\n",
              "    .dataframe thead th {\n",
              "        text-align: right;\n",
              "    }\n",
              "</style>\n",
              "<table border=\"1\" class=\"dataframe\">\n",
              "  <thead>\n",
              "    <tr style=\"text-align: right;\">\n",
              "      <th></th>\n",
              "      <th>movieId</th>\n",
              "      <th>title</th>\n",
              "      <th>genres</th>\n",
              "    </tr>\n",
              "  </thead>\n",
              "  <tbody>\n",
              "    <tr>\n",
              "      <th>9123</th>\n",
              "      <td>164977</td>\n",
              "      <td>The Gay Desperado (1936)</td>\n",
              "      <td>Comedy</td>\n",
              "    </tr>\n",
              "    <tr>\n",
              "      <th>9124</th>\n",
              "      <td>164979</td>\n",
              "      <td>Women of '69, Unboxed</td>\n",
              "      <td>Documentary</td>\n",
              "    </tr>\n",
              "  </tbody>\n",
              "</table>\n",
              "</div>"
            ],
            "text/plain": [
              "      movieId                     title       genres\n",
              "9123   164977  The Gay Desperado (1936)       Comedy\n",
              "9124   164979     Women of '69, Unboxed  Documentary"
            ]
          },
          "execution_count": 4,
          "metadata": {},
          "output_type": "execute_result"
        }
      ],
      "source": [
        "data['movies'].tail(n=2)"
      ]
    },
    {
      "cell_type": "code",
      "execution_count": 4,
      "metadata": {},
      "outputs": [
        {
          "data": {
            "text/html": [
              "<div>\n",
              "<style scoped>\n",
              "    .dataframe tbody tr th:only-of-type {\n",
              "        vertical-align: middle;\n",
              "    }\n",
              "\n",
              "    .dataframe tbody tr th {\n",
              "        vertical-align: top;\n",
              "    }\n",
              "\n",
              "    .dataframe thead th {\n",
              "        text-align: right;\n",
              "    }\n",
              "</style>\n",
              "<table border=\"1\" class=\"dataframe\">\n",
              "  <thead>\n",
              "    <tr style=\"text-align: right;\">\n",
              "      <th></th>\n",
              "      <th>userId</th>\n",
              "      <th>movieId</th>\n",
              "      <th>rating</th>\n",
              "      <th>timestamp</th>\n",
              "      <th>dt</th>\n",
              "    </tr>\n",
              "  </thead>\n",
              "  <tbody>\n",
              "    <tr>\n",
              "      <th>100002</th>\n",
              "      <td>671</td>\n",
              "      <td>6385</td>\n",
              "      <td>2.5</td>\n",
              "      <td>1070979663</td>\n",
              "      <td>2003-12-09 14:21:03</td>\n",
              "    </tr>\n",
              "    <tr>\n",
              "      <th>100003</th>\n",
              "      <td>671</td>\n",
              "      <td>6565</td>\n",
              "      <td>3.5</td>\n",
              "      <td>1074784724</td>\n",
              "      <td>2004-01-22 15:18:44</td>\n",
              "    </tr>\n",
              "  </tbody>\n",
              "</table>\n",
              "</div>"
            ],
            "text/plain": [
              "        userId  movieId  rating   timestamp                  dt\n",
              "100002     671     6385     2.5  1070979663 2003-12-09 14:21:03\n",
              "100003     671     6565     3.5  1074784724 2004-01-22 15:18:44"
            ]
          },
          "execution_count": 5,
          "metadata": {},
          "output_type": "execute_result"
        }
      ],
      "source": [
        "import pandas\n",
        "rate = data[\"ratings\"]\n",
        "rate[\"dt\"] = pandas.to_datetime(rate[\"timestamp\"], unit='s')\n",
        "rate.tail(n=2)"
      ]
    },
    {
      "cell_type": "code",
      "execution_count": 5,
      "metadata": {},
      "outputs": [
        {
          "data": {
            "text/plain": [
              "(671, 9066)"
            ]
          },
          "execution_count": 6,
          "metadata": {},
          "output_type": "execute_result"
        }
      ],
      "source": [
        "len(set(rate['userId'])), len(set(rate['movieId']))"
      ]
    },
    {
      "cell_type": "code",
      "execution_count": 6,
      "metadata": {},
      "outputs": [
        {
          "data": {
            "text/html": [
              "<div>\n",
              "<style scoped>\n",
              "    .dataframe tbody tr th:only-of-type {\n",
              "        vertical-align: middle;\n",
              "    }\n",
              "\n",
              "    .dataframe tbody tr th {\n",
              "        vertical-align: top;\n",
              "    }\n",
              "\n",
              "    .dataframe thead th {\n",
              "        text-align: right;\n",
              "    }\n",
              "</style>\n",
              "<table border=\"1\" class=\"dataframe\">\n",
              "  <thead>\n",
              "    <tr style=\"text-align: right;\">\n",
              "      <th></th>\n",
              "      <th>userId</th>\n",
              "      <th>movieId</th>\n",
              "      <th>rating</th>\n",
              "      <th>timestamp</th>\n",
              "    </tr>\n",
              "  </thead>\n",
              "  <tbody>\n",
              "    <tr>\n",
              "      <th>count</th>\n",
              "      <td>100004.000000</td>\n",
              "      <td>100004.000000</td>\n",
              "      <td>100004.000000</td>\n",
              "      <td>1.000040e+05</td>\n",
              "    </tr>\n",
              "    <tr>\n",
              "      <th>mean</th>\n",
              "      <td>347.011310</td>\n",
              "      <td>12548.664363</td>\n",
              "      <td>3.543608</td>\n",
              "      <td>1.129639e+09</td>\n",
              "    </tr>\n",
              "    <tr>\n",
              "      <th>std</th>\n",
              "      <td>195.163838</td>\n",
              "      <td>26369.198969</td>\n",
              "      <td>1.058064</td>\n",
              "      <td>1.916858e+08</td>\n",
              "    </tr>\n",
              "    <tr>\n",
              "      <th>min</th>\n",
              "      <td>1.000000</td>\n",
              "      <td>1.000000</td>\n",
              "      <td>0.500000</td>\n",
              "      <td>7.896520e+08</td>\n",
              "    </tr>\n",
              "    <tr>\n",
              "      <th>25%</th>\n",
              "      <td>182.000000</td>\n",
              "      <td>1028.000000</td>\n",
              "      <td>3.000000</td>\n",
              "      <td>9.658478e+08</td>\n",
              "    </tr>\n",
              "    <tr>\n",
              "      <th>50%</th>\n",
              "      <td>367.000000</td>\n",
              "      <td>2406.500000</td>\n",
              "      <td>4.000000</td>\n",
              "      <td>1.110422e+09</td>\n",
              "    </tr>\n",
              "    <tr>\n",
              "      <th>75%</th>\n",
              "      <td>520.000000</td>\n",
              "      <td>5418.000000</td>\n",
              "      <td>4.000000</td>\n",
              "      <td>1.296192e+09</td>\n",
              "    </tr>\n",
              "    <tr>\n",
              "      <th>max</th>\n",
              "      <td>671.000000</td>\n",
              "      <td>163949.000000</td>\n",
              "      <td>5.000000</td>\n",
              "      <td>1.476641e+09</td>\n",
              "    </tr>\n",
              "  </tbody>\n",
              "</table>\n",
              "</div>"
            ],
            "text/plain": [
              "              userId        movieId         rating     timestamp\n",
              "count  100004.000000  100004.000000  100004.000000  1.000040e+05\n",
              "mean      347.011310   12548.664363       3.543608  1.129639e+09\n",
              "std       195.163838   26369.198969       1.058064  1.916858e+08\n",
              "min         1.000000       1.000000       0.500000  7.896520e+08\n",
              "25%       182.000000    1028.000000       3.000000  9.658478e+08\n",
              "50%       367.000000    2406.500000       4.000000  1.110422e+09\n",
              "75%       520.000000    5418.000000       4.000000  1.296192e+09\n",
              "max       671.000000  163949.000000       5.000000  1.476641e+09"
            ]
          },
          "execution_count": 7,
          "metadata": {},
          "output_type": "execute_result"
        }
      ],
      "source": [
        "rate.describe()"
      ]
    },
    {
      "cell_type": "markdown",
      "metadata": {},
      "source": [
        "671 utilisateurs et 9066 films. C'est petit mais assez pour voir la factorisation et le temps que cela prend. Quelques id\u00e9es sur les donn\u00e9es."
      ]
    },
    {
      "cell_type": "code",
      "execution_count": 7,
      "metadata": {},
      "outputs": [
        {
          "data": {
            "image/png": "[encoded data removed]",
            "text/plain": [
              "<matplotlib.figure.Figure at 0x1c5bd2b9978>"
            ]
          },
          "metadata": {},
          "output_type": "display_data"
        }
      ],
      "source": [
        "ax = rate['rating'].hist(bins=10, figsize=(3,3))\n",
        "ax.set_title('Distribution des ratings');"
      ]
    },
    {
      "cell_type": "markdown",
      "metadata": {},
      "source": [
        "Les gens pr\u00e9f\u00e8rent les ratings arrondis."
      ]
    },
    {
      "cell_type": "code",
      "execution_count": 8,
      "metadata": {},
      "outputs": [
        {
          "data": {
            "image/png": "[encoded data removed]",
            "text/plain": [
              "<matplotlib.figure.Figure at 0x1c5bd3f0278>"
            ]
          },
          "metadata": {},
          "output_type": "display_data"
        }
      ],
      "source": [
        "ax = rate['dt'].hist(bins=50, figsize=(10,3))\n",
        "ax.set_title('Distribution des dates');"
      ]
    },
    {
      "cell_type": "code",
      "execution_count": 9,
      "metadata": {},
      "outputs": [
        {
          "data": {
            "image/png": "[encoded data removed]",
            "text/plain": [
              "<matplotlib.figure.Figure at 0x1c5be95f128>"
            ]
          },
          "metadata": {},
          "output_type": "display_data"
        }
      ],
      "source": [
        "import matplotlib.pyplot as plt\n",
        "fig, ax = plt.subplots(1,2, figsize=(6,3))\n",
        "gr = rate[[\"userId\", \"movieId\"]].groupby('userId').count()\n",
        "gr.hist('movieId', bins=50, figsize=(3,3), ax=ax[0])\n",
        "ax[0].set_yscale('log')\n",
        "ax[0].set_title('Distribution du nombre de\\nfilms not\u00e9s par utilisateur')\n",
        "gr = rate[[\"userId\", \"movieId\"]].groupby('movieId').count()\n",
        "gr.hist('userId', bins=50, figsize=(3,3), ax=ax[1])\n",
        "ax[1].set_yscale('log')\n",
        "ax[1].set_title('Distribution du nombre de\\nnotes par film');"
      ]
    },
    {
      "cell_type": "markdown",
      "metadata": {},
      "source": [
        "Il y a quelques utilisateurs z\u00e9l\u00e9s et quelques films suscitant beaucoup d'int\u00e9r\u00eat. Ce ne sont pas des valeurs aberrantes mais il faudra songer \u00e0 regarder \u00e7a de plus pr\u00e8s un jour. Noter plus de 2000 films para\u00eet suspect. M\u00eame si les votes s'\u00e9talent sur les 20 ans de collecte, cela fait un film tous les 3-4 jours. Il faut transformer les donn\u00e9es sous la forme d'une matrice [sparse](https://docs.scipy.org/doc/scipy/reference/sparse.html)."
      ]
    },
    {
      "cell_type": "code",
      "execution_count": 10,
      "metadata": {},
      "outputs": [
        {
          "data": {
            "text/plain": [
              "matrix([[1., 0., 0., 0., 0.],\n",
              "        [0., 2., 3., 0., 0.],\n",
              "        [0., 0., 0., 4., 5.]])"
            ]
          },
          "execution_count": 11,
          "metadata": {},
          "output_type": "execute_result"
        }
      ],
      "source": [
        "from scipy.sparse import csr_matrix\n",
        "import numpy\n",
        "\n",
        "\n",
        "def conversion(rating, shape=None, movieId_col=None, userId_row=None):\n",
        "    rating = rating[['userId', 'movieId', 'rating']].dropna()\n",
        "    coefs = {}\n",
        "    posix = {}\n",
        "    movieId_col = movieId_col.copy() if movieId_col is not None else {}\n",
        "    userId_row = userId_row.copy() if userId_row is not None else {}\n",
        "    for ind, uid, mid, note in rating.itertuples():\n",
        "        if uid not in userId_row:\n",
        "            userId_row[uid] = len(userId_row)\n",
        "        if mid not in movieId_col:\n",
        "            movieId_col[mid] = len(movieId_col)\n",
        "        row = userId_row[uid]\n",
        "        col = movieId_col[mid]\n",
        "        if row not in coefs:\n",
        "            coefs[row] = []\n",
        "            posix[row] = []\n",
        "        coefs[row].append(note)\n",
        "        posix[row].append(col)\n",
        "        \n",
        "    nbcoefs = sum(map(len, coefs.values()))\n",
        "    indptr = numpy.zeros(len(coefs)+1)\n",
        "    indices = numpy.zeros(nbcoefs)\n",
        "    data = numpy.zeros(nbcoefs)    \n",
        "    nb = 0\n",
        "    for row in range(len(userId_row)):\n",
        "        cs = coefs[row]\n",
        "        ps = posix[row]\n",
        "        indptr[row] = nb\n",
        "        for i, (p, c) in enumerate(sorted(zip(ps, cs))):\n",
        "            indices[nb] = p\n",
        "            data[nb] = c\n",
        "            nb += 1    \n",
        "    \n",
        "    indptr[-1] = nb\n",
        "    if shape is None:\n",
        "        shape = (len(userId_row), len(movieId_col))\n",
        "    mat = csr_matrix((data, indices, indptr), shape=shape)\n",
        "    if mat.max() != data.max():\n",
        "        end = min(10, len(indptr))\n",
        "        raise RuntimeError(\"La conversion s'est mal pass\u00e9e.\\ndata={0}\\nindices={1}\\nindptr={2}\".format(\n",
        "                        data[:end], indices[:end], indptr[:end]))\n",
        "    return mat, userId_row, movieId_col\n",
        "\n",
        "\n",
        "petit = pandas.DataFrame(dict(userId=[0, 1, 1, 5, 5], movieId=[0, 1, 2, 4, 10], \n",
        "                              rating=[1, 2, 3, 4, 5]))\n",
        "\n",
        "mat, userId_row, movieId_col = conversion(petit)\n",
        "numpy.nan_to_num(mat.todense())"
      ]
    },
    {
      "cell_type": "code",
      "execution_count": 11,
      "metadata": {},
      "outputs": [
        {
          "data": {
            "text/plain": [
              "({0: 0, 1: 1, 5: 2}, '*', {0: 0, 1: 1, 2: 2, 4: 3, 10: 4})"
            ]
          },
          "execution_count": 12,
          "metadata": {},
          "output_type": "execute_result"
        }
      ],
      "source": [
        "userId_row, '*', movieId_col"
      ]
    },
    {
      "cell_type": "code",
      "execution_count": 12,
      "metadata": {},
      "outputs": [
        {
          "data": {
            "text/plain": [
              "matrix([[2.5, 3. , 3. , 2. , 4. ],\n",
              "        [0. , 0. , 0. , 0. , 0. ],\n",
              "        [0. , 0. , 0. , 0. , 0. ],\n",
              "        [0. , 0. , 0. , 0. , 0. ],\n",
              "        [0. , 0. , 0. , 0. , 0. ]])"
            ]
          },
          "execution_count": 13,
          "metadata": {},
          "output_type": "execute_result"
        }
      ],
      "source": [
        "mat, userId_row, movieId_col = conversion(rate)\n",
        "numpy.nan_to_num(mat[:5,:5].todense())"
      ]
    },
    {
      "cell_type": "markdown",
      "metadata": {},
      "source": [
        "On cale une factorisation de matrice."
      ]
    },
    {
      "cell_type": "code",
      "execution_count": 13,
      "metadata": {
        "scrolled": false
      },
      "outputs": [
        {
          "data": {
            "text/plain": [
              "NMF(alpha=0.0, beta_loss='frobenius', init=None, l1_ratio=0.0, max_iter=400,\n",
              "  n_components=20, random_state=None, shuffle=True, solver='cd',\n",
              "  tol=0.0001, verbose=0)"
            ]
          },
          "execution_count": 14,
          "metadata": {},
          "output_type": "execute_result"
        }
      ],
      "source": [
        "from sklearn.decomposition import NMF\n",
        "mf = NMF(n_components=20, shuffle=True, max_iter=400)\n",
        "mf.fit(mat)"
      ]
    },
    {
      "cell_type": "code",
      "execution_count": 14,
      "metadata": {},
      "outputs": [
        {
          "data": {
            "text/plain": [
              "897.9791684368183"
            ]
          },
          "execution_count": 15,
          "metadata": {},
          "output_type": "execute_result"
        }
      ],
      "source": [
        "mf.reconstruction_err_ "
      ]
    },
    {
      "cell_type": "code",
      "execution_count": 15,
      "metadata": {},
      "outputs": [
        {
          "data": {
            "text/plain": [
              "array([[0.        , 0.05039834, 0.        , 0.00358679, 0.        ],\n",
              "       [0.        , 0.01736155, 1.91278876, 0.        , 0.        ],\n",
              "       [0.20592908, 0.        , 0.29535495, 0.        , 0.        ],\n",
              "       [0.        , 0.11052953, 0.        , 0.39806458, 0.        ],\n",
              "       [0.71489676, 0.        , 0.20115088, 0.02163221, 0.        ]])"
            ]
          },
          "execution_count": 16,
          "metadata": {},
          "output_type": "execute_result"
        }
      ],
      "source": [
        "wh = mf.transform(mat)\n",
        "wh[:5,:5]"
      ]
    },
    {
      "cell_type": "markdown",
      "metadata": {},
      "source": [
        "L'erreur ne dit pas grand chose sur la pertinence de la recommandation. Le plus simple est d'enlever des notes pour voir si on les retrouve."
      ]
    },
    {
      "cell_type": "code",
      "execution_count": 16,
      "metadata": {},
      "outputs": [],
      "source": [
        "from sklearn.model_selection import train_test_split\n",
        "rate_train, rate_test = train_test_split(rate)"
      ]
    },
    {
      "cell_type": "markdown",
      "metadata": {},
      "source": [
        "Il faut quand m\u00eame s'assurer que la matrice \u00e0 d\u00e9composer a les m\u00eames dimensions que la pr\u00e9c\u00e9dente avec toutes les donn\u00e9es."
      ]
    },
    {
      "cell_type": "code",
      "execution_count": 17,
      "metadata": {},
      "outputs": [],
      "source": [
        "shape0 = mat.shape\n",
        "mat_train, userId_row_train, movieId_col_train = conversion(rate, \n",
        "                    shape=shape0, userId_row=userId_row, movieId_col=movieId_col)"
      ]
    },
    {
      "cell_type": "code",
      "execution_count": 18,
      "metadata": {},
      "outputs": [
        {
          "data": {
            "text/plain": [
              "NMF(alpha=0.0, beta_loss='frobenius', init=None, l1_ratio=0.0, max_iter=400,\n",
              "  n_components=20, random_state=None, shuffle=True, solver='cd',\n",
              "  tol=0.0001, verbose=0)"
            ]
          },
          "execution_count": 19,
          "metadata": {},
          "output_type": "execute_result"
        }
      ],
      "source": [
        "mf.fit(mat_train)"
      ]
    },
    {
      "cell_type": "code",
      "execution_count": 19,
      "metadata": {},
      "outputs": [
        {
          "data": {
            "text/plain": [
              "898.1781492558509"
            ]
          },
          "execution_count": 20,
          "metadata": {},
          "output_type": "execute_result"
        }
      ],
      "source": [
        "mf.reconstruction_err_"
      ]
    },
    {
      "cell_type": "markdown",
      "metadata": {},
      "source": [
        "On calcule l'erreur sur les bases d'apprentissage et de test."
      ]
    },
    {
      "cell_type": "code",
      "execution_count": 20,
      "metadata": {},
      "outputs": [
        {
          "data": {
            "text/html": [
              "<div>\n",
              "<style scoped>\n",
              "    .dataframe tbody tr th:only-of-type {\n",
              "        vertical-align: middle;\n",
              "    }\n",
              "\n",
              "    .dataframe tbody tr th {\n",
              "        vertical-align: top;\n",
              "    }\n",
              "\n",
              "    .dataframe thead th {\n",
              "        text-align: right;\n",
              "    }\n",
              "</style>\n",
              "<table border=\"1\" class=\"dataframe\">\n",
              "  <thead>\n",
              "    <tr style=\"text-align: right;\">\n",
              "      <th></th>\n",
              "      <th>userId</th>\n",
              "      <th>movieId</th>\n",
              "      <th>rating</th>\n",
              "      <th>prediction</th>\n",
              "    </tr>\n",
              "    <tr>\n",
              "      <th>index</th>\n",
              "      <th></th>\n",
              "      <th></th>\n",
              "      <th></th>\n",
              "      <th></th>\n",
              "    </tr>\n",
              "  </thead>\n",
              "  <tbody>\n",
              "    <tr>\n",
              "      <th>13240</th>\n",
              "      <td>85</td>\n",
              "      <td>356</td>\n",
              "      <td>4.0</td>\n",
              "      <td>4.934174</td>\n",
              "    </tr>\n",
              "    <tr>\n",
              "      <th>75789</th>\n",
              "      <td>527</td>\n",
              "      <td>1276</td>\n",
              "      <td>4.5</td>\n",
              "      <td>0.345162</td>\n",
              "    </tr>\n",
              "    <tr>\n",
              "      <th>42713</th>\n",
              "      <td>306</td>\n",
              "      <td>1513</td>\n",
              "      <td>4.0</td>\n",
              "      <td>2.439180</td>\n",
              "    </tr>\n",
              "    <tr>\n",
              "      <th>56562</th>\n",
              "      <td>407</td>\n",
              "      <td>3635</td>\n",
              "      <td>3.0</td>\n",
              "      <td>0.406101</td>\n",
              "    </tr>\n",
              "    <tr>\n",
              "      <th>63681</th>\n",
              "      <td>457</td>\n",
              "      <td>122882</td>\n",
              "      <td>0.5</td>\n",
              "      <td>0.903360</td>\n",
              "    </tr>\n",
              "  </tbody>\n",
              "</table>\n",
              "</div>"
            ],
            "text/plain": [
              "       userId  movieId  rating  prediction\n",
              "index                                     \n",
              "13240      85      356     4.0    4.934174\n",
              "75789     527     1276     4.5    0.345162\n",
              "42713     306     1513     4.0    2.439180\n",
              "56562     407     3635     3.0    0.406101\n",
              "63681     457   122882     0.5    0.903360"
            ]
          },
          "execution_count": 21,
          "metadata": {},
          "output_type": "execute_result"
        }
      ],
      "source": [
        "def predict(mf, mat_train, test, userId_row, movieId_col):    \n",
        "    W = mf.transform(mat_train)\n",
        "    H = mf.components_\n",
        "    wh = W @ H\n",
        "    test = test[['userId', 'movieId', 'rating']]\n",
        "    predictions = []\n",
        "    for ind, uid, mid, note in test.itertuples(): \n",
        "        row = userId_row[uid]\n",
        "        col = movieId_col[mid]\n",
        "        try:\n",
        "            pred = wh[row, col]        \n",
        "        except Exception as e:\n",
        "            raise Exception(\"Issue with uid={} mid={} row={} col={} shape={}\".format(uid, mid, row, col, wh.shape))\n",
        "        predictions.append((ind, pred))\n",
        "    dfpred = pandas.DataFrame(data=predictions, columns=['index', 'prediction']).set_index('index')\n",
        "    dfall = pandas.concat([test, dfpred], axis=1)\n",
        "    return dfall\n",
        "\n",
        "pred = predict(mf, mat_train, rate_test, userId_row_train, movieId_col_train)\n",
        "pred.head()"
      ]
    },
    {
      "cell_type": "code",
      "execution_count": 21,
      "metadata": {},
      "outputs": [
        {
          "data": {
            "text/plain": [
              "-4.659895568960519"
            ]
          },
          "execution_count": 22,
          "metadata": {},
          "output_type": "execute_result"
        }
      ],
      "source": [
        "from sklearn.metrics import r2_score\n",
        "r2_score(pred['rating'], pred['prediction'])"
      ]
    },
    {
      "cell_type": "markdown",
      "metadata": {},
      "source": [
        "Pas extraordinaire. Faisons varier *k*."
      ]
    },
    {
      "cell_type": "code",
      "execution_count": 22,
      "metadata": {},
      "outputs": [
        {
          "name": "stdout",
          "output_type": "stream",
          "text": [
            "5 {'train_time': 0.7479112074008754, 'k': 5, 'r2': -6.014138361502092, 'err_test': 7.929004708705666, 'err_train': 981.0205349504541}\n",
            "10 {'train_time': 1.910340634477734, 'k': 10, 'r2': -5.388353487045178, 'err_test': 7.221597617417111, 'err_train': 943.8568240851894}\n",
            "15 {'train_time': 2.2207374467998306, 'k': 15, 'r2': -4.96900640010828, 'err_test': 6.747554355716667, 'err_train': 918.0198374341521}\n",
            "20 {'train_time': 5.637187125555101, 'k': 20, 'r2': -4.694288211755458, 'err_test': 6.437004193066304, 'err_train': 897.9357561628665}\n",
            "25 {'train_time': 7.713239363839193, 'k': 25, 'r2': -4.420273628728207, 'err_test': 6.127249408216037, 'err_train': 878.84542031377}\n",
            "30 {'train_time': 12.43995074364534, 'k': 30, 'r2': -4.195368644607753, 'err_test': 5.873009673241581, 'err_train': 862.2473126443812}\n",
            "35 {'train_time': 15.610665020047463, 'k': 35, 'r2': -3.9997376232229183, 'err_test': 5.6518621552167065, 'err_train': 846.2449517351943}\n"
          ]
        }
      ],
      "source": [
        "from time import perf_counter as clock\n",
        "from sklearn.metrics import mean_squared_error\n",
        "values = []\n",
        "\n",
        "for k in [5, 10, 15, 20, 25, 30, 35]:\n",
        "    mem = {}\n",
        "    mf = NMF(n_components=k, shuffle=True, max_iter=400)\n",
        "    cl = clock()\n",
        "    mf.fit(mat_train)\n",
        "    mem['train_time'] = clock() - cl\n",
        "    pred = predict(mf, mat_train, rate_test, userId_row_train, movieId_col_train)\n",
        "    mem['k'] = k\n",
        "    mem['r2'] = r2_score(pred['rating'], pred['prediction'])\n",
        "    mem['err_test'] = mean_squared_error(pred['rating'], pred['prediction'])\n",
        "    mem['err_train'] = mf.reconstruction_err_\n",
        "    values.append(mem)\n",
        "    print(k, mem)    "
      ]
    },
    {
      "cell_type": "code",
      "execution_count": 23,
      "metadata": {},
      "outputs": [
        {
          "data": {
            "text/html": [
              "<div>\n",
              "<style scoped>\n",
              "    .dataframe tbody tr th:only-of-type {\n",
              "        vertical-align: middle;\n",
              "    }\n",
              "\n",
              "    .dataframe tbody tr th {\n",
              "        vertical-align: top;\n",
              "    }\n",
              "\n",
              "    .dataframe thead th {\n",
              "        text-align: right;\n",
              "    }\n",
              "</style>\n",
              "<table border=\"1\" class=\"dataframe\">\n",
              "  <thead>\n",
              "    <tr style=\"text-align: right;\">\n",
              "      <th></th>\n",
              "      <th>err_test</th>\n",
              "      <th>err_train</th>\n",
              "      <th>k</th>\n",
              "      <th>r2</th>\n",
              "      <th>train_time</th>\n",
              "    </tr>\n",
              "  </thead>\n",
              "  <tbody>\n",
              "    <tr>\n",
              "      <th>0</th>\n",
              "      <td>7.929005</td>\n",
              "      <td>981.020535</td>\n",
              "      <td>5</td>\n",
              "      <td>-6.014138</td>\n",
              "      <td>0.747911</td>\n",
              "    </tr>\n",
              "    <tr>\n",
              "      <th>1</th>\n",
              "      <td>7.221598</td>\n",
              "      <td>943.856824</td>\n",
              "      <td>10</td>\n",
              "      <td>-5.388353</td>\n",
              "      <td>1.910341</td>\n",
              "    </tr>\n",
              "    <tr>\n",
              "      <th>2</th>\n",
              "      <td>6.747554</td>\n",
              "      <td>918.019837</td>\n",
              "      <td>15</td>\n",
              "      <td>-4.969006</td>\n",
              "      <td>2.220737</td>\n",
              "    </tr>\n",
              "    <tr>\n",
              "      <th>3</th>\n",
              "      <td>6.437004</td>\n",
              "      <td>897.935756</td>\n",
              "      <td>20</td>\n",
              "      <td>-4.694288</td>\n",
              "      <td>5.637187</td>\n",
              "    </tr>\n",
              "    <tr>\n",
              "      <th>4</th>\n",
              "      <td>6.127249</td>\n",
              "      <td>878.845420</td>\n",
              "      <td>25</td>\n",
              "      <td>-4.420274</td>\n",
              "      <td>7.713239</td>\n",
              "    </tr>\n",
              "    <tr>\n",
              "      <th>5</th>\n",
              "      <td>5.873010</td>\n",
              "      <td>862.247313</td>\n",
              "      <td>30</td>\n",
              "      <td>-4.195369</td>\n",
              "      <td>12.439951</td>\n",
              "    </tr>\n",
              "    <tr>\n",
              "      <th>6</th>\n",
              "      <td>5.651862</td>\n",
              "      <td>846.244952</td>\n",
              "      <td>35</td>\n",
              "      <td>-3.999738</td>\n",
              "      <td>15.610665</td>\n",
              "    </tr>\n",
              "  </tbody>\n",
              "</table>\n",
              "</div>"
            ],
            "text/plain": [
              "   err_test   err_train   k        r2  train_time\n",
              "0  7.929005  981.020535   5 -6.014138    0.747911\n",
              "1  7.221598  943.856824  10 -5.388353    1.910341\n",
              "2  6.747554  918.019837  15 -4.969006    2.220737\n",
              "3  6.437004  897.935756  20 -4.694288    5.637187\n",
              "4  6.127249  878.845420  25 -4.420274    7.713239\n",
              "5  5.873010  862.247313  30 -4.195369   12.439951\n",
              "6  5.651862  846.244952  35 -3.999738   15.610665"
            ]
          },
          "execution_count": 24,
          "metadata": {},
          "output_type": "execute_result"
        }
      ],
      "source": [
        "df = pandas.DataFrame(values)\n",
        "df"
      ]
    },
    {
      "cell_type": "code",
      "execution_count": 24,
      "metadata": {},
      "outputs": [
        {
          "data": {
            "image/png": "[encoded data removed]",
            "text/plain": [
              "<matplotlib.figure.Figure at 0x1c5bed42c50>"
            ]
          },
          "metadata": {},
          "output_type": "display_data"
        }
      ],
      "source": [
        "fig, ax = plt.subplots(1, 4, figsize=(12, 3))\n",
        "df.plot(x='k', y=\"r2\", style='o-', ax=ax[0])\n",
        "ax[0].set_title(\"NMF\\nr2 base de test\\net k\")\n",
        "df.plot(x='k', y=\"err_test\", style='o-', ax=ax[1])\n",
        "ax[1].set_title(\"NMF\\nerreur de test\\net k\");\n",
        "df.plot(x='k', y=\"err_train\", style='o-', ax=ax[2])\n",
        "ax[2].set_title(\"NMF\\nerreur d'apprentissage\\net k\")\n",
        "df.plot(y='train_time', x=\"k\", style='o-', ax=ax[3])\n",
        "ax[3].set_title(\"NMF\\nk\\net temps d'apprentissage\");"
      ]
    },
    {
      "cell_type": "markdown",
      "metadata": {},
      "source": [
        "Il faudrait explorer de plus grandes valeurs de *k*, il faudrait aussi faire de la cross-validation puis regarder si on peut corr\u00e9l\u00e9rer les plus autres erreurs \u00e0 certains type d'utilisateurs ou de films, si on arrive \u00e0 d\u00e9terminer s'ils se distingue des autres par un faible ou fort taux de *ratings*, moyenne, plus ou moins proches des utilisateurs typiques (~*H*) ou des films typiques (~*W*). Bref, ce n'est pas fini."
      ]
    },
    {
      "cell_type": "code",
      "execution_count": 25,
      "metadata": {},
      "outputs": [],
      "source": []
    }
  ],
  "metadata": {
    "kernelspec": {
      "display_name": "Python 3",
      "language": "python",
      "name": "python3"
    },
    "language_info": {
      "codemirror_mode": {
        "name": "ipython",
        "version": 3
      },
      "file_extension": ".py",
      "mimetype": "text/x-python",
      "name": "python",
      "nbconvert_exporter": "python",
      "pygments_lexer": "ipython3",
      "version": "3.6.4"
    }
  },
  "nbformat": 4,
  "nbformat_minor": 2
}