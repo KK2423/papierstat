{
  "cells": [
    {
      "cell_type": "markdown",
      "metadata": {},
      "source": [
        "# Classification multi-classe et stacking\n",
        "\n",
        "On cherche \u00e0 pr\u00e9dire la note d'un vin avec un classifieur multi-classe puis \u00e0 am\u00e9liorer le score obtenu avec une m\u00e9thode dite de [stacking](https://www.quora.com/What-is-stacking-in-machine-learning)."
      ]
    },
    {
      "cell_type": "code",
      "execution_count": 1,
      "metadata": {},
      "outputs": [
        {
          "data": {
            "text/html": [
              "<div id=\"my_id_menu_nb\">run previous cell, wait for 2 seconds</div>\n",
              "<script>\n",
              "function repeat_indent_string(n){\n",
              "    var a = \"\" ;\n",
              "    for ( ; n > 0 ; --n)\n",
              "        a += \"    \";\n",
              "    return a;\n",
              "}\n",
              "// look up into all sections and builds an automated menu //\n",
              "var update_menu_string = function(begin, lfirst, llast, sformat, send, keep_item, begin_format, end_format) {\n",
              "    var anchors = document.getElementsByClassName(\"section\");\n",
              "    if (anchors.length == 0) {\n",
              "        anchors = document.getElementsByClassName(\"text_cell_render rendered_html\");\n",
              "    }\n",
              "    var i,t;\n",
              "    var text_menu = begin;\n",
              "    var text_memo = \"<pre>\\nlength:\" + anchors.length + \"\\n\";\n",
              "    var ind = \"\";\n",
              "    var memo_level = 1;\n",
              "    var href;\n",
              "    var tags = [];\n",
              "    var main_item = 0;\n",
              "    var format_open = 0;\n",
              "    for (i = 0; i <= llast; i++)\n",
              "        tags.push(\"h\" + i);\n",
              "\n",
              "    for (i = 0; i < anchors.length; i++) {\n",
              "        text_memo += \"**\" + anchors[i].id + \"--\\n\";\n",
              "\n",
              "        var child = null;\n",
              "        for(t = 0; t < tags.length; t++) {\n",
              "            var r = anchors[i].getElementsByTagName(tags[t]);\n",
              "            if (r.length > 0) {\n",
              "child = r[0];\n",
              "break;\n",
              "            }\n",
              "        }\n",
              "        if (child == null) {\n",
              "            text_memo += \"null\\n\";\n",
              "            continue;\n",
              "        }\n",
              "        if (anchors[i].hasAttribute(\"id\")) {\n",
              "            // when converted in RST\n",
              "            href = anchors[i].id;\n",
              "            text_memo += \"#1-\" + href;\n",
              "            // passer \u00e0 child suivant (le chercher)\n",
              "        }\n",
              "        else if (child.hasAttribute(\"id\")) {\n",
              "            // in a notebook\n",
              "            href = child.id;\n",
              "            text_memo += \"#2-\" + href;\n",
              "        }\n",
              "        else {\n",
              "            text_memo += \"#3-\" + \"*\" + \"\\n\";\n",
              "            continue;\n",
              "        }\n",
              "        var title = child.textContent;\n",
              "        var level = parseInt(child.tagName.substring(1,2));\n",
              "\n",
              "        text_memo += \"--\" + level + \"?\" + lfirst + \"--\" + title + \"\\n\";\n",
              "\n",
              "        if ((level < lfirst) || (level > llast)) {\n",
              "            continue ;\n",
              "        }\n",
              "        if (title.endsWith('\u00b6')) {\n",
              "            title = title.substring(0,title.length-1).replace(\"<\", \"&lt;\")\n",
              "         .replace(\">\", \"&gt;\").replace(\"&\", \"&amp;\");\n",
              "        }\n",
              "        if (title.length == 0) {\n",
              "            continue;\n",
              "        }\n",
              "\n",
              "        while (level < memo_level) {\n",
              "            text_menu += end_format + \"</ul>\\n\";\n",
              "            format_open -= 1;\n",
              "            memo_level -= 1;\n",
              "        }\n",
              "        if (level == lfirst) {\n",
              "            main_item += 1;\n",
              "        }\n",
              "        if (keep_item != -1 && main_item != keep_item + 1) {\n",
              "            // alert(main_item + \" - \" + level + \" - \" + keep_item);\n",
              "            continue;\n",
              "        }\n",
              "        while (level > memo_level) {\n",
              "            text_menu += \"<ul>\\n\";\n",
              "            memo_level += 1;\n",
              "        }\n",
              "        text_menu += repeat_indent_string(level-2);\n",
              "        text_menu += begin_format + sformat.replace(\"__HREF__\", href).replace(\"__TITLE__\", title);\n",
              "        format_open += 1;\n",
              "    }\n",
              "    while (1 < memo_level) {\n",
              "        text_menu += end_format + \"</ul>\\n\";\n",
              "        memo_level -= 1;\n",
              "        format_open -= 1;\n",
              "    }\n",
              "    text_menu += send;\n",
              "    //text_menu += \"\\n\" + text_memo;\n",
              "\n",
              "    while (format_open > 0) {\n",
              "        text_menu += end_format;\n",
              "        format_open -= 1;\n",
              "    }\n",
              "    return text_menu;\n",
              "};\n",
              "var update_menu = function() {\n",
              "    var sbegin = \"\";\n",
              "    var sformat = '<a href=\"#__HREF__\">__TITLE__</a>';\n",
              "    var send = \"\";\n",
              "    var begin_format = '<li>';\n",
              "    var end_format = '</li>';\n",
              "    var keep_item = -1;\n",
              "    var text_menu = update_menu_string(sbegin, 2, 4, sformat, send, keep_item,\n",
              "       begin_format, end_format);\n",
              "    var menu = document.getElementById(\"my_id_menu_nb\");\n",
              "    menu.innerHTML=text_menu;\n",
              "};\n",
              "window.setTimeout(update_menu,2000);\n",
              "            </script>"
            ],
            "text/plain": [
              "<IPython.core.display.HTML object>"
            ]
          },
          "execution_count": 2,
          "metadata": {},
          "output_type": "execute_result"
        }
      ],
      "source": [
        "from jyquickhelper import add_notebook_menu\n",
        "add_notebook_menu()"
      ]
    },
    {
      "cell_type": "markdown",
      "metadata": {},
      "source": [
        "## Le probl\u00e8me\n",
        "\n",
        "Il n'est pas \u00e9vident que les scores des diff\u00e9rents mod\u00e8les qu'on apprend sur chacun des classes soient comparables. Si le mod\u00e8le n'est pas assez performant, on peut songer \u00e0 ajouter un dernier mod\u00e8le qui prend la d\u00e9cision finale en fonction du r\u00e9sultat de chaque mod\u00e8le."
      ]
    },
    {
      "cell_type": "code",
      "execution_count": 2,
      "metadata": {},
      "outputs": [
        {
          "data": {
            "image/png": "[encoded data removed]",
            "text/plain": [
              "<IPython.core.display.Image object>"
            ]
          },
          "execution_count": 3,
          "metadata": {
            "image/png": {
              "width": 400
            }
          },
          "output_type": "execute_result"
        }
      ],
      "source": [
        "from pyquickhelper.helpgen import NbImage\n",
        "NbImage('images/stackmulti.png', width=400)"
      ]
    },
    {
      "cell_type": "code",
      "execution_count": 3,
      "metadata": {},
      "outputs": [],
      "source": [
        "%matplotlib inline"
      ]
    },
    {
      "cell_type": "code",
      "execution_count": 4,
      "metadata": {
        "scrolled": true
      },
      "outputs": [],
      "source": [
        "from papierstat.datasets import load_wines_dataset\n",
        "df = load_wines_dataset()\n",
        "X = df.drop(['quality', 'color'], axis=1)\n",
        "y = df['quality']"
      ]
    },
    {
      "cell_type": "code",
      "execution_count": 5,
      "metadata": {},
      "outputs": [],
      "source": [
        "from sklearn.model_selection import train_test_split\n",
        "X_train, X_test, y_train, y_test = train_test_split(X, y)"
      ]
    },
    {
      "cell_type": "code",
      "execution_count": 6,
      "metadata": {},
      "outputs": [
        {
          "data": {
            "text/plain": [
              "OneVsRestClassifier(estimator=LogisticRegression(C=1.0, class_weight=None, dual=False, fit_intercept=True,\n",
              "          intercept_scaling=1, max_iter=100, multi_class='ovr', n_jobs=1,\n",
              "          penalty='l2', random_state=None, solver='liblinear', tol=0.0001,\n",
              "          verbose=0, warm_start=False),\n",
              "          n_jobs=1)"
            ]
          },
          "execution_count": 7,
          "metadata": {},
          "output_type": "execute_result"
        }
      ],
      "source": [
        "from sklearn.linear_model import LogisticRegression\n",
        "from sklearn.multiclass import OneVsRestClassifier\n",
        "clr = OneVsRestClassifier(LogisticRegression())\n",
        "clr.fit(X_train, y_train)"
      ]
    },
    {
      "cell_type": "code",
      "execution_count": 7,
      "metadata": {},
      "outputs": [
        {
          "data": {
            "text/plain": [
              "52.246153846153845"
            ]
          },
          "execution_count": 8,
          "metadata": {},
          "output_type": "execute_result"
        }
      ],
      "source": [
        "import numpy\n",
        "numpy.mean(clr.predict(X_test).ravel() == y_test.ravel()) * 100"
      ]
    },
    {
      "cell_type": "markdown",
      "metadata": {},
      "source": [
        "On regarde la matrice de confusion."
      ]
    },
    {
      "cell_type": "code",
      "execution_count": 8,
      "metadata": {},
      "outputs": [
        {
          "data": {
            "text/html": [
              "<div>\n",
              "<style scoped>\n",
              "    .dataframe tbody tr th:only-of-type {\n",
              "        vertical-align: middle;\n",
              "    }\n",
              "\n",
              "    .dataframe tbody tr th {\n",
              "        vertical-align: top;\n",
              "    }\n",
              "\n",
              "    .dataframe thead th {\n",
              "        text-align: right;\n",
              "    }\n",
              "</style>\n",
              "<table border=\"1\" class=\"dataframe\">\n",
              "  <thead>\n",
              "    <tr style=\"text-align: right;\">\n",
              "      <th></th>\n",
              "      <th>3</th>\n",
              "      <th>4</th>\n",
              "      <th>5</th>\n",
              "      <th>6</th>\n",
              "      <th>7</th>\n",
              "      <th>8</th>\n",
              "    </tr>\n",
              "  </thead>\n",
              "  <tbody>\n",
              "    <tr>\n",
              "      <th>3</th>\n",
              "      <td>0</td>\n",
              "      <td>0</td>\n",
              "      <td>8</td>\n",
              "      <td>4</td>\n",
              "      <td>0</td>\n",
              "      <td>0</td>\n",
              "    </tr>\n",
              "    <tr>\n",
              "      <th>4</th>\n",
              "      <td>0</td>\n",
              "      <td>0</td>\n",
              "      <td>32</td>\n",
              "      <td>16</td>\n",
              "      <td>0</td>\n",
              "      <td>0</td>\n",
              "    </tr>\n",
              "    <tr>\n",
              "      <th>5</th>\n",
              "      <td>0</td>\n",
              "      <td>0</td>\n",
              "      <td>314</td>\n",
              "      <td>215</td>\n",
              "      <td>3</td>\n",
              "      <td>0</td>\n",
              "    </tr>\n",
              "    <tr>\n",
              "      <th>6</th>\n",
              "      <td>0</td>\n",
              "      <td>0</td>\n",
              "      <td>178</td>\n",
              "      <td>521</td>\n",
              "      <td>6</td>\n",
              "      <td>0</td>\n",
              "    </tr>\n",
              "    <tr>\n",
              "      <th>7</th>\n",
              "      <td>0</td>\n",
              "      <td>0</td>\n",
              "      <td>21</td>\n",
              "      <td>250</td>\n",
              "      <td>14</td>\n",
              "      <td>0</td>\n",
              "    </tr>\n",
              "    <tr>\n",
              "      <th>8</th>\n",
              "      <td>0</td>\n",
              "      <td>0</td>\n",
              "      <td>1</td>\n",
              "      <td>37</td>\n",
              "      <td>5</td>\n",
              "      <td>0</td>\n",
              "    </tr>\n",
              "  </tbody>\n",
              "</table>\n",
              "</div>"
            ],
            "text/plain": [
              "   3  4    5    6   7  8\n",
              "3  0  0    8    4   0  0\n",
              "4  0  0   32   16   0  0\n",
              "5  0  0  314  215   3  0\n",
              "6  0  0  178  521   6  0\n",
              "7  0  0   21  250  14  0\n",
              "8  0  0    1   37   5  0"
            ]
          },
          "execution_count": 9,
          "metadata": {},
          "output_type": "execute_result"
        }
      ],
      "source": [
        "from sklearn.metrics import confusion_matrix\n",
        "import pandas\n",
        "df = pandas.DataFrame(confusion_matrix(y_test, clr.predict(X_test)))\n",
        "df.columns = [str(_) for _ in clr.classes_][:df.shape[1]]\n",
        "df.index = [str(_) for _ in clr.classes_][:df.shape[0]]\n",
        "df"
      ]
    },
    {
      "cell_type": "markdown",
      "metadata": {},
      "source": [
        "On cale d'abord une random forest sur les donn\u00e9es brutes."
      ]
    },
    {
      "cell_type": "code",
      "execution_count": 9,
      "metadata": {},
      "outputs": [
        {
          "name": "stderr",
          "output_type": "stream",
          "text": [
            "c:\\python370_x64\\lib\\site-packages\\sklearn\\ensemble\\weight_boosting.py:29: DeprecationWarning: numpy.core.umath_tests is an internal NumPy module and should not be imported. It will be removed in a future NumPy release.\n",
            "  from numpy.core.umath_tests import inner1d\n"
          ]
        },
        {
          "data": {
            "text/plain": [
              "64.98461538461538"
            ]
          },
          "execution_count": 10,
          "metadata": {},
          "output_type": "execute_result"
        }
      ],
      "source": [
        "from sklearn.ensemble import RandomForestClassifier\n",
        "rfc = RandomForestClassifier()\n",
        "rfc.fit(X_train, y_train)\n",
        "numpy.mean(rfc.predict(X_test).ravel() == y_test.ravel()) * 100"
      ]
    },
    {
      "cell_type": "markdown",
      "metadata": {},
      "source": [
        "On cale une random forest avec les sorties de la r\u00e9gression logistique."
      ]
    },
    {
      "cell_type": "code",
      "execution_count": 10,
      "metadata": {
        "scrolled": false
      },
      "outputs": [
        {
          "data": {
            "text/plain": [
              "RandomForestClassifier(bootstrap=True, class_weight=None, criterion='gini',\n",
              "            max_depth=None, max_features='auto', max_leaf_nodes=None,\n",
              "            min_impurity_decrease=0.0, min_impurity_split=None,\n",
              "            min_samples_leaf=1, min_samples_split=2,\n",
              "            min_weight_fraction_leaf=0.0, n_estimators=10, n_jobs=1,\n",
              "            oob_score=False, random_state=None, verbose=0,\n",
              "            warm_start=False)"
            ]
          },
          "execution_count": 11,
          "metadata": {},
          "output_type": "execute_result"
        }
      ],
      "source": [
        "rf_train = clr.decision_function(X_train)\n",
        "\n",
        "rfc_y = RandomForestClassifier()\n",
        "rfc_y.fit(rf_train, y_train)"
      ]
    },
    {
      "cell_type": "markdown",
      "metadata": {},
      "source": [
        "On calcule le taux d'erreur."
      ]
    },
    {
      "cell_type": "code",
      "execution_count": 11,
      "metadata": {},
      "outputs": [
        {
          "data": {
            "text/plain": [
              "64.12307692307692"
            ]
          },
          "execution_count": 12,
          "metadata": {},
          "output_type": "execute_result"
        }
      ],
      "source": [
        "rf_test = clr.decision_function(X_test)\n",
        "numpy.mean(rfc_y.predict(rf_test).ravel() == y_test.ravel()) * 100"
      ]
    },
    {
      "cell_type": "markdown",
      "metadata": {},
      "source": [
        "C'est presque \u00e9quivalent \u00e0 une random forest cal\u00e9e sur les donn\u00e9es brutes. On trace les courbes ROC pour la classe 4."
      ]
    },
    {
      "cell_type": "code",
      "execution_count": 12,
      "metadata": {},
      "outputs": [
        {
          "data": {
            "text/plain": [
              "(0.7012259564574086, 0.6295775206087508, 0.6297492601986895)"
            ]
          },
          "execution_count": 13,
          "metadata": {},
          "output_type": "execute_result"
        }
      ],
      "source": [
        "from sklearn.metrics import roc_curve, roc_auc_score\n",
        "fpr_lr, tpr_lr, th_lr = roc_curve(y_test == 4, clr.decision_function(X_test)[:, 2])\n",
        "fpr_rfc, tpr_rfc, th_rfc = roc_curve(y_test == 4, rfc.predict_proba(X_test)[:, 2])\n",
        "fpr_rfc_y, tpr_rfc_y, th_rfc_y = roc_curve(y_test == 4, rfc_y.predict_proba(rf_test)[:, 2])\n",
        "auc_lr = roc_auc_score(y_test == 4, clr.decision_function(X_test)[:, 2])\n",
        "auc_rfc = roc_auc_score(y_test == 4, rfc.predict_proba(X_test)[:, 2])\n",
        "auc_rfc_y = roc_auc_score(y_test == 4, rfc_y.predict_proba(rf_test)[:, 2])\n",
        "auc_lr, auc_rfc, auc_rfc_y"
      ]
    },
    {
      "cell_type": "code",
      "execution_count": 13,
      "metadata": {},
      "outputs": [
        {
          "data": {
            "image/png": "[encoded data removed]",
            "text/plain": [
              "<Figure size 288x288 with 1 Axes>"
            ]
          },
          "metadata": {},
          "output_type": "display_data"
        }
      ],
      "source": [
        "import matplotlib.pyplot as plt\n",
        "fig, ax = plt.subplots(1, 1, figsize=(4,4))\n",
        "ax.plot([0, 1], [0, 1], 'k--')\n",
        "ax.plot(fpr_lr, tpr_lr, label=\"OneVsRest + LR\")\n",
        "ax.plot(fpr_rfc, tpr_rfc, label=\"RF\")\n",
        "ax.plot(fpr_rfc_y, tpr_rfc_y, label=\"OneVsRest + LR + RF\")\n",
        "ax.set_title('Courbe ROC - comparaison de deux\\nmod\u00e8les pour la classe 4')\n",
        "ax.legend();"
      ]
    },
    {
      "cell_type": "markdown",
      "metadata": {},
      "source": [
        "La courbe ROC ne montre rien de probant. Il faudrait v\u00e9rifier avec une cross-validation qu'il serait pratique de faire avec un [pipeline](http://scikit-learn.org/stable/modules/pipeline.html) mais ceux-ci n'acceptent qu'un seul pr\u00e9dicteur final."
      ]
    },
    {
      "cell_type": "code",
      "execution_count": 14,
      "metadata": {},
      "outputs": [
        {
          "name": "stdout",
          "output_type": "stream",
          "text": [
            "ERREUR :\n",
            "All intermediate steps should be transformers and implement fit and transform. 'OneVsRestClassifier(estimator=LogisticRegression(C=1.0, class_weight=None, dual=False, fit_intercept=True,\n",
            "          intercept_scaling=1, max_iter=100, multi_class='ovr', n_jobs=1,\n",
            "          penalty='l2', random_state=None, solver='liblinear', tol=0.0001,\n",
            "          verbose=0, warm_start=False),\n",
            "          n_jobs=1)' (type <class 'sklearn.multiclass.OneVsRestClassifier'>) doesn't\n"
          ]
        }
      ],
      "source": [
        "from sklearn.pipeline import make_pipeline\n",
        "try:\n",
        "    pipe = make_pipeline(OneVsRestClassifier(LogisticRegression()), RandomForestClassifier())\n",
        "except Exception as e:\n",
        "    print('ERREUR :')\n",
        "    print(e)"
      ]
    },
    {
      "cell_type": "markdown",
      "metadata": {},
      "source": [
        "On construit une ROC sur toutes les classes."
      ]
    },
    {
      "cell_type": "code",
      "execution_count": 15,
      "metadata": {},
      "outputs": [
        {
          "data": {
            "text/plain": [
              "(0.5549129964907168, 0.7394468631836821, 0.6850388321706178)"
            ]
          },
          "execution_count": 16,
          "metadata": {},
          "output_type": "execute_result"
        }
      ],
      "source": [
        "fpr_lr, tpr_lr, th_lr = roc_curve(y_test == clr.predict(X_test), \n",
        "                                  clr.predict_proba(X_test).max(axis=1), drop_intermediate=False)\n",
        "fpr_rfc, tpr_rfc, th_rfc = roc_curve(y_test == rfc.predict(X_test), \n",
        "                                  rfc.predict_proba(X_test).max(axis=1), drop_intermediate=False)\n",
        "fpr_rfc_y, tpr_rfc_y, th_rfc_y = roc_curve(y_test == rfc_y.predict(rf_test), \n",
        "                                     rfc_y.predict_proba(rf_test).max(axis=1), drop_intermediate=False)\n",
        "auc_lr = roc_auc_score(y_test == clr.predict(X_test), \n",
        "                       clr.decision_function(X_test).max(axis=1))\n",
        "auc_rfc = roc_auc_score(y_test == rfc.predict(X_test), \n",
        "                        rfc.predict_proba(X_test).max(axis=1))\n",
        "auc_rfc_y = roc_auc_score(y_test == rfc_y.predict(rf_test), \n",
        "                          rfc_y.predict_proba(rf_test).max(axis=1))\n",
        "auc_lr, auc_rfc, auc_rfc_y"
      ]
    },
    {
      "cell_type": "code",
      "execution_count": 16,
      "metadata": {},
      "outputs": [
        {
          "data": {
            "image/png": "[encoded data removed]",
            "text/plain": [
              "<Figure size 288x288 with 1 Axes>"
            ]
          },
          "metadata": {},
          "output_type": "display_data"
        }
      ],
      "source": [
        "import matplotlib.pyplot as plt\n",
        "fig, ax = plt.subplots(1, 1, figsize=(4,4))\n",
        "ax.plot([0, 1], [0, 1], 'k--')\n",
        "ax.plot(fpr_lr, tpr_lr, label=\"OneVsRest + LR\")\n",
        "ax.plot(fpr_rfc, tpr_rfc, label=\"RF\")\n",
        "ax.plot(fpr_rfc_y, tpr_rfc_y, label=\"OneVsRest + LR + RF\")\n",
        "ax.set_title('Courbe ROC - comparaison de deux\\nmod\u00e8les pour toutes les classes')\n",
        "ax.legend();"
      ]
    },
    {
      "cell_type": "markdown",
      "metadata": {},
      "source": [
        "Sur ce mod\u00e8le, le score produit par le classifieur final para\u00eet plus partinent que le score obtenu en prenant le score maximum sur toutes les classes. On tente une derni\u00e8re approche o\u00f9 le mod\u00e8le final doit valider ou non la r\u00e9ponse : c'est un classifieur binaire. Avec celui-ci, tous les classifieurs estim\u00e9s sont binaires."
      ]
    },
    {
      "cell_type": "code",
      "execution_count": 17,
      "metadata": {},
      "outputs": [
        {
          "data": {
            "text/plain": [
              "RandomForestClassifier(bootstrap=True, class_weight=None, criterion='gini',\n",
              "            max_depth=None, max_features='auto', max_leaf_nodes=None,\n",
              "            min_impurity_decrease=0.0, min_impurity_split=None,\n",
              "            min_samples_leaf=1, min_samples_split=2,\n",
              "            min_weight_fraction_leaf=0.0, n_estimators=10, n_jobs=1,\n",
              "            oob_score=False, random_state=None, verbose=0,\n",
              "            warm_start=False)"
            ]
          },
          "execution_count": 18,
          "metadata": {},
          "output_type": "execute_result"
        }
      ],
      "source": [
        "rf_train_bin = clr.decision_function(X_train)\n",
        "y_train_bin = clr.predict(X_train) == y_train\n",
        "rfc = RandomForestClassifier()\n",
        "rfc.fit(rf_train_bin, y_train_bin)"
      ]
    },
    {
      "cell_type": "markdown",
      "metadata": {},
      "source": [
        "On regarde les premi\u00e8res r\u00e9ponses."
      ]
    },
    {
      "cell_type": "code",
      "execution_count": 18,
      "metadata": {},
      "outputs": [
        {
          "data": {
            "text/plain": [
              "array([[0.1, 0.9],\n",
              "       [0.4, 0.6],\n",
              "       [0.3, 0.7]])"
            ]
          },
          "execution_count": 19,
          "metadata": {},
          "output_type": "execute_result"
        }
      ],
      "source": [
        "rf_test_bin = clr.decision_function(X_test)\n",
        "rfc.predict_proba(rf_test_bin)[:3]"
      ]
    },
    {
      "cell_type": "code",
      "execution_count": 19,
      "metadata": {},
      "outputs": [],
      "source": [
        "y_test_bin = clr.predict(X_test) == y_test"
      ]
    },
    {
      "cell_type": "code",
      "execution_count": 20,
      "metadata": {},
      "outputs": [
        {
          "data": {
            "text/plain": [
              "(0.5549129964907168, 0.7351022427841123)"
            ]
          },
          "execution_count": 21,
          "metadata": {},
          "output_type": "execute_result"
        }
      ],
      "source": [
        "fpr_rfc_bin, tpr_rfc_bin, th_rfc_bin = roc_curve(y_test_bin, rfc.predict_proba(rf_test_bin)[:, 1])\n",
        "auc_rfc_bin = roc_auc_score(y_test_bin, rfc.predict_proba(rf_test_bin)[:, 1])\n",
        "auc_lr, auc_rfc_bin"
      ]
    },
    {
      "cell_type": "code",
      "execution_count": 21,
      "metadata": {},
      "outputs": [
        {
          "data": {
            "image/png": "[encoded data removed]",
            "text/plain": [
              "<Figure size 288x288 with 1 Axes>"
            ]
          },
          "metadata": {},
          "output_type": "display_data"
        }
      ],
      "source": [
        "import matplotlib.pyplot as plt\n",
        "fig, ax = plt.subplots(1, 1, figsize=(4,4))\n",
        "ax.plot([0, 1], [0, 1], 'k--')\n",
        "ax.plot(fpr_lr, tpr_lr, label=\"OneVsRest + LR\")\n",
        "ax.plot(fpr_rfc, tpr_rfc, label=\"OneVsRest + LR + RF\")\n",
        "ax.plot(fpr_rfc_bin, tpr_rfc_bin, label=\"OneVsRest + LR + RF binaire\")\n",
        "ax.set_title('Courbe ROC - comparaison de deux\\nmod\u00e8les pour toutes les classes')\n",
        "ax.legend();"
      ]
    },
    {
      "cell_type": "markdown",
      "metadata": {},
      "source": [
        "Un peu mieux mais il faudrait encore valider avec une validation crois\u00e9e et plusieurs jeux de donn\u00e9es, y compris artificiels. Il reste n\u00e9anmoins l'id\u00e9e."
      ]
    },
    {
      "cell_type": "markdown",
      "metadata": {},
      "source": [
        "## Automatisation avec une impl\u00e9mentation\n",
        "\n",
        "Comme c'est fastidieux de faire tout cela, on impl\u00e9mente une classe qui convertit un mod\u00e8le de machine learning en un *transform* qu'on peut ins\u00e9rer dans un pipeline."
      ]
    },
    {
      "cell_type": "code",
      "execution_count": 22,
      "metadata": {},
      "outputs": [
        {
          "data": {
            "text/plain": [
              "Pipeline(memory=None,\n",
              "     steps=[('skbasetransformstacking', SkBaseTransformStacking([OneVsRestClassifier(estimator=LogisticRegress\n",
              "    ion(C=1.0, class_weight=None, dual=False, fit_intercept=True,\n",
              "    intercept_scaling=1, max_iter=100, multi_class='ovr', n_jobs=1,\n",
              "    penalty='l2', random_state=None, solver='liblinear', tol...n_jobs=1,\n",
              "            oob_score=False, random_state=None, verbose=0,\n",
              "            warm_start=False))])"
            ]
          },
          "execution_count": 23,
          "metadata": {},
          "output_type": "execute_result"
        }
      ],
      "source": [
        "from mlinsights.sklapi import SkBaseTransformStacking\n",
        "model = make_pipeline(\n",
        "                SkBaseTransformStacking([OneVsRestClassifier(LogisticRegression())], 'decision_function'), \n",
        "                RandomForestClassifier())\n",
        "model.fit(X_train, y_train)"
      ]
    },
    {
      "cell_type": "code",
      "execution_count": 23,
      "metadata": {},
      "outputs": [
        {
          "data": {
            "text/plain": [
              "0.7098552099016484"
            ]
          },
          "execution_count": 24,
          "metadata": {},
          "output_type": "execute_result"
        }
      ],
      "source": [
        "fpr_pipe, tpr_pipe, th_pipe = roc_curve(y_test == model.predict(X_test), \n",
        "                                  model.predict_proba(X_test).max(axis=1), drop_intermediate=False)\n",
        "auc_pipe = roc_auc_score(y_test == model.predict(X_test), \n",
        "                       model.predict_proba(X_test).max(axis=1))\n",
        "auc_pipe"
      ]
    },
    {
      "cell_type": "markdown",
      "metadata": {},
      "source": [
        "On n'oublie pas de m\u00e9langer les donn\u00e9es avant de faire tourner la validation crois\u00e9e."
      ]
    },
    {
      "cell_type": "code",
      "execution_count": 24,
      "metadata": {},
      "outputs": [],
      "source": [
        "df = load_wines_dataset(shuffle=True)\n",
        "X = df.drop(['quality', 'color'], axis=1)\n",
        "y = df['quality']"
      ]
    },
    {
      "cell_type": "markdown",
      "metadata": {},
      "source": [
        "On retrouve les m\u00eames r\u00e9sultats mais on peut maintenant faire une validation crois\u00e9e."
      ]
    },
    {
      "cell_type": "code",
      "execution_count": 25,
      "metadata": {},
      "outputs": [
        {
          "data": {
            "text/plain": [
              "array([0.64285714, 0.63461538, 0.63461538, 0.63405239, 0.62528913])"
            ]
          },
          "execution_count": 26,
          "metadata": {},
          "output_type": "execute_result"
        }
      ],
      "source": [
        "from sklearn.model_selection import cross_val_score\n",
        "from sklearn.model_selection import cross_validate\n",
        "cross_val_score(model, X, y, cv=5)"
      ]
    },
    {
      "cell_type": "code",
      "execution_count": 26,
      "metadata": {},
      "outputs": [],
      "source": []
    }
  ],
  "metadata": {
    "kernelspec": {
      "display_name": "Python 3",
      "language": "python",
      "name": "python3"
    },
    "language_info": {
      "codemirror_mode": {
        "name": "ipython",
        "version": 3
      },
      "file_extension": ".py",
      "mimetype": "text/x-python",
      "name": "python",
      "nbconvert_exporter": "python",
      "pygments_lexer": "ipython3",
      "version": "3.7.0"
    }
  },
  "nbformat": 4,
  "nbformat_minor": 2
}