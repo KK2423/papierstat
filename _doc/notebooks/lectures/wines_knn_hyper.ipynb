{
  "cells": [
    {
      "cell_type": "markdown",
      "metadata": {},
      "source": [
        "# S\u00e9lection des hyper-param\u00e8tres\n",
        "\n",
        "Le mod\u00e8le des plus proches voisins [KNeighborsRegressor](http://scikit-learn.org/stable/modules/generated/sklearn.neighbors.KNeighborsRegressor.html) est param\u00e9trable. Le nombre de voisons est variables, la pr\u00e9diction peut d\u00e9pendre du plus proche voisins ou des $k$ plus proches proches. Comment choisir $k$ ? "
      ]
    },
    {
      "cell_type": "code",
      "execution_count": 1,
      "metadata": {},
      "outputs": [],
      "source": [
        "%matplotlib inline"
      ]
    },
    {
      "cell_type": "code",
      "execution_count": 2,
      "metadata": {},
      "outputs": [],
      "source": [
        "from papierstat.datasets import load_wines_dataset\n",
        "df = load_wines_dataset()"
      ]
    },
    {
      "cell_type": "code",
      "execution_count": 3,
      "metadata": {},
      "outputs": [],
      "source": [
        "import numpy.random as rnd\n",
        "index = list(df.index)\n",
        "rnd.shuffle(index)\n",
        "df_alea = df.iloc[index, :].reset_index(drop=True)\n",
        "X = df_alea.drop(['quality', 'color'], axis=1)\n",
        "y = df_alea['quality']"
      ]
    },
    {
      "cell_type": "code",
      "execution_count": 4,
      "metadata": {},
      "outputs": [],
      "source": [
        "from sklearn.model_selection import train_test_split\n",
        "X_train, X_test, y_train, y_test = train_test_split(X, y)"
      ]
    },
    {
      "cell_type": "markdown",
      "metadata": {},
      "source": [
        "On fait une boucle sur un param\u00e8tre."
      ]
    },
    {
      "cell_type": "code",
      "execution_count": 5,
      "metadata": {},
      "outputs": [],
      "source": [
        "from sklearn.neighbors import KNeighborsRegressor\n",
        "from sklearn.model_selection import GridSearchCV\n",
        "from sklearn.metrics import r2_score\n",
        "voisins = []\n",
        "r2s = []\n",
        "for n in range(1, 10):\n",
        "    knn = KNeighborsRegressor(n_neighbors=n)\n",
        "    knn.fit(X_train, y_train)\n",
        "    r2 = r2_score(y_test, knn.predict(X_test))\n",
        "    voisins.append(n)\n",
        "    r2s.append(r2)"
      ]
    },
    {
      "cell_type": "code",
      "execution_count": 6,
      "metadata": {},
      "outputs": [
        {
          "data": {
            "text/plain": [
              "<matplotlib.axes._subplots.AxesSubplot at 0x190f9511a90>"
            ]
          },
          "execution_count": 7,
          "metadata": {},
          "output_type": "execute_result"
        },
        {
          "data": {
            "image/png": "[encoded data removed]",
            "text/plain": [
              "<matplotlib.figure.Figure at 0x190f94fb198>"
            ]
          },
          "metadata": {},
          "output_type": "display_data"
        }
      ],
      "source": [
        "import pandas\n",
        "df = pandas.DataFrame(dict(voisin=voisins, r2=r2s))\n",
        "df.plot(x='voisin', y='r2')"
      ]
    },
    {
      "cell_type": "markdown",
      "metadata": {},
      "source": [
        "La fonction [GridSearchCV](http://scikit-learn.org/stable/modules/generated/sklearn.model_selection.GridSearchCV.html) automatise la recherche d'un optimum parmi les hyperparam\u00e8tre, elle utilise notamment la validation crois\u00e9e. On teste toutes les valeurs de $k$ de 1 \u00e0 20."
      ]
    },
    {
      "cell_type": "code",
      "execution_count": 7,
      "metadata": {},
      "outputs": [],
      "source": [
        "parameters = {'n_neighbors': list(range(1,31))}"
      ]
    },
    {
      "cell_type": "code",
      "execution_count": 8,
      "metadata": {},
      "outputs": [],
      "source": [
        "from sklearn.neighbors import KNeighborsRegressor\n",
        "from sklearn.model_selection import GridSearchCV\n",
        "knn = KNeighborsRegressor()\n",
        "grid = GridSearchCV(knn, parameters, verbose=2, return_train_score=True)"
      ]
    },
    {
      "cell_type": "code",
      "execution_count": 9,
      "metadata": {
        "scrolled": false
      },
      "outputs": [
        {
          "name": "stdout",
          "output_type": "stream",
          "text": [
            "Fitting 3 folds for each of 30 candidates, totalling 90 fits\n",
            "[CV] n_neighbors=1 ...................................................\n",
            "[CV] .................................... n_neighbors=1, total=   0.0s\n",
            "[CV] n_neighbors=1 ...................................................\n",
            "[CV] .................................... n_neighbors=1, total=   0.0s\n",
            "[CV] n_neighbors=1 ...................................................\n",
            "[CV] .................................... n_neighbors=1, total=   0.0s\n",
            "[CV] n_neighbors=2 ...................................................\n",
            "[CV] .................................... n_neighbors=2, total=   0.0s\n",
            "[CV] n_neighbors=2 ...................................................\n",
            "[CV] .................................... n_neighbors=2, total=   0.0s\n",
            "[CV] n_neighbors=2 ...................................................\n"
          ]
        },
        {
          "name": "stderr",
          "output_type": "stream",
          "text": [
            "[Parallel(n_jobs=1)]: Done   1 out of   1 | elapsed:    0.0s remaining:    0.0s\n"
          ]
        },
        {
          "name": "stdout",
          "output_type": "stream",
          "text": [
            "[CV] .................................... n_neighbors=2, total=   0.0s\n",
            "[CV] n_neighbors=3 ...................................................\n",
            "[CV] .................................... n_neighbors=3, total=   0.0s\n",
            "[CV] n_neighbors=3 ...................................................\n",
            "[CV] .................................... n_neighbors=3, total=   0.0s\n",
            "[CV] n_neighbors=3 ...................................................\n",
            "[CV] .................................... n_neighbors=3, total=   0.0s\n",
            "[CV] n_neighbors=4 ...................................................\n",
            "[CV] .................................... n_neighbors=4, total=   0.0s\n",
            "[CV] n_neighbors=4 ...................................................\n",
            "[CV] .................................... n_neighbors=4, total=   0.0s\n",
            "[CV] n_neighbors=4 ...................................................\n",
            "[CV] .................................... n_neighbors=4, total=   0.0s\n",
            "[CV] n_neighbors=5 ...................................................\n",
            "[CV] .................................... n_neighbors=5, total=   0.0s\n",
            "[CV] n_neighbors=5 ...................................................\n",
            "[CV] .................................... n_neighbors=5, total=   0.0s\n",
            "[CV] n_neighbors=5 ...................................................\n",
            "[CV] .................................... n_neighbors=5, total=   0.0s\n",
            "[CV] n_neighbors=6 ...................................................\n",
            "[CV] .................................... n_neighbors=6, total=   0.0s\n",
            "[CV] n_neighbors=6 ...................................................\n",
            "[CV] .................................... n_neighbors=6, total=   0.0s\n",
            "[CV] n_neighbors=6 ...................................................\n",
            "[CV] .................................... n_neighbors=6, total=   0.0s\n",
            "[CV] n_neighbors=7 ...................................................\n",
            "[CV] .................................... n_neighbors=7, total=   0.0s\n",
            "[CV] n_neighbors=7 ...................................................\n",
            "[CV] .................................... n_neighbors=7, total=   0.0s\n",
            "[CV] n_neighbors=7 ...................................................\n",
            "[CV] .................................... n_neighbors=7, total=   0.0s\n",
            "[CV] n_neighbors=8 ...................................................\n",
            "[CV] .................................... n_neighbors=8, total=   0.0s\n",
            "[CV] n_neighbors=8 ...................................................\n",
            "[CV] .................................... n_neighbors=8, total=   0.0s\n",
            "[CV] n_neighbors=8 ...................................................\n",
            "[CV] .................................... n_neighbors=8, total=   0.0s\n",
            "[CV] n_neighbors=9 ...................................................\n",
            "[CV] .................................... n_neighbors=9, total=   0.0s\n",
            "[CV] n_neighbors=9 ...................................................\n",
            "[CV] .................................... n_neighbors=9, total=   0.0s\n",
            "[CV] n_neighbors=9 ...................................................\n",
            "[CV] .................................... n_neighbors=9, total=   0.0s\n",
            "[CV] n_neighbors=10 ..................................................\n",
            "[CV] ................................... n_neighbors=10, total=   0.0s\n",
            "[CV] n_neighbors=10 ..................................................\n",
            "[CV] ................................... n_neighbors=10, total=   0.0s\n",
            "[CV] n_neighbors=10 ..................................................\n",
            "[CV] ................................... n_neighbors=10, total=   0.0s\n",
            "[CV] n_neighbors=11 ..................................................\n",
            "[CV] ................................... n_neighbors=11, total=   0.0s\n",
            "[CV] n_neighbors=11 ..................................................\n",
            "[CV] ................................... n_neighbors=11, total=   0.0s\n",
            "[CV] n_neighbors=11 ..................................................\n",
            "[CV] ................................... n_neighbors=11, total=   0.0s\n",
            "[CV] n_neighbors=12 ..................................................\n",
            "[CV] ................................... n_neighbors=12, total=   0.0s\n",
            "[CV] n_neighbors=12 ..................................................\n",
            "[CV] ................................... n_neighbors=12, total=   0.0s\n",
            "[CV] n_neighbors=12 ..................................................\n",
            "[CV] ................................... n_neighbors=12, total=   0.0s\n",
            "[CV] n_neighbors=13 ..................................................\n",
            "[CV] ................................... n_neighbors=13, total=   0.0s\n",
            "[CV] n_neighbors=13 ..................................................\n",
            "[CV] ................................... n_neighbors=13, total=   0.0s\n",
            "[CV] n_neighbors=13 ..................................................\n",
            "[CV] ................................... n_neighbors=13, total=   0.0s\n",
            "[CV] n_neighbors=14 ..................................................\n",
            "[CV] ................................... n_neighbors=14, total=   0.0s\n",
            "[CV] n_neighbors=14 ..................................................\n",
            "[CV] ................................... n_neighbors=14, total=   0.0s\n",
            "[CV] n_neighbors=14 ..................................................\n",
            "[CV] ................................... n_neighbors=14, total=   0.0s\n",
            "[CV] n_neighbors=15 ..................................................\n",
            "[CV] ................................... n_neighbors=15, total=   0.0s\n",
            "[CV] n_neighbors=15 ..................................................\n",
            "[CV] ................................... n_neighbors=15, total=   0.0s\n",
            "[CV] n_neighbors=15 ..................................................\n",
            "[CV] ................................... n_neighbors=15, total=   0.0s\n",
            "[CV] n_neighbors=16 ..................................................\n",
            "[CV] ................................... n_neighbors=16, total=   0.0s\n",
            "[CV] n_neighbors=16 ..................................................\n",
            "[CV] ................................... n_neighbors=16, total=   0.0s\n",
            "[CV] n_neighbors=16 ..................................................\n",
            "[CV] ................................... n_neighbors=16, total=   0.0s\n",
            "[CV] n_neighbors=17 ..................................................\n",
            "[CV] ................................... n_neighbors=17, total=   0.0s\n",
            "[CV] n_neighbors=17 ..................................................\n",
            "[CV] ................................... n_neighbors=17, total=   0.0s\n",
            "[CV] n_neighbors=17 ..................................................\n",
            "[CV] ................................... n_neighbors=17, total=   0.0s\n",
            "[CV] n_neighbors=18 ..................................................\n",
            "[CV] ................................... n_neighbors=18, total=   0.0s\n",
            "[CV] n_neighbors=18 ..................................................\n",
            "[CV] ................................... n_neighbors=18, total=   0.0s\n",
            "[CV] n_neighbors=18 ..................................................\n",
            "[CV] ................................... n_neighbors=18, total=   0.0s\n",
            "[CV] n_neighbors=19 ..................................................\n",
            "[CV] ................................... n_neighbors=19, total=   0.0s\n",
            "[CV] n_neighbors=19 ..................................................\n",
            "[CV] ................................... n_neighbors=19, total=   0.0s\n",
            "[CV] n_neighbors=19 ..................................................\n",
            "[CV] ................................... n_neighbors=19, total=   0.0s\n",
            "[CV] n_neighbors=20 ..................................................\n",
            "[CV] ................................... n_neighbors=20, total=   0.0s\n",
            "[CV] n_neighbors=20 ..................................................\n",
            "[CV] ................................... n_neighbors=20, total=   0.0s\n",
            "[CV] n_neighbors=20 ..................................................\n",
            "[CV] ................................... n_neighbors=20, total=   0.0s\n",
            "[CV] n_neighbors=21 ..................................................\n",
            "[CV] ................................... n_neighbors=21, total=   0.0s\n",
            "[CV] n_neighbors=21 ..................................................\n",
            "[CV] ................................... n_neighbors=21, total=   0.0s\n",
            "[CV] n_neighbors=21 ..................................................\n",
            "[CV] ................................... n_neighbors=21, total=   0.0s\n",
            "[CV] n_neighbors=22 ..................................................\n",
            "[CV] ................................... n_neighbors=22, total=   0.0s\n",
            "[CV] n_neighbors=22 ..................................................\n",
            "[CV] ................................... n_neighbors=22, total=   0.0s\n",
            "[CV] n_neighbors=22 ..................................................\n"
          ]
        },
        {
          "name": "stdout",
          "output_type": "stream",
          "text": [
            "[CV] ................................... n_neighbors=22, total=   0.0s\n",
            "[CV] n_neighbors=23 ..................................................\n",
            "[CV] ................................... n_neighbors=23, total=   0.0s\n",
            "[CV] n_neighbors=23 ..................................................\n",
            "[CV] ................................... n_neighbors=23, total=   0.0s\n",
            "[CV] n_neighbors=23 ..................................................\n",
            "[CV] ................................... n_neighbors=23, total=   0.0s\n",
            "[CV] n_neighbors=24 ..................................................\n",
            "[CV] ................................... n_neighbors=24, total=   0.0s\n",
            "[CV] n_neighbors=24 ..................................................\n",
            "[CV] ................................... n_neighbors=24, total=   0.0s\n",
            "[CV] n_neighbors=24 ..................................................\n",
            "[CV] ................................... n_neighbors=24, total=   0.0s\n",
            "[CV] n_neighbors=25 ..................................................\n",
            "[CV] ................................... n_neighbors=25, total=   0.0s\n",
            "[CV] n_neighbors=25 ..................................................\n",
            "[CV] ................................... n_neighbors=25, total=   0.0s\n",
            "[CV] n_neighbors=25 ..................................................\n",
            "[CV] ................................... n_neighbors=25, total=   0.0s\n",
            "[CV] n_neighbors=26 ..................................................\n",
            "[CV] ................................... n_neighbors=26, total=   0.0s\n",
            "[CV] n_neighbors=26 ..................................................\n",
            "[CV] ................................... n_neighbors=26, total=   0.0s\n",
            "[CV] n_neighbors=26 ..................................................\n",
            "[CV] ................................... n_neighbors=26, total=   0.0s\n",
            "[CV] n_neighbors=27 ..................................................\n",
            "[CV] ................................... n_neighbors=27, total=   0.0s\n",
            "[CV] n_neighbors=27 ..................................................\n",
            "[CV] ................................... n_neighbors=27, total=   0.0s\n",
            "[CV] n_neighbors=27 ..................................................\n",
            "[CV] ................................... n_neighbors=27, total=   0.0s\n",
            "[CV] n_neighbors=28 ..................................................\n",
            "[CV] ................................... n_neighbors=28, total=   0.0s\n",
            "[CV] n_neighbors=28 ..................................................\n",
            "[CV] ................................... n_neighbors=28, total=   0.0s\n",
            "[CV] n_neighbors=28 ..................................................\n",
            "[CV] ................................... n_neighbors=28, total=   0.0s\n",
            "[CV] n_neighbors=29 ..................................................\n",
            "[CV] ................................... n_neighbors=29, total=   0.0s\n",
            "[CV] n_neighbors=29 ..................................................\n",
            "[CV] ................................... n_neighbors=29, total=   0.0s\n",
            "[CV] n_neighbors=29 ..................................................\n",
            "[CV] ................................... n_neighbors=29, total=   0.0s\n",
            "[CV] n_neighbors=30 ..................................................\n",
            "[CV] ................................... n_neighbors=30, total=   0.0s\n",
            "[CV] n_neighbors=30 ..................................................\n",
            "[CV] ................................... n_neighbors=30, total=   0.0s\n",
            "[CV] n_neighbors=30 ..................................................\n",
            "[CV] ................................... n_neighbors=30, total=   0.0s\n"
          ]
        },
        {
          "name": "stderr",
          "output_type": "stream",
          "text": [
            "[Parallel(n_jobs=1)]: Done  90 out of  90 | elapsed:    7.0s finished\n"
          ]
        },
        {
          "data": {
            "text/plain": [
              "GridSearchCV(cv=None, error_score='raise',\n",
              "       estimator=KNeighborsRegressor(algorithm='auto', leaf_size=30, metric='minkowski',\n",
              "          metric_params=None, n_jobs=1, n_neighbors=5, p=2,\n",
              "          weights='uniform'),\n",
              "       fit_params=None, iid=True, n_jobs=1,\n",
              "       param_grid={'n_neighbors': [1, 2, 3, 4, 5, 6, 7, 8, 9, 10, 11, 12, 13, 14, 15, 16, 17, 18, 19, 20, 21, 22, 23, 24, 25, 26, 27, 28, 29, 30]},\n",
              "       pre_dispatch='2*n_jobs', refit=True, return_train_score=True,\n",
              "       scoring=None, verbose=2)"
            ]
          },
          "execution_count": 10,
          "metadata": {},
          "output_type": "execute_result"
        }
      ],
      "source": [
        "grid.fit(X, y)"
      ]
    },
    {
      "cell_type": "code",
      "execution_count": 10,
      "metadata": {},
      "outputs": [
        {
          "data": {
            "image/png": "[encoded data removed]",
            "text/plain": [
              "<matplotlib.figure.Figure at 0x190f95692b0>"
            ]
          },
          "metadata": {},
          "output_type": "display_data"
        }
      ],
      "source": [
        "res = grid.cv_results_\n",
        "k = res['param_n_neighbors']\n",
        "train_score = res['mean_train_score']\n",
        "test_score = res['mean_test_score']\n",
        "\n",
        "import pandas\n",
        "df_score = pandas.DataFrame(dict(k=k, test=test_score, train=train_score))\n",
        "ax = df_score.plot(x='k', y='train', figsize=(3, 3))\n",
        "df_score.plot(x='k', y='test', figsize=(6, 3), ax=ax, grid=True);"
      ]
    },
    {
      "cell_type": "markdown",
      "metadata": {},
      "source": [
        "On voit que le mod\u00e8le gagne en pertinence sur la base de test et que le nombre de voisins optimal parmi ceux essay\u00e9s se situe autour de 15."
      ]
    },
    {
      "cell_type": "code",
      "execution_count": 11,
      "metadata": {},
      "outputs": [
        {
          "data": {
            "text/html": [
              "<div>\n",
              "<style scoped>\n",
              "    .dataframe tbody tr th:only-of-type {\n",
              "        vertical-align: middle;\n",
              "    }\n",
              "\n",
              "    .dataframe tbody tr th {\n",
              "        vertical-align: top;\n",
              "    }\n",
              "\n",
              "    .dataframe thead th {\n",
              "        text-align: right;\n",
              "    }\n",
              "</style>\n",
              "<table border=\"1\" class=\"dataframe\">\n",
              "  <thead>\n",
              "    <tr style=\"text-align: right;\">\n",
              "      <th></th>\n",
              "      <th>k</th>\n",
              "      <th>test</th>\n",
              "      <th>train</th>\n",
              "    </tr>\n",
              "  </thead>\n",
              "  <tbody>\n",
              "    <tr>\n",
              "      <th>12</th>\n",
              "      <td>13</td>\n",
              "      <td>0.161781</td>\n",
              "      <td>0.276205</td>\n",
              "    </tr>\n",
              "    <tr>\n",
              "      <th>13</th>\n",
              "      <td>14</td>\n",
              "      <td>0.160786</td>\n",
              "      <td>0.269488</td>\n",
              "    </tr>\n",
              "    <tr>\n",
              "      <th>14</th>\n",
              "      <td>15</td>\n",
              "      <td>0.159016</td>\n",
              "      <td>0.262146</td>\n",
              "    </tr>\n",
              "    <tr>\n",
              "      <th>15</th>\n",
              "      <td>16</td>\n",
              "      <td>0.158545</td>\n",
              "      <td>0.254862</td>\n",
              "    </tr>\n",
              "    <tr>\n",
              "      <th>16</th>\n",
              "      <td>17</td>\n",
              "      <td>0.158590</td>\n",
              "      <td>0.248353</td>\n",
              "    </tr>\n",
              "  </tbody>\n",
              "</table>\n",
              "</div>"
            ],
            "text/plain": [
              "     k      test     train\n",
              "12  13  0.161781  0.276205\n",
              "13  14  0.160786  0.269488\n",
              "14  15  0.159016  0.262146\n",
              "15  16  0.158545  0.254862\n",
              "16  17  0.158590  0.248353"
            ]
          },
          "execution_count": 12,
          "metadata": {},
          "output_type": "execute_result"
        }
      ],
      "source": [
        "df_score[12:17]"
      ]
    },
    {
      "cell_type": "markdown",
      "metadata": {},
      "source": [
        "L'erreur sur la base d'apprentissage augmente de mani\u00e8re sensible ($R^2$ baisse). Voyons ce qu'il en est un peu plus loin."
      ]
    },
    {
      "cell_type": "code",
      "execution_count": 12,
      "metadata": {
        "scrolled": false
      },
      "outputs": [
        {
          "name": "stdout",
          "output_type": "stream",
          "text": [
            "Fitting 3 folds for each of 18 candidates, totalling 54 fits\n",
            "[CV] n_neighbors=5 ...................................................\n",
            "[CV] .................................... n_neighbors=5, total=   0.0s\n",
            "[CV] n_neighbors=5 ...................................................\n",
            "[CV] .................................... n_neighbors=5, total=   0.0s\n",
            "[CV] n_neighbors=5 ...................................................\n",
            "[CV] .................................... n_neighbors=5, total=   0.0s\n",
            "[CV] n_neighbors=10 ..................................................\n"
          ]
        },
        {
          "name": "stderr",
          "output_type": "stream",
          "text": [
            "[Parallel(n_jobs=1)]: Done   1 out of   1 | elapsed:    0.0s remaining:    0.0s\n"
          ]
        },
        {
          "name": "stdout",
          "output_type": "stream",
          "text": [
            "[CV] ................................... n_neighbors=10, total=   0.0s\n",
            "[CV] n_neighbors=10 ..................................................\n",
            "[CV] ................................... n_neighbors=10, total=   0.0s\n",
            "[CV] n_neighbors=10 ..................................................\n",
            "[CV] ................................... n_neighbors=10, total=   0.0s\n",
            "[CV] n_neighbors=15 ..................................................\n",
            "[CV] ................................... n_neighbors=15, total=   0.0s\n",
            "[CV] n_neighbors=15 ..................................................\n",
            "[CV] ................................... n_neighbors=15, total=   0.0s\n",
            "[CV] n_neighbors=15 ..................................................\n",
            "[CV] ................................... n_neighbors=15, total=   0.0s\n",
            "[CV] n_neighbors=20 ..................................................\n",
            "[CV] ................................... n_neighbors=20, total=   0.0s\n",
            "[CV] n_neighbors=20 ..................................................\n",
            "[CV] ................................... n_neighbors=20, total=   0.0s\n",
            "[CV] n_neighbors=20 ..................................................\n",
            "[CV] ................................... n_neighbors=20, total=   0.0s\n",
            "[CV] n_neighbors=25 ..................................................\n",
            "[CV] ................................... n_neighbors=25, total=   0.0s\n",
            "[CV] n_neighbors=25 ..................................................\n",
            "[CV] ................................... n_neighbors=25, total=   0.0s\n",
            "[CV] n_neighbors=25 ..................................................\n",
            "[CV] ................................... n_neighbors=25, total=   0.0s\n",
            "[CV] n_neighbors=30 ..................................................\n",
            "[CV] ................................... n_neighbors=30, total=   0.0s\n",
            "[CV] n_neighbors=30 ..................................................\n",
            "[CV] ................................... n_neighbors=30, total=   0.0s\n",
            "[CV] n_neighbors=30 ..................................................\n",
            "[CV] ................................... n_neighbors=30, total=   0.0s\n",
            "[CV] n_neighbors=35 ..................................................\n",
            "[CV] ................................... n_neighbors=35, total=   0.0s\n",
            "[CV] n_neighbors=35 ..................................................\n",
            "[CV] ................................... n_neighbors=35, total=   0.0s\n",
            "[CV] n_neighbors=35 ..................................................\n",
            "[CV] ................................... n_neighbors=35, total=   0.0s\n",
            "[CV] n_neighbors=40 ..................................................\n",
            "[CV] ................................... n_neighbors=40, total=   0.0s\n",
            "[CV] n_neighbors=40 ..................................................\n",
            "[CV] ................................... n_neighbors=40, total=   0.0s\n",
            "[CV] n_neighbors=40 ..................................................\n",
            "[CV] ................................... n_neighbors=40, total=   0.0s\n",
            "[CV] n_neighbors=45 ..................................................\n",
            "[CV] ................................... n_neighbors=45, total=   0.0s\n",
            "[CV] n_neighbors=45 ..................................................\n",
            "[CV] ................................... n_neighbors=45, total=   0.0s\n",
            "[CV] n_neighbors=45 ..................................................\n",
            "[CV] ................................... n_neighbors=45, total=   0.0s\n",
            "[CV] n_neighbors=50 ..................................................\n",
            "[CV] ................................... n_neighbors=50, total=   0.0s\n",
            "[CV] n_neighbors=50 ..................................................\n",
            "[CV] ................................... n_neighbors=50, total=   0.0s\n",
            "[CV] n_neighbors=50 ..................................................\n",
            "[CV] ................................... n_neighbors=50, total=   0.0s\n",
            "[CV] n_neighbors=50 ..................................................\n",
            "[CV] ................................... n_neighbors=50, total=   0.0s\n",
            "[CV] n_neighbors=50 ..................................................\n",
            "[CV] ................................... n_neighbors=50, total=   0.0s\n",
            "[CV] n_neighbors=50 ..................................................\n",
            "[CV] ................................... n_neighbors=50, total=   0.0s\n",
            "[CV] n_neighbors=70 ..................................................\n",
            "[CV] ................................... n_neighbors=70, total=   0.0s\n",
            "[CV] n_neighbors=70 ..................................................\n",
            "[CV] ................................... n_neighbors=70, total=   0.0s\n",
            "[CV] n_neighbors=70 ..................................................\n",
            "[CV] ................................... n_neighbors=70, total=   0.0s\n",
            "[CV] n_neighbors=90 ..................................................\n",
            "[CV] ................................... n_neighbors=90, total=   0.0s\n",
            "[CV] n_neighbors=90 ..................................................\n",
            "[CV] ................................... n_neighbors=90, total=   0.0s\n",
            "[CV] n_neighbors=90 ..................................................\n",
            "[CV] ................................... n_neighbors=90, total=   0.0s\n",
            "[CV] n_neighbors=110 .................................................\n",
            "[CV] .................................. n_neighbors=110, total=   0.0s\n",
            "[CV] n_neighbors=110 .................................................\n",
            "[CV] .................................. n_neighbors=110, total=   0.0s\n",
            "[CV] n_neighbors=110 .................................................\n",
            "[CV] .................................. n_neighbors=110, total=   0.0s\n",
            "[CV] n_neighbors=130 .................................................\n",
            "[CV] .................................. n_neighbors=130, total=   0.0s\n",
            "[CV] n_neighbors=130 .................................................\n",
            "[CV] .................................. n_neighbors=130, total=   0.0s\n",
            "[CV] n_neighbors=130 .................................................\n",
            "[CV] .................................. n_neighbors=130, total=   0.0s\n",
            "[CV] n_neighbors=150 .................................................\n",
            "[CV] .................................. n_neighbors=150, total=   0.0s\n",
            "[CV] n_neighbors=150 .................................................\n",
            "[CV] .................................. n_neighbors=150, total=   0.0s\n",
            "[CV] n_neighbors=150 .................................................\n",
            "[CV] .................................. n_neighbors=150, total=   0.0s\n",
            "[CV] n_neighbors=170 .................................................\n",
            "[CV] .................................. n_neighbors=170, total=   0.0s\n",
            "[CV] n_neighbors=170 .................................................\n",
            "[CV] .................................. n_neighbors=170, total=   0.0s\n",
            "[CV] n_neighbors=170 .................................................\n",
            "[CV] .................................. n_neighbors=170, total=   0.0s\n",
            "[CV] n_neighbors=190 .................................................\n",
            "[CV] .................................. n_neighbors=190, total=   0.0s\n",
            "[CV] n_neighbors=190 .................................................\n",
            "[CV] .................................. n_neighbors=190, total=   0.0s\n",
            "[CV] n_neighbors=190 .................................................\n",
            "[CV] .................................. n_neighbors=190, total=   0.0s\n"
          ]
        },
        {
          "name": "stderr",
          "output_type": "stream",
          "text": [
            "[Parallel(n_jobs=1)]: Done  54 out of  54 | elapsed:    8.5s finished\n"
          ]
        },
        {
          "data": {
            "text/plain": [
              "GridSearchCV(cv=None, error_score='raise',\n",
              "       estimator=KNeighborsRegressor(algorithm='auto', leaf_size=30, metric='minkowski',\n",
              "          metric_params=None, n_jobs=1, n_neighbors=5, p=2,\n",
              "          weights='uniform'),\n",
              "       fit_params=None, iid=True, n_jobs=1,\n",
              "       param_grid={'n_neighbors': [5, 10, 15, 20, 25, 30, 35, 40, 45, 50, 50, 70, 90, 110, 130, 150, 170, 190]},\n",
              "       pre_dispatch='2*n_jobs', refit=True, return_train_score=True,\n",
              "       scoring=None, verbose=2)"
            ]
          },
          "execution_count": 13,
          "metadata": {},
          "output_type": "execute_result"
        }
      ],
      "source": [
        "parameters = {'n_neighbors': list(range(5, 51, 5)) + list(range(50, 201, 20))}\n",
        "grid = GridSearchCV(knn, parameters, verbose=2, return_train_score=True)\n",
        "grid.fit(X, y)"
      ]
    },
    {
      "cell_type": "code",
      "execution_count": 13,
      "metadata": {},
      "outputs": [
        {
          "data": {
            "image/png": "[encoded data removed]",
            "text/plain": [
              "<matplotlib.figure.Figure at 0x190f955ba90>"
            ]
          },
          "metadata": {},
          "output_type": "display_data"
        }
      ],
      "source": [
        "res = grid.cv_results_\n",
        "k = res['param_n_neighbors']\n",
        "train_score = res['mean_train_score']\n",
        "test_score = res['mean_test_score']\n",
        "\n",
        "import pandas\n",
        "df_score = pandas.DataFrame(dict(k=k, test=test_score, train=train_score))\n",
        "ax = df_score.plot(x='k', y='train', figsize=(3, 3))\n",
        "df_score.plot(x='k', y='test', figsize=(6, 3), ax=ax, grid=True);"
      ]
    },
    {
      "cell_type": "markdown",
      "metadata": {},
      "source": [
        "Apr\u00e8s 25 voisins, la pertinence du mod\u00e8le d\u00e9cro\u00eet fortement."
      ]
    },
    {
      "cell_type": "code",
      "execution_count": 14,
      "metadata": {},
      "outputs": [],
      "source": []
    }
  ],
  "metadata": {
    "kernelspec": {
      "display_name": "Python 3",
      "language": "python",
      "name": "python3"
    },
    "language_info": {
      "codemirror_mode": {
        "name": "ipython",
        "version": 3
      },
      "file_extension": ".py",
      "mimetype": "text/x-python",
      "name": "python",
      "nbconvert_exporter": "python",
      "pygments_lexer": "ipython3",
      "version": "3.6.4"
    }
  },
  "nbformat": 4,
  "nbformat_minor": 2
}